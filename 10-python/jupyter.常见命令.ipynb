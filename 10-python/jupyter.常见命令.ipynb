{
 "cells": [
  {
   "cell_type": "markdown",
   "id": "c61494bc-3e86-45c3-8e49-621b132f9ace",
   "metadata": {},
   "source": [
    "# jupyter 常用\n",
    "\n",
    "## jupyter 转换 markdown\n",
    "\n",
    "> pip install pandoc\n",
    "> pip install nbconvert\n",
    "> jupyter nbconvert --to FORMAT notebook.ipynb\n",
    "    > 举例: jupyter nbconvert --to markdown notebook.ipynb"
   ]
  },
  {
   "cell_type": "code",
   "execution_count": null,
   "id": "22d6f7de-ed00-440c-9e96-9e13ef4c0b23",
   "metadata": {},
   "outputs": [],
   "source": []
  }
 ],
 "metadata": {
  "kernelspec": {
   "display_name": "Python 3.9.6 ('py39')",
   "language": "python",
   "name": "python3"
  },
  "language_info": {
   "codemirror_mode": {
    "name": "ipython",
    "version": 3
   },
   "file_extension": ".py",
   "mimetype": "text/x-python",
   "name": "python",
   "nbconvert_exporter": "python",
   "pygments_lexer": "ipython3",
   "version": "3.9.6"
  },
  "vscode": {
   "interpreter": {
    "hash": "dbc1128b55dfe7674910d9dec9178b9135ab71c646c7080f47e59389499c8905"
   }
  },
  "widgets": {
   "application/vnd.jupyter.widget-state+json": {
    "state": {},
    "version_major": 2,
    "version_minor": 0
   }
  }
 },
 "nbformat": 4,
 "nbformat_minor": 5
}
