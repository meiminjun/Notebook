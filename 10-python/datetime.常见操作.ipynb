{
 "cells": [
  {
   "cell_type": "markdown",
   "metadata": {},
   "source": [
    "# python 的时间操作"
   ]
  },
  {
   "cell_type": "markdown",
   "metadata": {},
   "source": [
    "## 引入库"
   ]
  },
  {
   "cell_type": "code",
   "execution_count": 2,
   "metadata": {},
   "outputs": [],
   "source": [
    "from datetime import datetime, date, timedelta\n",
    "import time"
   ]
  },
  {
   "cell_type": "markdown",
   "metadata": {},
   "source": [
    "## 一、今天\n",
    "\n",
    "\n"
   ]
  },
  {
   "cell_type": "code",
   "execution_count": 17,
   "metadata": {},
   "outputs": [
    {
     "name": "stdout",
     "output_type": "stream",
     "text": [
      "2021-09-16 10:28:45\n"
     ]
    }
   ],
   "source": [
    "# 第一种方式（更准确）：\n",
    "today = time.strftime(\"%Y-%m-%d %H:%M:%S\", time.localtime())\n",
    "print(today)\n",
    "# 第二种方式\n",
    "# print(date.today())\n",
    "# date.today().strftime(\"%Y-%m-%d %H:%M:%S\")\n"
   ]
  },
  {
   "cell_type": "markdown",
   "metadata": {},
   "source": [
    "## 二、昨天\n",
    "\n",
    "```python\n",
    "yesterday = (date.today() + timedelta(days = -1)).strftime(\"%Y-%m-%d\") \n",
    "```\n"
   ]
  },
  {
   "cell_type": "code",
   "execution_count": 19,
   "metadata": {},
   "outputs": [
    {
     "name": "stdout",
     "output_type": "stream",
     "text": [
      "src utc time:\t 2021-09-16 02:46:42\n",
      "tran loc time:\t 2021-09-16 10:46:42\n",
      "tran utc time:\t 2021-09-16 02:46:42\n"
     ]
    }
   ],
   "source": [
    "def utc2local(utc_dtm):\n",
    "    # UTC 时间转本地时间（ +8:00 ）\n",
    "    local_tm = datetime.fromtimestamp(0)\n",
    "    utc_tm = datetime.utcfromtimestamp(0)\n",
    "    offset = local_tm - utc_tm\n",
    "    return utc_dtm + offset\n",
    "\n",
    "\n",
    "def local2utc(local_dtm):\n",
    "    # 本地时间转 UTC 时间（ -8:00 ）\n",
    "    return datetime.utcfromtimestamp(local_dtm.timestamp())\n",
    "\n",
    "utc_tm = datetime.utcnow()\n",
    "# utc_tm = datetime(2012, 10, 26, 10, 00, 00)\n",
    "\n",
    "print(\"src utc time:\\t\", utc_tm.strftime(\"%Y-%m-%d %H:%M:%S\"))\n",
    "\n",
    "# UTC 转本地\n",
    "local_tm = utc2local(utc_tm)\n",
    "print(\"tran loc time:\\t\", local_tm.strftime(\"%Y-%m-%d %H:%M:%S\"))\n",
    "\n",
    "# 本地转 UTC\n",
    "utc_tran = local2utc(local_tm)\n",
    "print(\"tran utc time:\\t\", utc_tran.strftime(\"%Y-%m-%d %H:%M:%S\"))\n"
   ]
  },
  {
   "cell_type": "markdown",
   "metadata": {},
   "source": [
    "## 三、时间格式转字符串"
   ]
  },
  {
   "cell_type": "code",
   "execution_count": 4,
   "metadata": {},
   "outputs": [
    {
     "name": "stdout",
     "output_type": "stream",
     "text": [
      "2021-10-02 <class 'datetime.date'>\n",
      "2021-10-02 <class 'str'>\n"
     ]
    }
   ],
   "source": [
    "date_p = datetime.now().date()\n",
    "\n",
    "str_p = str(date_p)\n",
    "\n",
    "print(date_p, type(date_p))  # 2019-01-30\n",
    "\n",
    "print(str_p, type(str_p))  # 2019-01-30\n"
   ]
  },
  {
   "cell_type": "markdown",
   "metadata": {},
   "source": [
    "## 四、字符串转时间格式"
   ]
  },
  {
   "cell_type": "code",
   "execution_count": 8,
   "metadata": {},
   "outputs": [
    {
     "name": "stdout",
     "output_type": "stream",
     "text": [
      "2019-01-30 15:29:08 <class 'datetime.datetime'>\n"
     ]
    }
   ],
   "source": [
    "str_p = '2019-01-30 15:29:08'\n",
    "\n",
    "dateTime_p = datetime.strptime(str_p, '%Y-%m-%d %H:%M:%S')\n",
    "\n",
    "print(dateTime_p, type(dateTime_p))  # 2019-01-30 15:29:08\n"
   ]
  },
  {
   "cell_type": "markdown",
   "metadata": {},
   "source": [
    "## 常用时间集合\n",
    "\n",
    "* %y 两位数的年份表示（00-99）\n",
    "* %Y 四位数的年份表示（000-9999）\n",
    "* %m 月份（01-12）\n",
    "* %d 月内中的一天（0-31）\n",
    "* %H 24小时制小时数（0-23）\n",
    "* %I 12小时制小时数（01-12）\n",
    "* %M 分钟数（00=59）\n",
    "* %S 秒（00-59）\n",
    "* %a 本地简化星期名称\n",
    "* %A 本地完整星期名称\n",
    "* %b 本地简化的月份名称\n",
    "* %B 本地完整的月份名称\n",
    "* %c 本地相应的日期表示和时间表示\n",
    "* %j 年内的一天（001-366）\n",
    "* %p 本地A.M.或P.M.的等价符\n",
    "* %U 一年中的星期数（00-53）星期天为星期的开始\n",
    "* %w 星期（0-6），星期天为星期的开始\n",
    "* %W 一年中的星期数（00-53）星期一为星期的开始\n",
    "* %x 本地相应的日期表示\n",
    "* %X 本地相应的时间表示\n",
    "* %Z 当前时区的名称\n",
    "* %% %号本身"
   ]
  },
  {
   "cell_type": "code",
   "execution_count": 4,
   "metadata": {},
   "outputs": [
    {
     "name": "stdout",
     "output_type": "stream",
     "text": [
      "时间：(%Y-%m-%d %H:%M:%S %f):  2021-11-09 17:31:43 153857\n",
      "时间：(%Y-%m-%d %H:%M:%S %p):  21-11-09 05:31:43 PM\n",
      "星期缩写%a: Tue \n",
      "星期全拼%A: Tuesday \n",
      "月份缩写%b: Nov \n",
      "月份全批%B: November \n",
      "日期时间%c: Tue Nov  9 17:31:43 2021 \n",
      "今天是这周的第2天 \n",
      "今天是今年的第313天 \n",
      "今周是今年的第45周 \n",
      "今天是当月的第09天 \n"
     ]
    }
   ],
   "source": [
    "dt = datetime.now()\n",
    "print('时间：(%Y-%m-%d %H:%M:%S %f): ', dt.strftime('%Y-%m-%d %H:%M:%S %f'))\n",
    "print('时间：(%Y-%m-%d %H:%M:%S %p): ', dt.strftime('%y-%m-%d %I:%M:%S %p'))\n",
    "print('星期缩写%%a: %s ' % dt.strftime('%a'))\n",
    "print('星期全拼%%A: %s ' % dt.strftime('%A'))\n",
    "print('月份缩写%%b: %s ' % dt.strftime('%b'))\n",
    "print('月份全批%%B: %s ' % dt.strftime('%B'))\n",
    "print('日期时间%%c: %s ' % dt.strftime('%c'))\n",
    "print('今天是这周的第%s天 ' % dt.strftime('%w'))\n",
    "print('今天是今年的第%s天 ' % dt.strftime('%j'))\n",
    "print('今周是今年的第%s周 ' % dt.strftime('%U'))\n",
    "print('今天是当月的第%s天 ' % dt.strftime('%d'))"
   ]
  },
  {
   "cell_type": "markdown",
   "metadata": {},
   "source": [
    "## dataframe 中的时间处理\n",
    "\n",
    "**在读取pd.to_csv 时，每次都是str 类型，这时候就需要转换为时间格式**\n"
   ]
  },
  {
   "cell_type": "markdown",
   "metadata": {},
   "source": [
    "### 方式一：parse_dates 指定列（最佳方式）\n",
    "\n",
    "```bash\n",
    "df = pd.read_csv(\n",
    "      f'./stock_kline_data/{file_name}.csv', parse_dates=['交易日期'])\n",
    "```\n",
    "\n",
    "### 方式二：to_datetime 方法（推荐）：\n",
    "\n",
    "```bash\n",
    "df.index = pd.to_datetime(df.index)\n",
    "```\n",
    "\n",
    "### 方式三: 处理单独列方法转换：\n",
    "\n",
    "```bash\n",
    "\n",
    "def str_to_date(str_p):\n",
    "  return datetime.strptime(str_p, '%Y-%m-%d')\n",
    "\n",
    "df.index = df.index.map(str_to_date)\n",
    "```\n"
   ]
  },
  {
   "cell_type": "markdown",
   "metadata": {},
   "source": [
    "## 五、[日期神器-pendulum](https://mp.weixin.qq.com/s?src=11&timestamp=1633661554&ver=3361&signature=B5ZLgnPnxngUf1Iu8MJWiWuuqNB29mfpKWuvvK9W5LvuQyZ7r4ouQHG6AqqXkB8BoZwllAT1NwjMFZxSFdqT8iAzHJNDtNDyHNftU9w0AX-6*xi1Y65-on7AA*Q4MGoU&new=1)\n",
    "\n",
    "参考： `https://mp.weixin.qq.com/s?src=11&timestamp=1633661554&ver=3361&signature=B5ZLgnPnxngUf1Iu8MJWiWuuqNB29mfpKWuvvK9W5LvuQyZ7r4ouQHG6AqqXkB8BoZwllAT1NwjMFZxSFdqT8iAzHJNDtNDyHNftU9w0AX-6*xi1Y65-on7AA*Q4MGoU&new=1`"
   ]
  },
  {
   "cell_type": "code",
   "execution_count": 4,
   "metadata": {},
   "outputs": [],
   "source": [
    "import pendulum"
   ]
  },
  {
   "cell_type": "markdown",
   "metadata": {},
   "source": [
    "### 1. 昨天、今天、明天"
   ]
  },
  {
   "cell_type": "code",
   "execution_count": 8,
   "metadata": {},
   "outputs": [
    {
     "name": "stdout",
     "output_type": "stream",
     "text": [
      "昨天:  2021-10-07T00:00:00+08:00\n",
      "今天:  2021-10-08T00:00:00+08:00\n",
      "明天:  2021-10-09T00:00:00+08:00\n",
      "相差多少天:  1\n",
      "现在:  2021-10-08T10:57:38.376706+08:00\n"
     ]
    }
   ],
   "source": [
    "\n",
    "d1 = pendulum.yesterday()  # 昨天\n",
    "# 2021-10-02T00:00:00+08:00\n",
    "\n",
    "print('昨天: ',d1)\n",
    "\n",
    "d2 = pendulum.today()  # 今天\n",
    "# 2021-10-03T00:00:00+08:00\n",
    "\n",
    "print('今天: ', d2)\n",
    "\n",
    "d3 = pendulum.tomorrow()  # 明天\n",
    "# 2021-10-04T00:00:00+08:00\n",
    "\n",
    "print('明天: ', d3)\n",
    "\n",
    "d4= d2.diff(d1).in_days()  # 相差多少天\n",
    "\n",
    "print('相差多少天: ', d4)\n",
    "\n",
    "d2.diff(d1).in_hours()  # 相差多少小时\n",
    "# 47\n",
    "\n",
    "print('现在: ', pendulum.now())  # 现在的时间\n"
   ]
  },
  {
   "cell_type": "markdown",
   "metadata": {},
   "source": [
    "### 2. 时间转字符串\n",
    "\n",
    "* to_date_string 转化日期\n",
    "* to_datetime_string 转化日期和时间\n",
    "* to_time_string 转化时间\n",
    "* to_formatted_date_string 转化为英文书写形式\n",
    "* format 安装指定格式转化\n",
    "* strftime 同 datetime 的格式化方法"
   ]
  },
  {
   "cell_type": "code",
   "execution_count": 20,
   "metadata": {},
   "outputs": [
    {
     "name": "stdout",
     "output_type": "stream",
     "text": [
      "1:  2021-10-08\n",
      "2:  Oct 08, 2021\n",
      "3:  11:06:17\n",
      "4:  2021-10-08 11:06:17\n",
      "5:  Fri, Oct 8, 2021 11:06 AM\n",
      "6:  Friday 8th of October 2021 11:06:17 AM\n",
      "7:  Friday 8\t of October 2021 11:06:17 AM\n"
     ]
    }
   ],
   "source": [
    "dt = pendulum.now()\n",
    "print('1: ',dt.to_date_string())\n",
    "# '1975-12-25'\n",
    "\n",
    "print('2: ',dt.to_formatted_date_string())\n",
    "# 'Dec 25, 1975'\n",
    "\n",
    "print('3: ', dt.to_time_string())\n",
    "# '14:15:16'\n",
    "\n",
    "print('4: ', dt.to_datetime_string())\n",
    "# '1975-12-25 14:15:16'\n",
    "\n",
    "print('5: ', dt.to_day_datetime_string())\n",
    "# 'Thu, Dec 25, 1975 2:15 PM'\n",
    "\n",
    "# You can also use the format() method\n",
    "print('6: ', dt.format('dddd Do [of] MMMM YYYY HH:mm:ss A'))\n",
    "# 'Friday 8\t of October 2021 11:05:51 AM'\n",
    "\n",
    "# Of course, the strftime method is still available\n",
    "print('7: ', dt.strftime('%A %-d%t of %B %Y %I:%M:%S %p'))\n",
    "# 'Thursday 25th of December 1975 02:15:16 PM'\n"
   ]
  },
  {
   "cell_type": "markdown",
   "metadata": {},
   "source": [
    "### 3. 字符串转化为时间类型"
   ]
  },
  {
   "cell_type": "markdown",
   "metadata": {},
   "source": [
    "* 可以直接转化，也可以在转化时指定时区\n",
    "* 支持多种时间格式，如果不是标准的时间格式，需要添加参数 strict=False，这样 Pendulum 就会尽最大可能去猜"
   ]
  },
  {
   "cell_type": "code",
   "execution_count": 22,
   "metadata": {},
   "outputs": [
    {
     "name": "stdout",
     "output_type": "stream",
     "text": [
      "1:  1975-05-21T22:00:00+00:00\n",
      "2:  1975-05-21T22:00:00+01:00\n",
      "3:  1975-05-21T22:00:00+00:00\n",
      "4:  2031-01-01T00:00:00+00:00\n",
      "5:  2031-01-01T00:00:00+00:00\n",
      "6:  2031-01-01T00:00:00+00:00\n"
     ]
    }
   ],
   "source": [
    "dt = pendulum.parse('1975-05-21T22:00:00')\n",
    "print('1: ', dt)\n",
    "# '1975-05-21T22:00:00+00:00\n",
    "\n",
    "# You can pass a tz keyword to specify the timezone\n",
    "dt2 = pendulum.parse('1975-05-21T22:00:00', tz='Europe/Paris')\n",
    "print('2: ', dt2)\n",
    "# '1975-05-21T22:00:00+01:00'\n",
    "\n",
    "# Not ISO 8601 compliant but common\n",
    "dt3 = pendulum.parse('1975-05-21 22:00:00')\n",
    "print('3: ', dt3)\n",
    "\n",
    "dt4 = pendulum.parse('31-01-01', strict=False)\n",
    "print('4: ', dt4)\n",
    "\n",
    "dt5 = pendulum.parse('31/01/01', strict=False)\n",
    "print('5: ', dt5)\n",
    "\n",
    "\n",
    "dt6 = pendulum.parse('31/1/1', strict=False)\n",
    "print('6: ', dt6)\n"
   ]
  }
 ],
 "metadata": {
  "interpreter": {
   "hash": "dbc1128b55dfe7674910d9dec9178b9135ab71c646c7080f47e59389499c8905"
  },
  "kernelspec": {
   "display_name": "Python 3.9.6 64-bit ('py39': conda)",
   "name": "python3"
  },
  "language_info": {
   "codemirror_mode": {
    "name": "ipython",
    "version": 3
   },
   "file_extension": ".py",
   "mimetype": "text/x-python",
   "name": "python",
   "nbconvert_exporter": "python",
   "pygments_lexer": "ipython3",
   "version": "3.9.6"
  },
  "orig_nbformat": 4
 },
 "nbformat": 4,
 "nbformat_minor": 2
}
