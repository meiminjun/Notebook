{
 "cells": [
  {
   "cell_type": "markdown",
   "source": [
    "# python 的时间操作"
   ],
   "metadata": {}
  },
  {
   "cell_type": "markdown",
   "source": [
    "## 引入库"
   ],
   "metadata": {}
  },
  {
   "cell_type": "code",
   "execution_count": 2,
   "source": [
    "from datetime import datetime, date, timedelta\n",
    "import time"
   ],
   "outputs": [],
   "metadata": {}
  },
  {
   "cell_type": "markdown",
   "source": [
    "## 一、今天\n",
    "\n",
    "\n"
   ],
   "metadata": {}
  },
  {
   "cell_type": "code",
   "execution_count": 17,
   "source": [
    "# 第一种方式（更准确）：\n",
    "today = time.strftime(\"%Y-%m-%d %H:%M:%S\", time.localtime())\n",
    "print(today)\n",
    "# 第二种方式\n",
    "# print(date.today())\n",
    "# date.today().strftime(\"%Y-%m-%d %H:%M:%S\")\n"
   ],
   "outputs": [
    {
     "output_type": "stream",
     "name": "stdout",
     "text": [
      "2021-09-16 10:28:45\n"
     ]
    }
   ],
   "metadata": {}
  },
  {
   "cell_type": "markdown",
   "source": [
    "## 二、昨天\n",
    "\n",
    "```python\n",
    "yesterday = (date.today() + timedelta(days = -1)).strftime(\"%Y-%m-%d\") \n",
    "```\n"
   ],
   "metadata": {}
  },
  {
   "cell_type": "code",
   "execution_count": 19,
   "source": [
    "def utc2local(utc_dtm):\n",
    "    # UTC 时间转本地时间（ +8:00 ）\n",
    "    local_tm = datetime.fromtimestamp(0)\n",
    "    utc_tm = datetime.utcfromtimestamp(0)\n",
    "    offset = local_tm - utc_tm\n",
    "    return utc_dtm + offset\n",
    "\n",
    "\n",
    "def local2utc(local_dtm):\n",
    "    # 本地时间转 UTC 时间（ -8:00 ）\n",
    "    return datetime.utcfromtimestamp(local_dtm.timestamp())\n",
    "\n",
    "utc_tm = datetime.utcnow()\n",
    "# utc_tm = datetime(2012, 10, 26, 10, 00, 00)\n",
    "\n",
    "print(\"src utc time:\\t\", utc_tm.strftime(\"%Y-%m-%d %H:%M:%S\"))\n",
    "\n",
    "# UTC 转本地\n",
    "local_tm = utc2local(utc_tm)\n",
    "print(\"tran loc time:\\t\", local_tm.strftime(\"%Y-%m-%d %H:%M:%S\"))\n",
    "\n",
    "# 本地转 UTC\n",
    "utc_tran = local2utc(local_tm)\n",
    "print(\"tran utc time:\\t\", utc_tran.strftime(\"%Y-%m-%d %H:%M:%S\"))\n"
   ],
   "outputs": [
    {
     "output_type": "stream",
     "name": "stdout",
     "text": [
      "src utc time:\t 2021-09-16 02:46:42\n",
      "tran loc time:\t 2021-09-16 10:46:42\n",
      "tran utc time:\t 2021-09-16 02:46:42\n"
     ]
    }
   ],
   "metadata": {}
  },
  {
   "cell_type": "markdown",
   "source": [
    "## 三、时间格式转字符串"
   ],
   "metadata": {}
  },
  {
   "cell_type": "code",
   "execution_count": 4,
   "source": [
    "date_p = datetime.now().date()\n",
    "\n",
    "str_p = str(date_p)\n",
    "\n",
    "print(date_p, type(date_p))  # 2019-01-30\n",
    "\n",
    "print(str_p, type(str_p))  # 2019-01-30\n"
   ],
   "outputs": [
    {
     "output_type": "stream",
     "name": "stdout",
     "text": [
      "2021-10-02 <class 'datetime.date'>\n",
      "2021-10-02 <class 'str'>\n"
     ]
    }
   ],
   "metadata": {}
  },
  {
   "cell_type": "markdown",
   "source": [
    "## 四、字符串转时间格式"
   ],
   "metadata": {}
  },
  {
   "cell_type": "code",
   "execution_count": 8,
   "source": [
    "str_p = '2019-01-30 15:29:08'\n",
    "\n",
    "dateTime_p = datetime.strptime(str_p, '%Y-%m-%d %H:%M:%S')\n",
    "\n",
    "print(dateTime_p, type(dateTime_p))  # 2019-01-30 15:29:08\n"
   ],
   "outputs": [
    {
     "output_type": "stream",
     "name": "stdout",
     "text": [
      "2019-01-30 15:29:08 <class 'datetime.datetime'>\n"
     ]
    }
   ],
   "metadata": {}
  },
  {
   "cell_type": "markdown",
   "source": [
    "## dataframe 中的时间处理\n",
    "\n",
    "**在读取pd.to_csv 时，每次都是str 类型，这时候就需要转换为时间格式**\n"
   ],
   "metadata": {}
  },
  {
   "cell_type": "markdown",
   "source": [
    "### 方式一: 处理单独列方法转换：\n",
    "\n",
    "```bash\n",
    "\n",
    "def str_to_date(str_p):\n",
    "  return datetime.strptime(str_p, '%Y-%m-%d')\n",
    "\n",
    "df.index = df.index.map(str_to_date)\n",
    "```\n",
    "\n",
    "### 方式二：to_datetime 方法（推荐）：\n",
    "\n",
    "```bash\n",
    "df.index = pd.to_datetime(df.index)\n",
    "```"
   ],
   "metadata": {}
  }
 ],
 "metadata": {
  "orig_nbformat": 4,
  "language_info": {
   "name": "python",
   "version": "3.9.6",
   "mimetype": "text/x-python",
   "codemirror_mode": {
    "name": "ipython",
    "version": 3
   },
   "pygments_lexer": "ipython3",
   "nbconvert_exporter": "python",
   "file_extension": ".py"
  },
  "kernelspec": {
   "name": "python3",
   "display_name": "Python 3.9.6 64-bit ('py39': conda)"
  },
  "interpreter": {
   "hash": "572327d4ce217dad388f18729dd163149eb848d32b5abea34e3d86de275470cb"
  }
 },
 "nbformat": 4,
 "nbformat_minor": 2
}