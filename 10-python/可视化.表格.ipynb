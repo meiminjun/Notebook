{
 "cells": [
  {
   "cell_type": "markdown",
   "metadata": {},
   "source": [
    "# [表格神器-prettytable](https://mp.weixin.qq.com/s?src=11&timestamp=1633748949&ver=3363&signature=OaCChPd-B2Hqeqm7y7Vu9wVd46Pib8p28eEVGoEztgiB2MYoMShGhTtEGVUUHSf0jLAmWwxEUZmLflCGlXgQt-tnq*HOsEIc-Bfpsc7qbl9iSqxIEBR2U0KNtZBIIMAq&new=1)"
   ]
  },
  {
   "cell_type": "markdown",
   "metadata": {},
   "source": [
    "## 一、引入库\n",
    "\n",
    "```bash\n",
    "pip install prettytable\n",
    "```"
   ]
  },
  {
   "cell_type": "code",
   "execution_count": 2,
   "metadata": {},
   "outputs": [],
   "source": [
    "from prettytable import PrettyTable"
   ]
  },
  {
   "cell_type": "markdown",
   "metadata": {},
   "source": [
    "## 二、编程"
   ]
  },
  {
   "cell_type": "code",
   "execution_count": 4,
   "metadata": {},
   "outputs": [
    {
     "name": "stdout",
     "output_type": "stream",
     "text": [
      "+------+----------+----------+------------+\n",
      "| 编号 |  云编号  |   名称   |   IP地址   |\n",
      "+------+----------+----------+------------+\n",
      "|  1   | server01 | 服务器01 | 172.16.0.1 |\n",
      "|  2   | server02 | 服务器02 | 172.16.0.2 |\n",
      "|  3   | server03 | 服务器03 | 172.16.0.3 |\n",
      "|  4   | server04 | 服务器04 | 172.16.0.4 |\n",
      "|  5   | server05 | 服务器05 | 172.16.0.5 |\n",
      "|  6   | server06 | 服务器06 | 172.16.0.6 |\n",
      "|  7   | server07 | 服务器07 | 172.16.0.7 |\n",
      "|  8   | server08 | 服务器08 | 172.16.0.8 |\n",
      "|  9   | server09 | 服务器09 | 172.16.0.9 |\n",
      "|  10  | server10 | 服务器10 | 172.16.0.9 |\n",
      "|  11  | server11 | 服务器11 | 172.16.0.9 |\n",
      "+------+----------+----------+------------+\n"
     ]
    }
   ],
   "source": [
    "table = PrettyTable(['编号', '云编号', '名称', 'IP地址'])\n",
    "table.add_row(['1', 'server01', '服务器01', '172.16.0.1'])\n",
    "table.add_row(['2', 'server02', '服务器02', '172.16.0.2'])\n",
    "table.add_row(['3', 'server03', '服务器03', '172.16.0.3'])\n",
    "table.add_row(['4', 'server04', '服务器04', '172.16.0.4'])\n",
    "table.add_row(['5', 'server05', '服务器05', '172.16.0.5'])\n",
    "table.add_row(['6', 'server06', '服务器06', '172.16.0.6'])\n",
    "table.add_row(['7', 'server07', '服务器07', '172.16.0.7'])\n",
    "table.add_row(['8', 'server08', '服务器08', '172.16.0.8'])\n",
    "table.add_row(['9', 'server09', '服务器09', '172.16.0.9'])\n",
    "table.add_rows([['10', 'server10', '服务器10', '172.16.0.9'],\n",
    "               ['11', 'server11', '服务器11', '172.16.0.9']])\n",
    "# table.add_row(['9', 'server09', '服务器09', '172.16.0.9'])\n",
    "# table.add_row(['9', 'server09', '服务器09', '172.16.0.9'])\n",
    "print(table)\n"
   ]
  }
 ],
 "metadata": {
  "interpreter": {
   "hash": "dbc1128b55dfe7674910d9dec9178b9135ab71c646c7080f47e59389499c8905"
  },
  "kernelspec": {
   "display_name": "Python 3.9.6 64-bit ('py39': conda)",
   "name": "python3"
  },
  "language_info": {
   "codemirror_mode": {
    "name": "ipython",
    "version": 3
   },
   "file_extension": ".py",
   "mimetype": "text/x-python",
   "name": "python",
   "nbconvert_exporter": "python",
   "pygments_lexer": "ipython3",
   "version": "3.9.6"
  },
  "widgets": {
   "application/vnd.jupyter.widget-state+json": {
    "state": {},
    "version_major": 2,
    "version_minor": 0
   }
  }
 },
 "nbformat": 4,
 "nbformat_minor": 4
}
