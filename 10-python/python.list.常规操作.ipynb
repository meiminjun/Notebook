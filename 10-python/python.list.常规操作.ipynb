{
    "cells": [
        {
            "cell_type": "markdown",
            "metadata": {},
            "source": [
                "# list 的常用操作"
            ]
        },
        {
            "cell_type": "markdown",
            "metadata": {},
            "source": [
                "## list转string\n"
            ]
        },
        {
            "cell_type": "code",
            "execution_count": 5,
            "metadata": {},
            "outputs": [
                {
                    "name": "stdout",
                    "output_type": "stream",
                    "text": [
                        "1-2-3\n"
                    ]
                }
            ],
            "source": [
                "LIST = ['1','2','3']\n",
                "a = '-'.join(LIST)\n",
                "print(a)"
            ]
        },
        {
            "cell_type": "markdown",
            "metadata": {},
            "source": [
                "## 元素是否存在于列表中"
            ]
        },
        {
            "cell_type": "code",
            "execution_count": 1,
            "metadata": {},
            "outputs": [
                {
                    "data": {
                        "text/plain": [
                            "True"
                        ]
                    },
                    "execution_count": 1,
                    "metadata": {},
                    "output_type": "execute_result"
                }
            ],
            "source": [
                "3 in [1, 2, 3]"
            ]
        },
        {
            "cell_type": "markdown",
            "metadata": {},
            "source": [
                "## 批量替换操作"
            ]
        },
        {
            "cell_type": "code",
            "execution_count": 4,
            "metadata": {},
            "outputs": [
                {
                    "name": "stdout",
                    "output_type": "stream",
                    "text": [
                        "['猪肉', '牛肉', '特斯拉']\n"
                    ]
                }
            ],
            "source": [
                "import re\n",
                "arr = ['猪肉概念股', '牛肉概念股', '特斯拉概念股']\n",
                "result = list(map(lambda x: re.sub('概念股', '', x),arr))\n",
                "print(result)\n"
            ]
        },
        {
            "cell_type": "markdown",
            "metadata": {},
            "source": [
                "## 循环操作"
            ]
        },
        {
            "cell_type": "code",
            "execution_count": 1,
            "metadata": {},
            "outputs": [
                {
                    "name": "stdout",
                    "output_type": "stream",
                    "text": [
                        "ele = 1\n",
                        "ele = 2\n",
                        "ele = 3\n",
                        "ele = 4\n",
                        "ele = 5\n"
                    ]
                }
            ],
            "source": [
                "# 遍历list\n",
                "my_list = [1, 2, 3, 4, 5]\n",
                "for ele in my_list:\n",
                "    print('ele =', ele)"
            ]
        },
        {
            "cell_type": "code",
            "execution_count": 2,
            "metadata": {},
            "outputs": [
                {
                    "name": "stdout",
                    "output_type": "stream",
                    "text": [
                        "ele = ('python教程', 'http://c.biancheng.net/python/')\n",
                        "ele = ('shell教程', 'http://c.biancheng.net/shell/')\n",
                        "ele = ('java教程', 'http://c.biancheng.net/java/')\n"
                    ]
                }
            ],
            "source": [
                "# 遍历dict\n",
                "my_dic = {'python教程':\"http://c.biancheng.net/python/\",\\\n",
                "          'shell教程':\"http://c.biancheng.net/shell/\",\\\n",
                "          'java教程':\"http://c.biancheng.net/java/\"}\n",
                "for ele in my_dic.items():\n",
                "    print('ele =', ele)"
            ]
        },
        {
            "cell_type": "code",
            "execution_count": 3,
            "metadata": {},
            "outputs": [
                {
                    "name": "stdout",
                    "output_type": "stream",
                    "text": [
                        "0 one\n",
                        "1 two\n",
                        "2 three\n"
                    ]
                }
            ],
            "source": [
                "# enumerate 遍历\n",
                "seq = ['one', 'two', 'three']\n",
                "for i, element in enumerate(seq):\n",
                "  print (i, element)"
            ]
        },
        {
            "cell_type": "code",
            "execution_count": 6,
            "metadata": {},
            "outputs": [
                {
                    "name": "stdout",
                    "output_type": "stream",
                    "text": [
                        "26\n",
                        "25\n"
                    ]
                }
            ],
            "source": [
                "columns = [\n",
                "                '序号', '股票代码', '股票名称', '价格', '涨幅', '成交额', '总市值',\n",
                "                'PE', 'PE温度', 'PB', 'PB温度', '5年平均股息率', '股息率',\n",
                "                '静态股息率', '波动率', '最新年报ROE', '5年平均ROE', '5年营收复合增长', '5年利润复合增长', '5年现金流复合增长', '5年分红率复合增长', '净利同比增长', '有息负债率', '股票质押比例', '行业', '自选'\n",
                "            ]\n",
                "\n",
                "print(len(columns))\n",
                "\n",
                "\n",
                "td = [\n",
                "    '1', '002110', '三钢闽光 ', '5.250', '-0.38%', '1568.07', '128.71', '7.543',\n",
                "    '55.13', '0.595', '0.68', '14.019%', '15.467%', '8.495%', '会员', '18.44%',\n",
                "    '28.00%', '34.76%', '33.84%', '-0.33%', '11.04%', '-83.26%', '28.73%',\n",
                "    '会员', '长材'\n",
                "]\n",
                "\n",
                "print(len(td))"
            ]
        },
        {
            "cell_type": "markdown",
            "metadata": {},
            "source": [
                "## list 拆分（均分）"
            ]
        },
        {
            "cell_type": "code",
            "execution_count": 1,
            "metadata": {},
            "outputs": [
                {
                    "name": "stdout",
                    "output_type": "stream",
                    "text": [
                        "[['1', '2', '3'], ['4', '5', '6'], ['7', '8', '9'], ['10']]\n"
                    ]
                }
            ],
            "source": [
                "test_list = ['1','2','3','4','5','6','7','8','9','10']\n",
                "\n",
                "n=3\n",
                "\n",
                "output=[test_list[i:i + n] for i in range(0, len(test_list), n)]\n",
                "print(output)"
            ]
        }
    ],
    "metadata": {
        "kernelspec": {
            "display_name": "Python 3.9.6 ('py39')",
            "language": "python",
            "name": "python3"
        },
        "language_info": {
            "codemirror_mode": {
                "name": "ipython",
                "version": 3
            },
            "file_extension": ".py",
            "mimetype": "text/x-python",
            "name": "python",
            "nbconvert_exporter": "python",
            "pygments_lexer": "ipython3",
            "version": "3.9.6"
        },
        "orig_nbformat": 4,
        "vscode": {
            "interpreter": {
                "hash": "dbc1128b55dfe7674910d9dec9178b9135ab71c646c7080f47e59389499c8905"
            }
        }
    },
    "nbformat": 4,
    "nbformat_minor": 2
}
