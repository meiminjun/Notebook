{
 "cells": [
  {
   "cell_type": "markdown",
   "metadata": {},
   "source": [
    "# 抖音爬取视频"
   ]
  },
  {
   "cell_type": "markdown",
   "metadata": {},
   "source": [
    "## 获取单个去水印视频"
   ]
  },
  {
   "cell_type": "code",
   "execution_count": 5,
   "metadata": {},
   "outputs": [
    {
     "name": "stdout",
     "output_type": "stream",
     "text": [
      "https://v.douyin.com/6FQv8ER/\n"
     ]
    }
   ],
   "source": [
    "import requests as req\n",
    "import requests\n",
    "import re\n",
    "import json\n",
    "\n",
    "requests.packages.urllib3.disable_warnings()\n",
    "headers = {\n",
    "    \"User-Agent\": \"Mozilla/5.0 (Windows; U; MSIE 9.0; Windows NT 9.0; en-US)\"\n",
    "}\n",
    "\n",
    "\n",
    "def get_location(original_url):\n",
    "    response = req.get(original_url,\n",
    "                       headers=headers,\n",
    "                       verify=False,\n",
    "                       allow_redirects=False)\n",
    "    return response.headers['Location']\n",
    "\n",
    "\n",
    "def parse_single_url(original_url):\n",
    "    long_url = get_location(original_url)\n",
    "    regex = 'video/(\\d+)?'\n",
    "    return re.findall(regex, long_url)[0]\n",
    "\n",
    "\n",
    "def parse_result(key):\n",
    "    api_url = 'https://www.iesdouyin.com/web/api/v2/aweme/iteminfo/?item_ids=' + key\n",
    "    response = req.get(api_url, headers=headers, params=None, verify=False)\n",
    "    result = json.loads(response.text)['item_list'][0]\n",
    "\n",
    "    nwm_video_url = str(result['video']['play_addr']['url_list'][0]).replace(\n",
    "        'playwm', 'play')\n",
    "    return get_location(nwm_video_url)\n",
    "\n",
    "def get_http_txt(txt):\n",
    "    pattern = re.compile(r'http[s]?://(?:[a-zA-Z]|[0-9]|[$-_@.&+]|[!*\\(\\),]|(?:%[0-9a-fA-F][0-9a-fA-F]))+')    # 匹配模式\n",
    "    # string = '2.05 eOK:/ 复制打开抖音，看看【企鹅冷知识的作品】 https://v.douyin.com/6FQv8ER/'\n",
    "    string = txt\n",
    "    url = re.findall(pattern,string)\n",
    "    return url[0]\n",
    "\n",
    "def download_file(download_url, file_path):\n",
    "    response = req.get(download_url, verify=False, stream=True)\n",
    "    chunk_size = 1024\n",
    "    if response.status_code == 200:\n",
    "        with open(file_path, 'wb') as file:\n",
    "            for data in response.iter_content(chunk_size=chunk_size):\n",
    "                file.write(data)\n",
    "\n",
    "if __name__ == \"__main__\":\n",
    "    # key = parse_single_url('https://v.douyin.com/2qsMWfy/')\n",
    "    http_txt= get_http_txt('2.05 eOK:/ 复制打开抖音，看看【企鹅冷知识的作品】 https://v.douyin.com/6FQv8ER/')\n",
    "    print(http_txt)\n",
    "    # key = parse_single_url('https://v.douyin.com/6FQv8ER/')\n",
    "    key = parse_single_url(http_txt)\n",
    "    url = parse_result(key)\n",
    "    download_file(url, './红婆视频2.mp4')"
   ]
  },
  {
   "cell_type": "code",
   "execution_count": null,
   "metadata": {},
   "outputs": [],
   "source": [
    "http_txt = get_http_txt(\n",
    "    '9.【技巧生活的个:/ 人主页】长按复制此条消息，长按复制打开抖音搜索，查看TA的更多作品##XzHKVruTuv8##[抖音口令]')\n"
   ]
  },
  {
   "cell_type": "markdown",
   "metadata": {},
   "source": [
    "## 批量去抖音视频水印"
   ]
  },
  {
   "cell_type": "code",
   "execution_count": 24,
   "metadata": {},
   "outputs": [
    {
     "name": "stdout",
     "output_type": "stream",
     "text": [
      " https://sf3-cdn-tos.douyinstatic.com/obj/ies-music/7120967683574614815.mp3 .mp3\n",
      " ------- 下载完成\n",
      " https://sf3-cdn-tos.douyinstatic.com/obj/ies-music/7120967683574614815.mp3 .mp3\n",
      " ------- 下载完成\n",
      " https://sf3-cdn-tos.douyinstatic.com/obj/ies-music/7120967683574614815.mp3 .mp3\n",
      " ------- 下载完成\n",
      " https://sf3-cdn-tos.douyinstatic.com/obj/ies-music/7120967683574614815.mp3 .mp3\n",
      " ------- 下载完成\n",
      " https://sf3-cdn-tos.douyinstatic.com/obj/ies-music/7120967683574614815.mp3 .mp3\n",
      " ------- 下载完成\n",
      " https://sf3-cdn-tos.douyinstatic.com/obj/ies-music/7120967683574614815.mp3 .mp3\n",
      " ------- 下载完成\n",
      " https://sf3-cdn-tos.douyinstatic.com/obj/ies-music/7120967683574614815.mp3 .mp3\n",
      " ------- 下载完成\n",
      " https://sf3-cdn-tos.douyinstatic.com/obj/ies-music/7120967683574614815.mp3 .mp3\n",
      " ------- 下载完成\n",
      " https://sf3-cdn-tos.douyinstatic.com/obj/ies-music/7120967683574614815.mp3 .mp3\n",
      " ------- 下载完成\n",
      " https://sf3-cdn-tos.douyinstatic.com/obj/ies-music/7120967683574614815.mp3 .mp3\n"
     ]
    }
   ],
   "source": [
    "import requests as req\n",
    "import re\n",
    "import json\n",
    "\n",
    "req.packages.urllib3.disable_warnings()\n",
    "\n",
    "\n",
    "headers = {\n",
    "    \"User-Agent\": 'Mozilla/5.0 (Windows; U; MSIE 9.0; Windows NT 9.0; en-US)\"'\n",
    "}\n",
    "\n",
    "def get_sec_uid(original_url):\n",
    "    response = req.get(original_url, headers=headers, verify=False, allow_redirects=False)\n",
    "    long_url = response.headers['Location']\n",
    "    sec_uid = re.findall('(?<=sec_uid=)[a-z，A-Z，0-9, _, -]+', long_url, re.M | re.I)[0]\n",
    "    return sec_uid\n",
    "\n",
    "\n",
    "def get_home_items(sec_uid, max_cursor=0, urls=[]):\n",
    "    params = {\n",
    "        'sec_uid': sec_uid,\n",
    "        'count': 21,\n",
    "        'max_cursor': max_cursor,\n",
    "        'reflow_source': 'reflow_page'\n",
    "    }\n",
    "    aweme_api = 'https://www.iesdouyin.com/web/api/v2/aweme/post/?'\n",
    "    response = req.get(aweme_api, headers=headers, params=params, verify=False)\n",
    "    data = json.loads(response.text)\n",
    "    list = data['aweme_list']\n",
    "    aweme_list_len = len(list)\n",
    "    for i in range(aweme_list_len):\n",
    "        title = re.sub('[\\/:*?\"<>|]', '-', list[i]['desc'])\n",
    "        url = list[i]['video']['play_addr']['url_list'][0]\n",
    "        # print(title + \":\" + url)\n",
    "        ext = '.mp3' if list[i]['video']['ratio'] == 'default' else '.mp4'\n",
    "        item = (title, url, ext)\n",
    "        urls.append(item)\n",
    "    if data['has_more']:\n",
    "        return get_home_items(sec_uid, data['max_cursor'], urls)\n",
    "    return urls\n",
    "\n",
    "def download_file(download_url, file_path):\n",
    "    response = req.get(download_url, verify=False, stream=True)\n",
    "    chunk_size = 1024\n",
    "    if response.status_code == 200:\n",
    "        with open(file_path, 'wb') as file:\n",
    "            for data in response.iter_content(chunk_size=chunk_size):\n",
    "                file.write(data)\n",
    "\n",
    "if __name__ == \"__main__\":\n",
    "    # 先获取原始地址\n",
    "    sec_uid = get_sec_uid('https://v.douyin.com/2pa4REG/')\n",
    "    # sec_uid = 'MS4wLjABAAAAjU-tAMdEIb2lAic3sb8Wch7e85XMKPLq8jZiVnIVNlA'\n",
    "    list = get_home_items(sec_uid)\n",
    "    for key,val in enumerate(list):\n",
    "        title = val[0]\n",
    "        url = val[1]\n",
    "        ext = val[2]\n",
    "        # print(key)\n",
    "        print(title,url,ext)\n",
    "        \n",
    "        if key == 9:\n",
    "            break;\n",
    "        download_file(url, f'./movies/{key}{ext}')\n",
    "        print(f'{title} ------- 下载完成')"
   ]
  }
 ],
 "metadata": {
  "kernelspec": {
   "display_name": "Python 3.9.6 ('py39')",
   "language": "python",
   "name": "python3"
  },
  "language_info": {
   "codemirror_mode": {
    "name": "ipython",
    "version": 3
   },
   "file_extension": ".py",
   "mimetype": "text/x-python",
   "name": "python",
   "nbconvert_exporter": "python",
   "pygments_lexer": "ipython3",
   "version": "3.9.6"
  },
  "orig_nbformat": 4,
  "vscode": {
   "interpreter": {
    "hash": "dbc1128b55dfe7674910d9dec9178b9135ab71c646c7080f47e59389499c8905"
   }
  }
 },
 "nbformat": 4,
 "nbformat_minor": 2
}
