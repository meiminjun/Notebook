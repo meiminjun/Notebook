{
 "cells": [
  {
   "cell_type": "markdown",
   "source": [
    "# Jinja2 快速生成报告\n"
   ],
   "metadata": {}
  },
  {
   "cell_type": "markdown",
   "source": [
    "## 一、引入相关库文件"
   ],
   "metadata": {}
  },
  {
   "cell_type": "code",
   "execution_count": 2,
   "source": [
    "import pandas as pd\n",
    "from jinja2 import Environment, FileSystemLoader\n"
   ],
   "outputs": [],
   "metadata": {}
  },
  {
   "cell_type": "markdown",
   "source": [
    "## 二、 编写代码"
   ],
   "metadata": {}
  },
  {
   "cell_type": "markdown",
   "source": [
    "### 1. 基础渲染"
   ],
   "metadata": {}
  },
  {
   "cell_type": "code",
   "execution_count": 5,
   "source": [
    "data = {'strategy_name': '第一个策略',\n",
    "        'start_time': '2020-01-01',\n",
    "        'end_time': '2021-06-01',\n",
    "        'money': 20000}\n",
    "\n",
    "env = Environment(loader=FileSystemLoader('./'))\n",
    "\n",
    "template = env.get_template('jinjia.email-template.html')\n",
    "\n",
    "with open(\"out.html\", 'w+', encoding='utf-8') as f:\n",
    "    out = template.render(strategy_name=data['strategy_name'],\n",
    "                          start_time=data['start_time'],\n",
    "                          end_time=data['end_time'],\n",
    "                          money=data['money'])\n",
    "    f.write(out)\n",
    "    f.close()\n"
   ],
   "outputs": [],
   "metadata": {}
  },
  {
   "cell_type": "markdown",
   "source": [
    "### 2. 表格渲染"
   ],
   "metadata": {}
  },
  {
   "cell_type": "code",
   "execution_count": 8,
   "source": [
    "df = pd.read_csv('jinjia.601318-中国平安-历史日行情.csv')\n",
    "\n",
    "data = df.to_dict('records')\n",
    "\n",
    "results = {}\n",
    "results.update({'strategy_name': '第一个策略',\n",
    "                'start_time': '2020-01-01',\n",
    "                'end_time': '2021-06-01',\n",
    "                'money': 20000,\n",
    "                'items': data})\n",
    "\n",
    "env = Environment(loader=FileSystemLoader('./'))\n",
    "\n",
    "template = env.get_template('jinjia.email-template.html')\n",
    "\n",
    "with open(\"out.html\", 'w+', encoding='utf-8') as f:\n",
    "    out = template.render(strategy_name=results['strategy_name'],\n",
    "                          start_time=results['start_time'],\n",
    "                          end_time=results['end_time'],\n",
    "                          money=results['money'],\n",
    "                          items=results['items'])\n",
    "    f.write(out)\n",
    "    f.close()\n"
   ],
   "outputs": [],
   "metadata": {}
  }
 ],
 "metadata": {
  "kernelspec": {
   "name": "python3",
   "display_name": "Python 3.9.6 64-bit ('py39': conda)"
  },
  "language_info": {
   "codemirror_mode": {
    "name": "ipython",
    "version": 3
   },
   "file_extension": ".py",
   "mimetype": "text/x-python",
   "name": "python",
   "nbconvert_exporter": "python",
   "pygments_lexer": "ipython3",
   "version": "3.9.6"
  },
  "widgets": {
   "application/vnd.jupyter.widget-state+json": {
    "state": {},
    "version_major": 2,
    "version_minor": 0
   }
  },
  "interpreter": {
   "hash": "572327d4ce217dad388f18729dd163149eb848d32b5abea34e3d86de275470cb"
  }
 },
 "nbformat": 4,
 "nbformat_minor": 4
}