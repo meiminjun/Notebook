{
 "cells": [
  {
   "cell_type": "markdown",
   "source": [
    "# pip 学习\n"
   ],
   "metadata": {}
  },
  {
   "cell_type": "markdown",
   "source": [
    "\n",
    "## requirements文件生成与使用\n",
    "\n",
    "文件生成：\n",
    "\n",
    "> pip freeze > requirements.txt\n",
    "\n",
    "文件的使用：\n",
    "\n",
    "> pip install -r requirements.txt\n"
   ],
   "metadata": {}
  }
 ],
 "metadata": {
  "orig_nbformat": 4,
  "language_info": {
   "name": "python"
  }
 },
 "nbformat": 4,
 "nbformat_minor": 2
}