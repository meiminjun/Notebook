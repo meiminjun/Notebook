{
 "cells": [
  {
   "cell_type": "markdown",
   "metadata": {},
   "source": [
    "# 股吧情绪分析"
   ]
  },
  {
   "cell_type": "markdown",
   "metadata": {},
   "source": [
    "目标地址\n",
    "\n",
    "http://guba.eastmoney.com/list,of161725.html\n",
    "\n",
    "\n",
    "代理池\n",
    "\n",
    "https://github.com/jhao104/proxy_pool"
   ]
  },
  {
   "cell_type": "markdown",
   "metadata": {},
   "source": [
    "## 一、导入程序"
   ]
  },
  {
   "cell_type": "code",
   "execution_count": 2,
   "metadata": {},
   "outputs": [],
   "source": [
    "# import csv\n",
    "import time\n",
    "import random\n",
    "import requests\n",
    "import traceback\n",
    "from time import sleep\n",
    "from fake_useragent import UserAgent\n",
    "from lxml import etree\n",
    "import pandas as pd\n",
    "import re\n",
    "import math\n"
   ]
  },
  {
   "cell_type": "markdown",
   "metadata": {},
   "source": [
    "## 二、程序设计"
   ]
  },
  {
   "cell_type": "markdown",
   "metadata": {},
   "source": [
    "### 1、数据源获取\n",
    "\n",
    "> 无限请求，直到请求到数据"
   ]
  },
  {
   "cell_type": "code",
   "execution_count": 3,
   "metadata": {},
   "outputs": [
    {
     "name": "stdout",
     "output_type": "stream",
     "text": [
      "开始请求\n",
      "http://guba.eastmoney.com/list,of161725_1.html\n"
     ]
    }
   ],
   "source": [
    "# page = 1  #设置爬取的页数\n",
    "# fundcode = 161725  #可替换任意基金代码\n",
    "# sleep(random.uniform(1, 2))  #随机出现1-2之间的数，包含小数\n",
    "# headers = {\"User-Agent\": UserAgent(verify_ssl=False).random}\n",
    "# url = f'http://guba.eastmoney.com/list,of{fundcode}_{page}.html'\n",
    "# response = requests.get(url, headers=headers, timeout=10)\n",
    "# print(response)\n",
    "\n",
    "\n",
    "def get_fund_data(fundcode='161725', page=1, proxies=None):\n",
    "    try:\n",
    "        # page = 1  #设置爬取的页数\n",
    "        # fundcode = 161725  #可替换任意基金代码\n",
    "        sleep(random.uniform(1, 5))  #随机出现1-2之间的数，包含小数\n",
    "        headers = {\"User-Agent\": UserAgent().random}\n",
    "        url = f'http://guba.eastmoney.com/list,of{fundcode}_{page}.html'\n",
    "        print('开始请求')\n",
    "        print(url)\n",
    "        response = requests.get(url, headers=headers, timeout=10, proxies=proxies)\n",
    "        # print(response)\n",
    "        return response.text\n",
    "    except requests.exceptions.ConnectionError:\n",
    "        t = random.uniform(1, 5)\n",
    "        print(f'ConnectionError -- please wait {t} seconds')\n",
    "        time.sleep(random.uniform(1, 5))\n",
    "        return get_fund_data(fundcode, page, proxies)\n",
    "    except requests.exceptions.ChunkedEncodingError:\n",
    "        t = random.uniform(1, 5)\n",
    "        print(f'ChunkedEncodingError -- please wait {t} seconds')\n",
    "        time.sleep(t)\n",
    "        return get_fund_data(fundcode, page, proxies)\n",
    "    except:\n",
    "        t = random.uniform(1, 5)\n",
    "        print(\n",
    "            f'Unfortunitely -- An Unknow Error Happened, Please wait {t} seconds'\n",
    "        )\n",
    "        time.sleep(t)\n",
    "        return get_fund_data(fundcode, page, proxies)\n",
    "\n",
    "response = get_fund_data()"
   ]
  },
  {
   "cell_type": "markdown",
   "metadata": {},
   "source": [
    "### 2、解析数据"
   ]
  },
  {
   "cell_type": "code",
   "execution_count": 4,
   "metadata": {},
   "outputs": [
    {
     "data": {
      "text/plain": [
       "9529"
      ]
     },
     "execution_count": 4,
     "metadata": {},
     "output_type": "execute_result"
    }
   ],
   "source": [
    "# 获取总页数\n",
    "def parse_total(html):\n",
    "    parse = etree.HTML(html)\n",
    "    # print(etree.tostring(parse))\n",
    "    div = parse.xpath('//*[@id=\"articlelistnew\"]/div')[-2]\n",
    "    total = div.text\n",
    "    # 总共篇数\n",
    "    total = re.findall(r'(\\d+)', total)[0]\n",
    "    # 总页数, 总篇数/单页条数，再向上取整\n",
    "    total = math.ceil((int(total) / 80))\n",
    "    return total\n",
    "\n",
    "total = parse_total(response)\n",
    "# etree.tostring(total)\n",
    "total\n"
   ]
  },
  {
   "cell_type": "code",
   "execution_count": 5,
   "metadata": {},
   "outputs": [
    {
     "data": {
      "text/html": [
       "<div>\n",
       "<style scoped>\n",
       "    .dataframe tbody tr th:only-of-type {\n",
       "        vertical-align: middle;\n",
       "    }\n",
       "\n",
       "    .dataframe tbody tr th {\n",
       "        vertical-align: top;\n",
       "    }\n",
       "\n",
       "    .dataframe thead th {\n",
       "        text-align: right;\n",
       "    }\n",
       "</style>\n",
       "<table border=\"1\" class=\"dataframe\">\n",
       "  <thead>\n",
       "    <tr style=\"text-align: right;\">\n",
       "      <th></th>\n",
       "      <th>阅读</th>\n",
       "      <th>评论</th>\n",
       "      <th>标题</th>\n",
       "      <th>作者</th>\n",
       "      <th>时间</th>\n",
       "    </tr>\n",
       "  </thead>\n",
       "  <tbody>\n",
       "    <tr>\n",
       "      <th>0</th>\n",
       "      <td>1089</td>\n",
       "      <td>1</td>\n",
       "      <td>【有机会瓜分66666积分】这个中秋，与德邦共赴“飞花</td>\n",
       "      <td>德邦基金</td>\n",
       "      <td>09-10 19:07</td>\n",
       "    </tr>\n",
       "    <tr>\n",
       "      <th>1</th>\n",
       "      <td>1270</td>\n",
       "      <td>11</td>\n",
       "      <td>有奖聊 | 那些年我们一起用过的电池</td>\n",
       "      <td>嘉实基金</td>\n",
       "      <td>09-10 19:50</td>\n",
       "    </tr>\n",
       "    <tr>\n",
       "      <th>2</th>\n",
       "      <td>11269</td>\n",
       "      <td>20</td>\n",
       "      <td>【有机会瓜分3000壕礼】神仙智能家电大种草！</td>\n",
       "      <td>富国基金</td>\n",
       "      <td>09-10 18:54</td>\n",
       "    </tr>\n",
       "    <tr>\n",
       "      <th>3</th>\n",
       "      <td>3787</td>\n",
       "      <td>69</td>\n",
       "      <td>【3000元京东卡】全能成长猎手钟帅重磅新基来袭！记得</td>\n",
       "      <td>华夏基金</td>\n",
       "      <td>09-10 19:17</td>\n",
       "    </tr>\n",
       "    <tr>\n",
       "      <th>4</th>\n",
       "      <td>2100</td>\n",
       "      <td>30</td>\n",
       "      <td>有奖互动 | 月圆邀桃“礼” 富达递师恩</td>\n",
       "      <td>富达国际</td>\n",
       "      <td>09-10 17:41</td>\n",
       "    </tr>\n",
       "    <tr>\n",
       "      <th>...</th>\n",
       "      <td>...</td>\n",
       "      <td>...</td>\n",
       "      <td>...</td>\n",
       "      <td>...</td>\n",
       "      <td>...</td>\n",
       "    </tr>\n",
       "    <tr>\n",
       "      <th>80</th>\n",
       "      <td>2512</td>\n",
       "      <td>3</td>\n",
       "      <td>医药，互联网，新能源传利好，白酒利空，抄底该如何选</td>\n",
       "      <td>大眼海豚</td>\n",
       "      <td>09-10 20:09</td>\n",
       "    </tr>\n",
       "    <tr>\n",
       "      <th>81</th>\n",
       "      <td>1172</td>\n",
       "      <td>2</td>\n",
       "      <td>下周走势研究分析，煤炭看量能，白酒博弈中秋行情。</td>\n",
       "      <td>星期五的大平</td>\n",
       "      <td>09-10 20:09</td>\n",
       "    </tr>\n",
       "    <tr>\n",
       "      <th>82</th>\n",
       "      <td>244</td>\n",
       "      <td>1</td>\n",
       "      <td>今年一共就涨两个月，到目前为止整整跌了七个月</td>\n",
       "      <td>ckiiii</td>\n",
       "      <td>09-10 20:09</td>\n",
       "    </tr>\n",
       "    <tr>\n",
       "      <th>83</th>\n",
       "      <td>10509</td>\n",
       "      <td>20</td>\n",
       "      <td>银行、证券、白酒、医药、新能源、半导体板块走势技术</td>\n",
       "      <td>野庄炖基</td>\n",
       "      <td>09-10 20:09</td>\n",
       "    </tr>\n",
       "    <tr>\n",
       "      <th>84</th>\n",
       "      <td>40043</td>\n",
       "      <td>113</td>\n",
       "      <td>一觉醒来，美股突发大跳水！G7出手对石油限阶，俄方：</td>\n",
       "      <td>小猴论市</td>\n",
       "      <td>09-10 20:09</td>\n",
       "    </tr>\n",
       "  </tbody>\n",
       "</table>\n",
       "<p>85 rows × 5 columns</p>\n",
       "</div>"
      ],
      "text/plain": [
       "       阅读   评论                           标题      作者           时间\n",
       "0    1089    1  【有机会瓜分66666积分】这个中秋，与德邦共赴“飞花    德邦基金  09-10 19:07\n",
       "1    1270   11           有奖聊 | 那些年我们一起用过的电池    嘉实基金  09-10 19:50\n",
       "2   11269   20      【有机会瓜分3000壕礼】神仙智能家电大种草！    富国基金  09-10 18:54\n",
       "3    3787   69  【3000元京东卡】全能成长猎手钟帅重磅新基来袭！记得    华夏基金  09-10 19:17\n",
       "4    2100   30         有奖互动 | 月圆邀桃“礼” 富达递师恩    富达国际  09-10 17:41\n",
       "..    ...  ...                          ...     ...          ...\n",
       "80   2512    3    医药，互联网，新能源传利好，白酒利空，抄底该如何选    大眼海豚  09-10 20:09\n",
       "81   1172    2     下周走势研究分析，煤炭看量能，白酒博弈中秋行情。  星期五的大平  09-10 20:09\n",
       "82    244    1       今年一共就涨两个月，到目前为止整整跌了七个月  ckiiii  09-10 20:09\n",
       "83  10509   20    银行、证券、白酒、医药、新能源、半导体板块走势技术    野庄炖基  09-10 20:09\n",
       "84  40043  113   一觉醒来，美股突发大跳水！G7出手对石油限阶，俄方：    小猴论市  09-10 20:09\n",
       "\n",
       "[85 rows x 5 columns]"
      ]
     },
     "execution_count": 5,
     "metadata": {},
     "output_type": "execute_result"
    }
   ],
   "source": [
    "# 获取数据源\n",
    "def parse_fund(html):\n",
    "    parse = etree.HTML(html)  # 解析网页\n",
    "    items = parse.xpath('//*[@id=\"articlelistnew\"]/div')[1:-2]\n",
    "    data = []\n",
    "    columns = ['阅读', '评论', '标题', '作者', '时间']\n",
    "    for item in items:\n",
    "        _arr = [\n",
    "            ''.join(item.xpath('./span[1]/text()')).strip(),\n",
    "            ''.join(item.xpath('./span[2]/text()')).strip(),\n",
    "            ''.join(item.xpath('./span[3]/a/text()')).strip(),\n",
    "            ''.join(item.xpath('./span[4]/a/font/text()')).strip(),\n",
    "            ''.join(item.xpath('./span[5]/text()')).strip()\n",
    "        ]\n",
    "        # item = {\n",
    "        #     '阅读': ''.join(item.xpath('./span[1]/text()')).strip(),\n",
    "        #     '评论': ''.join(item.xpath('./span[2]/text()')).strip(),\n",
    "        #     '标题': ''.join(item.xpath('./span[3]/a/text()')).strip(),\n",
    "        #     '作者': ''.join(item.xpath('./span[4]/a/font/text()')).strip(),\n",
    "        #     '时间': ''.join(item.xpath('./span[5]/text()')).strip()\n",
    "        # }\n",
    "        data.append(_arr)\n",
    "        # print(item)\n",
    "    # print(arr)\n",
    "    df = pd.DataFrame(data=data,columns=columns)\n",
    "    return df\n",
    "df = parse_fund(response)\n",
    "df"
   ]
  },
  {
   "cell_type": "markdown",
   "metadata": {},
   "source": [
    "### 3、保存到csv"
   ]
  },
  {
   "cell_type": "code",
   "execution_count": 6,
   "metadata": {},
   "outputs": [],
   "source": [
    "df.to_csv('股吧情绪分析.csv', index=False)"
   ]
  },
  {
   "cell_type": "markdown",
   "metadata": {},
   "source": [
    "## 三、设计主函数"
   ]
  },
  {
   "cell_type": "markdown",
   "metadata": {},
   "source": [
    "### 1、添加代理池\n",
    "\n",
    "参考：https://github.com/jhao104/proxy_pool"
   ]
  },
  {
   "cell_type": "code",
   "execution_count": 7,
   "metadata": {},
   "outputs": [],
   "source": [
    "\n",
    "def get_proxy():\n",
    "    return requests.get(\"http://demo.spiderpy.cn/get/\").json()\n",
    "\n",
    "\n",
    "def delete_proxy(proxy):\n",
    "    requests.get(f\"http://demo.spiderpy.cn/delete/?proxy={proxy}\")"
   ]
  },
  {
   "cell_type": "markdown",
   "metadata": {},
   "source": [
    "### 2、设计分页异常函数"
   ]
  },
  {
   "cell_type": "code",
   "execution_count": 10,
   "metadata": {},
   "outputs": [
    {
     "name": "stdout",
     "output_type": "stream",
     "text": [
      "代理:20.187.70.249:8000, 位置:中国 香港  microsoft.com\n"
     ]
    }
   ],
   "source": [
    "proxyObj = get_proxy()\n",
    "proxy = proxyObj.get(\"proxy\")\n",
    "region = proxyObj.get('region')\n",
    "proxies = { \"http\": f\"http://{proxy}\" }\n",
    "print(f'代理:{proxy}, 位置:{region}')\n",
    "\n",
    "def main(fundcode='161725', page = 1, total=None):\n",
    "    # try:\n",
    "    html = get_fund_data(fundcode, page, proxies)\n",
    "    df = pd.DataFrame()\n",
    "    if total is None:\n",
    "        total = parse_total(html)\n",
    "    print(f'第{page}页/总页数: {total}')\n",
    "    for page_i in range(page, total):\n",
    "        # 一定要加随机时间，防止被反爬\n",
    "        # time.sleep(random.uniform(1, 5))\n",
    "        if page != 1:\n",
    "            html = get_fund_data(fundcode, page_i, proxies)\n",
    "            df = parse_fund(html)\n",
    "        df = parse_fund(html)\n",
    "        # 数据为空的情况\n",
    "        if df.empty is True:\n",
    "            # 数据为空，重新执行\n",
    "            main(fundcode, page, total)\n",
    "        print(f'获取第{page_i}页数据内容')\n",
    "        print(df)\n",
    "        df.to_csv('./股吧情绪分析.csv', mode='a', index=False, header=False)\n",
    "        print(f'第{page_i}页数据内容保存成功!')\n",
    "    # except Exception as e:\n",
    "    #     print(e)\n",
    "    #     print(f'第{page}页有异常，正在重新请求..')\n",
    "    # main(fundcode, page, total)\n",
    "main()"
   ]
  }
 ],
 "metadata": {
  "kernelspec": {
   "display_name": "Python 3.9.6 ('py39')",
   "language": "python",
   "name": "python3"
  },
  "language_info": {
   "codemirror_mode": {
    "name": "ipython",
    "version": 3
   },
   "file_extension": ".py",
   "mimetype": "text/x-python",
   "name": "python",
   "nbconvert_exporter": "python",
   "pygments_lexer": "ipython3",
   "version": "3.9.6"
  },
  "orig_nbformat": 4,
  "vscode": {
   "interpreter": {
    "hash": "dbc1128b55dfe7674910d9dec9178b9135ab71c646c7080f47e59389499c8905"
   }
  }
 },
 "nbformat": 4,
 "nbformat_minor": 2
}
