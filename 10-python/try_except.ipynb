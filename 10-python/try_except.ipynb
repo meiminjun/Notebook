{
 "cells": [
  {
   "cell_type": "markdown",
   "metadata": {},
   "source": [
    "# 常见异常问题处理"
   ]
  },
  {
   "cell_type": "markdown",
   "metadata": {},
   "source": [
    "## 递归时要在except返回\n",
    "\n",
    "> - 有finally 有return 一定会执行\n",
    "> - 没有return 就会在try 位置返回"
   ]
  },
  {
   "cell_type": "code",
   "execution_count": 2,
   "metadata": {},
   "outputs": [
    {
     "name": "stdout",
     "output_type": "stream",
     "text": [
      "doing some work, and maybe exception will be raised\n",
      "in KeyError except\n",
      "'index error'\n",
      "doing some work, and maybe exception will be raised\n",
      "in KeyError except\n",
      "'index error'\n",
      "doing some work, and maybe exception will be raised\n",
      "in KeyError except\n",
      "'index error'\n",
      "doing some work, and maybe exception will be raised\n",
      "in KeyError except\n",
      "'index error'\n",
      "doing some work, and maybe exception will be raised\n",
      "in finally\n",
      "in finally\n",
      "in finally\n",
      "in finally\n",
      "in finally\n",
      "111\n"
     ]
    }
   ],
   "source": [
    "def exceptTest(code=1):\n",
    "    try:\n",
    "        print('doing some work, and maybe exception will be raised')\n",
    "        if code < 5:\n",
    "            code += 1\n",
    "            raise KeyError('index error')\n",
    "            print('after exception raise')\n",
    "        return 111\n",
    "    except KeyError as e:\n",
    "        print('in KeyError except')\n",
    "        print(e)\n",
    "        return exceptTest(code)\n",
    "    except IndexError as e:\n",
    "        print('in IndexError except')\n",
    "        print(e)\n",
    "        return 2\n",
    "    except ZeroDivisionError as e:\n",
    "        print('in ZeroDivisionError')\n",
    "        print(e)\n",
    "        return 3\n",
    "    finally:\n",
    "        print('in finally')\n",
    "        # return 5\n",
    "\n",
    "\n",
    "resultCode = exceptTest()\n",
    "print(resultCode)"
   ]
  },
  {
   "cell_type": "markdown",
   "metadata": {},
   "source": [
    "## 参考\n",
    "\n",
    "- https://www.cnblogs.com/JohnABC/p/4065437.html#:~:text=%E5%AD%A6%E4%B9%A0python%E6%88%96%E8%80%85%E5%85%B6%E4%BB%96%E6%9C%89%E5%BC%82%E5%B8%B8%E6%8E%A7%E5%88%B6%E7%9A%84%E7%BC%96%E7%A8%8B%E8%AF%AD%20%E8%A8%80%EF%BC%8C%20%E5%A4%A7%E5%AE%B6%E5%BE%88%E6%9C%89%E5%8F%AF%E8%83%BD%E8%AF%B4try%20except%20finally%EF%BC%88try,catch%20finally%EF%BC%89%E7%9A%84%E6%89%A7%E8%A1%8C%E5%BE%88%E7%AE%80%E5%8D%95%EF%BC%8C%E6%97%A0%E9%9D%9E%E5%B0%B1%E6%98%AF%E6%9C%89%E5%BC%82%E5%B8%B8%E7%9A%84%E8%AF%9D%E6%89%A7%E8%A1%8Cexcept%EF%BC%8C%20finally%E6%97%A0%E8%AE%BA%E6%98%AF%E5%90%A6%E6%9C%89%E5%BC%82%E5%B8%B8%E9%83%BD%E4%BC%9A%E6%89%A7%E8%A1%8C%EF%BC%8C%20%E5%A4%A7%E8%87%B4%E4%B8%8A%E5%8E%9F%E5%88%99%E6%98%AF%E8%BF%99%E6%A0%B7%EF%BC%8C%20%E4%BD%86%E6%98%AF%E5%A6%82%E6%9E%9C%E6%B6%89%E5%8F%8A%E5%88%B0%E6%9B%B4%E5%8A%A0%E8%AF%A6%E7%BB%86%E7%9A%84%E5%A4%8D%E6%9D%82%E7%9A%84%E8%B7%AF%E5%BE%84%EF%BC%8C%E5%8A%A0%E4%B8%8Areturn%20%E8%AF%AD%E5%8F%A5%EF%BC%8C%E5%B0%B1%E6%B2%A1%E6%9C%89%E9%82%A3%E4%B9%88%E7%AE%80%E5%8D%95%E4%BA%86%E3%80%82"
   ]
  }
 ],
 "metadata": {
  "kernelspec": {
   "display_name": "Python 3.9.6 ('py39')",
   "language": "python",
   "name": "python3"
  },
  "language_info": {
   "codemirror_mode": {
    "name": "ipython",
    "version": 3
   },
   "file_extension": ".py",
   "mimetype": "text/x-python",
   "name": "python",
   "nbconvert_exporter": "python",
   "pygments_lexer": "ipython3",
   "version": "3.9.6"
  },
  "orig_nbformat": 4,
  "vscode": {
   "interpreter": {
    "hash": "dbc1128b55dfe7674910d9dec9178b9135ab71c646c7080f47e59389499c8905"
   }
  }
 },
 "nbformat": 4,
 "nbformat_minor": 2
}
