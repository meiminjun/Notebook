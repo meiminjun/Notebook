{
 "cells": [
  {
   "cell_type": "markdown",
   "metadata": {},
   "source": [
    "# dataframe 的常见操作"
   ]
  },
  {
   "cell_type": "code",
   "execution_count": 1,
   "metadata": {},
   "outputs": [
    {
     "name": "stdout",
     "output_type": "stream",
     "text": [
      "     x2    x3\n",
      "0  11.2  11.2\n",
      "1  23.2  23.2\n",
      "2  23.4  23.4\n",
      "3   1.0  12.0\n",
      "  x1    x2    x3\n",
      "0  a  11.2  11.2\n",
      "1  b  23.2  23.2\n",
      "2  c  23.4  23.4\n",
      "3  a     1    12\n",
      "  x1     x2\n",
      "0  a  20.23\n",
      "1  b    NaN\n",
      "2  d   90.4\n",
      "              brand_model cate\n",
      "0            德力西 GW912200   低压\n",
      "1  埃帝尔 IB-207TPN-06231C02   管阀\n",
      "2         德力西 72LT3YFM40D   低压\n",
      "3       科顺 2-3654-561 铆钉型   搬运\n",
      "    x1    x2    x3\n",
      "0   12  11.2  11.2\n",
      "1   23  23.2  23.2\n",
      "2   99  23.4  23.4\n",
      "3  123     1    12\n"
     ]
    }
   ],
   "source": [
    "import pandas as pd\n",
    "\n",
    "df0 = pd.DataFrame({\"x2\": [\n",
    "                   11.2, 23.2, 23.4, 1], \"x3\": [11.2, 23.2, 23.4, 12]})\n",
    "\n",
    "print(df0)\n",
    "\n",
    "df1 = pd.DataFrame({'x1': [\"a\", \"b\", \"c\", \"a\"], \"x2\": [\n",
    "                   \"11.2\", \"23.2\", \"23.4\", \"1\"], \"x3\": [\"11.2\", \"23.2\", \"23.4\", \"12\"]})\n",
    "print(df1)\n",
    "df2 = pd.DataFrame({'x1': [\"a\", \"b\", \"d\"], \"x2\": [\"20.23\", 'NaN', \"90.4\"]})\n",
    "print(df2)\n",
    "\n",
    "data = {'brand_model': ['德力西 GW912200', '埃帝尔 IB-207TPN-06231C02', '德力西 72LT3YFM40D', '科顺 2-3654-561 铆钉型'],\n",
    "        'cate': ['低压', '管阀', '低压', '搬运']}\n",
    "df3 = pd.DataFrame(data)\n",
    "print(df3)\n",
    "\n",
    "df5 = pd.DataFrame({'x1': [\"12\", \"23\", \"99\", \"123\"], \"x2\": [\n",
    "                   \"11.2\", \"23.2\", \"23.4\", \"1\"], \"x3\": [\"11.2\", \"23.2\", \"23.4\", \"12\"]})\n",
    "print(df5)\n",
    "df6 = pd.DataFrame({'x1': [\"12%\", \"23\", \"99\", \"123\"], \"x2\": [\n",
    "                   \"11.2\", \"23.2%\", \"23.4\", \"1\"], \"x3\": [\"11.2\", \"23.2%\", \"23.4%\", \"12%\"]})"
   ]
  },
  {
   "cell_type": "code",
   "execution_count": 8,
   "metadata": {},
   "outputs": [
    {
     "name": "stdout",
     "output_type": "stream",
     "text": [
      "  x1    x2    x3\n",
      "0  a  11.2  11.2\n",
      "1  b  23.2  23.2\n",
      "2  c  23.4  23.4\n",
      "3  a     1    12\n",
      "0    a\n",
      "1    b\n",
      "2    c\n",
      "3    a\n",
      "Name: x1, dtype: object\n"
     ]
    },
    {
     "ename": "TypeError",
     "evalue": "unsupported operand type(s) for -: 'str' and 'str'",
     "output_type": "error",
     "traceback": [
      "\u001b[0;31m---------------------------------------------------------------------------\u001b[0m",
      "\u001b[0;31mTypeError\u001b[0m                                 Traceback (most recent call last)",
      "\u001b[0;32m/var/folders/w6/9k4dzqlj617f06dfby_vk1pr0000gn/T/ipykernel_13699/4084052124.py\u001b[0m in \u001b[0;36m<module>\u001b[0;34m\u001b[0m\n\u001b[1;32m      5\u001b[0m \u001b[0mva2\u001b[0m \u001b[0;34m=\u001b[0m \u001b[0mdf1\u001b[0m\u001b[0;34m.\u001b[0m\u001b[0mloc\u001b[0m\u001b[0;34m[\u001b[0m\u001b[0;34m:\u001b[0m\u001b[0;34m,\u001b[0m \u001b[0;34m'x3'\u001b[0m\u001b[0;34m]\u001b[0m\u001b[0;34m.\u001b[0m\u001b[0mtolist\u001b[0m\u001b[0;34m(\u001b[0m\u001b[0;34m)\u001b[0m\u001b[0;34m[\u001b[0m\u001b[0;34m-\u001b[0m\u001b[0;36m1\u001b[0m\u001b[0;34m]\u001b[0m\u001b[0;34m\u001b[0m\u001b[0;34m\u001b[0m\u001b[0m\n\u001b[1;32m      6\u001b[0m \u001b[0;34m\u001b[0m\u001b[0m\n\u001b[0;32m----> 7\u001b[0;31m \u001b[0mva3\u001b[0m \u001b[0;34m=\u001b[0m \u001b[0mva1\u001b[0m \u001b[0;34m-\u001b[0m \u001b[0mva2\u001b[0m\u001b[0;34m\u001b[0m\u001b[0;34m\u001b[0m\u001b[0m\n\u001b[0m\u001b[1;32m      8\u001b[0m \u001b[0mprint\u001b[0m\u001b[0;34m(\u001b[0m\u001b[0mva3\u001b[0m\u001b[0;34m)\u001b[0m\u001b[0;34m\u001b[0m\u001b[0;34m\u001b[0m\u001b[0m\n\u001b[1;32m      9\u001b[0m \u001b[0mprint\u001b[0m\u001b[0;34m(\u001b[0m\u001b[0mva2\u001b[0m\u001b[0;34m)\u001b[0m\u001b[0;34m\u001b[0m\u001b[0;34m\u001b[0m\u001b[0m\n",
      "\u001b[0;31mTypeError\u001b[0m: unsupported operand type(s) for -: 'str' and 'str'"
     ]
    }
   ],
   "source": [
    "print(df1)\n",
    "# df1.loc[:, 'x1'].tolist()[-time]\n",
    "print(df1.loc[:, 'x1'])\n",
    "va1 = df1.loc[:, 'x2'].tolist()[-1]\n",
    "va2 = df1.loc[:, 'x3'].tolist()[-1]\n",
    "\n",
    "va3 = va1 - va2\n",
    "print(va3)\n",
    "print(va2)"
   ]
  },
  {
   "cell_type": "markdown",
   "metadata": {},
   "source": [
    "## 一、索引的最常见操作"
   ]
  },
  {
   "cell_type": "markdown",
   "metadata": {},
   "source": [
    "### 1、 设置索引"
   ]
  },
  {
   "cell_type": "code",
   "execution_count": null,
   "metadata": {},
   "outputs": [
    {
     "name": "stdout",
     "output_type": "stream",
     "text": [
      "           x2\n",
      "x1 x3        \n",
      "a  11.2  11.2\n",
      "b  23.2  23.2\n",
      "c  23.4  23.4\n",
      "a  12       1\n",
      "   x1    x2    x3\n",
      "x1               \n",
      "a   a  11.2  11.2\n",
      "b   b  23.2  23.2\n",
      "c   c  23.4  23.4\n",
      "a   a     1    12\n",
      "[0, 1, 2, 3]\n"
     ]
    }
   ],
   "source": [
    "df1.set_index('x1')\n",
    "\n",
    "# 设置多重索引\n",
    "print(df1.set_index(['x1', 'x3']))\n",
    "\n",
    "# drop=False 表示保留原先\"YY\"列的数据\n",
    "df1_drop = df1.set_index(\"x1\", drop=False)  \n",
    "print(df1_drop)\n",
    "\n",
    "# index索引对象可以转换成列表类型\n",
    "print(list(df1.index))  # ['ll', 'll', 'mm']\n"
   ]
  },
  {
   "cell_type": "markdown",
   "metadata": {},
   "source": [
    "### 2、 初始设置索引"
   ]
  },
  {
   "cell_type": "code",
   "execution_count": null,
   "metadata": {},
   "outputs": [
    {
     "name": "stdout",
     "output_type": "stream",
     "text": [
      "    Person      City Mother Tongue  Age\n",
      "A    Alice    Berlin        German   37\n",
      "B   Steven  Montreal        French   20\n",
      "C  Neesham   Toronto       English   38\n",
      "D    Chris      Rome       Italian   23\n",
      "E    Alice    Munich        German   35\n"
     ]
    }
   ],
   "source": [
    "my_df = pd.DataFrame({\n",
    "    'Person': ['Alice', 'Steven', 'Neesham', 'Chris', 'Alice'],\n",
    "    'City': ['Berlin', 'Montreal', 'Toronto', 'Rome', 'Munich'],\n",
    "    'Mother Tongue': ['German', 'French', 'English', 'Italian', 'German'],\n",
    "    'Age':  [37, 20, 38, 23, 35],\n",
    "\n",
    "}, index=[\"A\", \"B\", \"C\", \"D\", \"E\"])\n",
    "\n",
    "print(my_df)"
   ]
  },
  {
   "cell_type": "markdown",
   "metadata": {},
   "source": [
    "### 3、 使用 reset_index() 方法删除 Pandas DataFrame 的索引\n",
    "\n",
    "参数inplace:\n",
    "* inplace=True：不创建新的对象，直接对原始对象进行修改；\n",
    "* inplace=False：对数据进行修改，创建并返回新的对象承载其修改结果。\n",
    "\n",
    "参数drop:\n",
    "* drop=True: 把原来的索引index列去掉，丢掉。\n",
    "* drop=False:保留原来的索引（以前的可能是乱的）"
   ]
  },
  {
   "cell_type": "code",
   "execution_count": null,
   "metadata": {},
   "outputs": [
    {
     "name": "stdout",
     "output_type": "stream",
     "text": [
      "Before reseting Index:\n",
      "    Person      City Mother Tongue  Age\n",
      "A    Alice    Berlin        German   37\n",
      "B   Steven  Montreal        French   20\n",
      "C  Neesham   Toronto       English   38\n",
      "D    Chris      Rome       Italian   23\n",
      "E    Alice    Munich        German   35 \n",
      "\n",
      "After reseting Index:\n",
      "  index   Person      City Mother Tongue  Age\n",
      "0     A    Alice    Berlin        German   37\n",
      "1     B   Steven  Montreal        French   20\n",
      "2     C  Neesham   Toronto       English   38\n",
      "3     D    Chris      Rome       Italian   23\n",
      "4     E    Alice    Munich        German   35\n"
     ]
    }
   ],
   "source": [
    "my_df = pd.DataFrame({\n",
    "    'Person': ['Alice', 'Steven', 'Neesham', 'Chris', 'Alice'],\n",
    "    'City': ['Berlin', 'Montreal', 'Toronto', 'Rome', 'Munich'],\n",
    "    'Mother Tongue': ['German', 'French', 'English', 'Italian', 'German'],\n",
    "    'Age':  [37, 20, 38, 23, 35],\n",
    "\n",
    "}, index=[\"A\", \"B\", \"C\", \"D\", \"E\"])\n",
    "\n",
    "df_reset = my_df.reset_index()\n",
    "# 等同上面\n",
    "# my_df.reset_index(inplace=True)\n",
    "\n",
    "print(\"Before reseting Index:\")\n",
    "print(my_df, \"\\n\")\n",
    "\n",
    "print(\"After reseting Index:\")\n",
    "print(df_reset)\n"
   ]
  },
  {
   "cell_type": "markdown",
   "metadata": {},
   "source": [
    "> 它将重置 DataFrame 的索引，但现在的索引将显示为 index 列。如果我们想删除 index 列，我们可以在 reset_index() 方法中设置 drop=True"
   ]
  },
  {
   "cell_type": "code",
   "execution_count": null,
   "metadata": {},
   "outputs": [
    {
     "name": "stdout",
     "output_type": "stream",
     "text": [
      "Before reseting Index:\n",
      "    Person      City Mother Tongue  Age\n",
      "A    Alice    Berlin        German   37\n",
      "B   Steven  Montreal        French   20\n",
      "C  Neesham   Toronto       English   38\n",
      "D    Chris      Rome       Italian   23\n",
      "E    Alice    Munich        German   35 \n",
      "\n",
      "After reseting Index:\n",
      "    Person      City Mother Tongue  Age\n",
      "0    Alice    Berlin        German   37\n",
      "1   Steven  Montreal        French   20\n",
      "2  Neesham   Toronto       English   38\n",
      "3    Chris      Rome       Italian   23\n",
      "4    Alice    Munich        German   35\n"
     ]
    }
   ],
   "source": [
    "my_df = pd.DataFrame({\n",
    "    'Person': ['Alice', 'Steven', 'Neesham', 'Chris', 'Alice'],\n",
    "    'City': ['Berlin', 'Montreal', 'Toronto', 'Rome', 'Munich'],\n",
    "    'Mother Tongue': ['German', 'French', 'English', 'Italian', 'German'],\n",
    "    'Age':  [37, 20, 38, 23, 35],\n",
    "\n",
    "},index=[\"A\",\"B\",\"C\",\"D\",\"E\"])\n",
    "\n",
    "# 重置索引，并且删除原来的索引\n",
    "df_reset=my_df.reset_index(drop=True)\n",
    "\n",
    "print(\"Before reseting Index:\")\n",
    "print(my_df,\"\\n\")\n",
    "\n",
    "print(\"After reseting Index:\")\n",
    "print(df_reset)"
   ]
  },
  {
   "cell_type": "markdown",
   "metadata": {},
   "source": [
    "## 二、合并数据"
   ]
  },
  {
   "cell_type": "code",
   "execution_count": null,
   "metadata": {},
   "outputs": [
    {
     "data": {
      "text/html": [
       "<div>\n",
       "<style scoped>\n",
       "    .dataframe tbody tr th:only-of-type {\n",
       "        vertical-align: middle;\n",
       "    }\n",
       "\n",
       "    .dataframe tbody tr th {\n",
       "        vertical-align: top;\n",
       "    }\n",
       "\n",
       "    .dataframe thead th {\n",
       "        text-align: right;\n",
       "    }\n",
       "</style>\n",
       "<table border=\"1\" class=\"dataframe\">\n",
       "  <thead>\n",
       "    <tr style=\"text-align: right;\">\n",
       "      <th></th>\n",
       "      <th>x1</th>\n",
       "      <th>x2_x</th>\n",
       "      <th>x2_y</th>\n",
       "    </tr>\n",
       "  </thead>\n",
       "  <tbody>\n",
       "    <tr>\n",
       "      <th>0</th>\n",
       "      <td>a</td>\n",
       "      <td>11.2</td>\n",
       "      <td>20.23</td>\n",
       "    </tr>\n",
       "    <tr>\n",
       "      <th>1</th>\n",
       "      <td>b</td>\n",
       "      <td>23.2</td>\n",
       "      <td>NaN</td>\n",
       "    </tr>\n",
       "    <tr>\n",
       "      <th>2</th>\n",
       "      <td>c</td>\n",
       "      <td>23.4</td>\n",
       "      <td>NaN</td>\n",
       "    </tr>\n",
       "    <tr>\n",
       "      <th>3</th>\n",
       "      <td>d</td>\n",
       "      <td>NaN</td>\n",
       "      <td>90.4</td>\n",
       "    </tr>\n",
       "  </tbody>\n",
       "</table>\n",
       "</div>"
      ],
      "text/plain": [
       "  x1  x2_x   x2_y\n",
       "0  a  11.2  20.23\n",
       "1  b  23.2    NaN\n",
       "2  c  23.4    NaN\n",
       "3  d   NaN   90.4"
      ]
     },
     "execution_count": 11,
     "metadata": {},
     "output_type": "execute_result"
    }
   ],
   "source": [
    "# 以左边列为基准\n",
    "pd.merge(df1, df2, how='left', on='x1')\n",
    "\n",
    "# 以右边列为基准\n",
    "pd.merge(df1, df2, how='right', on='x1')\n",
    "\n",
    "# 已交集\n",
    "pd.merge(df1, df2, how='inner', on='x1')\n",
    "\n",
    "# 全部\n",
    "pd.merge(df1, df2, how='outer', on='x1')\n"
   ]
  },
  {
   "cell_type": "markdown",
   "metadata": {},
   "source": [
    "### concat拼接数据(类似append)"
   ]
  },
  {
   "cell_type": "code",
   "execution_count": null,
   "metadata": {},
   "outputs": [
    {
     "name": "stdout",
     "output_type": "stream",
     "text": [
      "  x111222 x211222 x311222\n",
      "0       a    11.2    11.2\n",
      "1       b    23.2    23.2\n",
      "2       c    23.4    23.4\n",
      "3       a       1      12\n",
      "  x1     x2\n",
      "0  a  20.23\n",
      "1  b    NaN\n",
      "2  d   90.4\n",
      "\n",
      " 列拼接\n",
      "\n",
      "  x111222 x211222 x311222   x1     x2\n",
      "0       a    11.2    11.2    a  20.23\n",
      "1       b    23.2    23.2    b    NaN\n",
      "2       c    23.4    23.4    d   90.4\n",
      "3       a       1      12  NaN    NaN\n",
      "\n",
      " 行拼接\n",
      "\n"
     ]
    },
    {
     "data": {
      "text/html": [
       "<div>\n",
       "<style scoped>\n",
       "    .dataframe tbody tr th:only-of-type {\n",
       "        vertical-align: middle;\n",
       "    }\n",
       "\n",
       "    .dataframe tbody tr th {\n",
       "        vertical-align: top;\n",
       "    }\n",
       "\n",
       "    .dataframe thead th {\n",
       "        text-align: right;\n",
       "    }\n",
       "</style>\n",
       "<table border=\"1\" class=\"dataframe\">\n",
       "  <thead>\n",
       "    <tr style=\"text-align: right;\">\n",
       "      <th></th>\n",
       "      <th>x111222</th>\n",
       "      <th>x211222</th>\n",
       "      <th>x311222</th>\n",
       "      <th>x1</th>\n",
       "      <th>x2</th>\n",
       "    </tr>\n",
       "  </thead>\n",
       "  <tbody>\n",
       "    <tr>\n",
       "      <th>0</th>\n",
       "      <td>a</td>\n",
       "      <td>11.2</td>\n",
       "      <td>11.2</td>\n",
       "      <td>NaN</td>\n",
       "      <td>NaN</td>\n",
       "    </tr>\n",
       "    <tr>\n",
       "      <th>1</th>\n",
       "      <td>b</td>\n",
       "      <td>23.2</td>\n",
       "      <td>23.2</td>\n",
       "      <td>NaN</td>\n",
       "      <td>NaN</td>\n",
       "    </tr>\n",
       "    <tr>\n",
       "      <th>2</th>\n",
       "      <td>c</td>\n",
       "      <td>23.4</td>\n",
       "      <td>23.4</td>\n",
       "      <td>NaN</td>\n",
       "      <td>NaN</td>\n",
       "    </tr>\n",
       "    <tr>\n",
       "      <th>3</th>\n",
       "      <td>a</td>\n",
       "      <td>1</td>\n",
       "      <td>12</td>\n",
       "      <td>NaN</td>\n",
       "      <td>NaN</td>\n",
       "    </tr>\n",
       "    <tr>\n",
       "      <th>0</th>\n",
       "      <td>NaN</td>\n",
       "      <td>NaN</td>\n",
       "      <td>NaN</td>\n",
       "      <td>a</td>\n",
       "      <td>20.23</td>\n",
       "    </tr>\n",
       "    <tr>\n",
       "      <th>1</th>\n",
       "      <td>NaN</td>\n",
       "      <td>NaN</td>\n",
       "      <td>NaN</td>\n",
       "      <td>b</td>\n",
       "      <td>NaN</td>\n",
       "    </tr>\n",
       "    <tr>\n",
       "      <th>2</th>\n",
       "      <td>NaN</td>\n",
       "      <td>NaN</td>\n",
       "      <td>NaN</td>\n",
       "      <td>d</td>\n",
       "      <td>90.4</td>\n",
       "    </tr>\n",
       "  </tbody>\n",
       "</table>\n",
       "</div>"
      ],
      "text/plain": [
       "  x111222 x211222 x311222   x1     x2\n",
       "0       a    11.2    11.2  NaN    NaN\n",
       "1       b    23.2    23.2  NaN    NaN\n",
       "2       c    23.4    23.4  NaN    NaN\n",
       "3       a       1      12  NaN    NaN\n",
       "0     NaN     NaN     NaN    a  20.23\n",
       "1     NaN     NaN     NaN    b    NaN\n",
       "2     NaN     NaN     NaN    d   90.4"
      ]
     },
     "execution_count": 13,
     "metadata": {},
     "output_type": "execute_result"
    }
   ],
   "source": [
    "print(df1)\n",
    "\n",
    "print(df2)\n",
    "\n",
    "print('\\n 列拼接\\n')\n",
    "print(pd.concat([df1, df2], axis=1))\n",
    "\n",
    "print('\\n 行拼接\\n')\n",
    "pd.concat([df1, df2])\n"
   ]
  },
  {
   "cell_type": "markdown",
   "metadata": {},
   "source": [
    "## 三、行、列的转置\n",
    "\n",
    "> 原先的索引变成了行，所以说要转置时，先设置一下索引，不然转换后colums 变成了数字索引"
   ]
  },
  {
   "cell_type": "code",
   "execution_count": null,
   "metadata": {},
   "outputs": [
    {
     "name": "stdout",
     "output_type": "stream",
     "text": [
      "  x1    x2    x3\n",
      "0  a  11.2  11.2\n",
      "1  b  23.2  23.2\n",
      "2  c  23.4  23.4\n",
      "       0     1     2\n",
      "x1     a     b     c\n",
      "x2  11.2  23.2  23.4\n",
      "x3  11.2  23.2  23.4\n"
     ]
    }
   ],
   "source": [
    "print(df1)\n",
    "# \n",
    "print(df1.T)"
   ]
  },
  {
   "cell_type": "markdown",
   "metadata": {},
   "source": [
    "### 正确的方式\n"
   ]
  },
  {
   "cell_type": "code",
   "execution_count": null,
   "metadata": {},
   "outputs": [
    {
     "name": "stdout",
     "output_type": "stream",
     "text": [
      "      x2    x3\n",
      "x1            \n",
      "a   11.2  11.2\n",
      "b   23.2  23.2\n",
      "c   23.4  23.4\n",
      "\n",
      " 转换后:\n",
      "\n",
      "x1     a     b     c\n",
      "x2  11.2  23.2  23.4\n",
      "x3  11.2  23.2  23.4\n"
     ]
    }
   ],
   "source": [
    "print(df1.set_index('x1'))\n",
    "\n",
    "print('\\n 转换后:\\n')\n",
    "\n",
    "print(df1.set_index('x1').T)\n"
   ]
  },
  {
   "cell_type": "markdown",
   "metadata": {},
   "source": [
    "## 四、行列获取"
   ]
  },
  {
   "cell_type": "markdown",
   "metadata": {},
   "source": [
    "### 1. 列获取"
   ]
  },
  {
   "cell_type": "markdown",
   "metadata": {},
   "source": [
    "方式一： 按标签（最常用）"
   ]
  },
  {
   "cell_type": "code",
   "execution_count": null,
   "metadata": {},
   "outputs": [
    {
     "name": "stdout",
     "output_type": "stream",
     "text": [
      "  x1    x2    x3\n",
      "0  a  11.2  11.2\n",
      "1  b  23.2  23.2\n",
      "2  c  23.4  23.4\n",
      "3  a     1    12\n",
      "获取单列\n",
      "0    a\n",
      "1    b\n",
      "2    c\n",
      "3    a\n",
      "Name: x1, dtype: object\n",
      "\n",
      "获取多列\n",
      "\n",
      "  x1    x3\n",
      "0  a  11.2\n",
      "1  b  23.2\n",
      "2  c  23.4\n",
      "3  a    12\n"
     ]
    }
   ],
   "source": [
    "print(df1)\n",
    "\n",
    "print('获取单列')\n",
    "print(df1['x1'])\n",
    "\n",
    "print('\\n获取多列\\n')\n",
    "print(df1[['x1','x3']])"
   ]
  },
  {
   "cell_type": "markdown",
   "metadata": {},
   "source": [
    "方式二： 按索引"
   ]
  },
  {
   "cell_type": "code",
   "execution_count": null,
   "metadata": {},
   "outputs": [
    {
     "name": "stdout",
     "output_type": "stream",
     "text": [
      "0    a\n",
      "1    b\n",
      "2    c\n",
      "Name: x1, dtype: object\n",
      "  x1    x2    x3\n",
      "0  a  11.2  11.2\n",
      "1  b  23.2  23.2\n",
      "2  c  23.4  23.4\n"
     ]
    }
   ],
   "source": [
    "# 单索引\n",
    "print(df1.iloc[:, 0])\n",
    "\n",
    "# 多索引\n",
    "print(df1.iloc[:, 0:])"
   ]
  },
  {
   "cell_type": "markdown",
   "metadata": {},
   "source": [
    "### 2. 行获取"
   ]
  },
  {
   "cell_type": "markdown",
   "metadata": {},
   "source": [
    "方式一： 按标签获取："
   ]
  },
  {
   "cell_type": "code",
   "execution_count": null,
   "metadata": {},
   "outputs": [
    {
     "name": "stdout",
     "output_type": "stream",
     "text": [
      "x1     a     b     c\n",
      "x2  11.2  23.2  23.4\n",
      "x3  11.2  23.2  23.4\n"
     ]
    },
    {
     "data": {
      "text/plain": [
       "x1\n",
       "a    11.2\n",
       "b    23.2\n",
       "c    23.4\n",
       "Name: x2, dtype: object"
      ]
     },
     "execution_count": 41,
     "metadata": {},
     "output_type": "execute_result"
    }
   ],
   "source": [
    "df3 = df1.set_index('x1').T\n",
    "print(df3)\n",
    "# 按标签获取\n",
    "df3.loc['x2']\n"
   ]
  },
  {
   "cell_type": "markdown",
   "metadata": {},
   "source": [
    "方式二：按索引获取"
   ]
  },
  {
   "cell_type": "code",
   "execution_count": null,
   "metadata": {},
   "outputs": [
    {
     "name": "stdout",
     "output_type": "stream",
     "text": [
      "正常获取：\n",
      "x1\n",
      "a    11.2\n",
      "b    23.2\n",
      "c    23.4\n",
      "Name: x2, dtype: object\n",
      "\n",
      "区间获取\n",
      "\n",
      "x1     a     b     c\n",
      "x2  11.2  23.2  23.4\n"
     ]
    }
   ],
   "source": [
    "print('正常获取：')\n",
    "print(df3.iloc[0])\n",
    "\n",
    "print('\\n区间获取\\n')\n",
    "print(df3.iloc[0:1])\n"
   ]
  },
  {
   "cell_type": "markdown",
   "metadata": {},
   "source": [
    "### 3. 精准取值"
   ]
  },
  {
   "cell_type": "code",
   "execution_count": null,
   "metadata": {},
   "outputs": [
    {
     "name": "stdout",
     "output_type": "stream",
     "text": [
      "  x1    x2    x3\n",
      "0  a  11.2  11.2\n",
      "1  b  23.2  23.2\n",
      "2  c  23.4  23.4\n",
      "方法一：按索引精准取值\n",
      "\n",
      "第一行第一列的值：a\n",
      "\n",
      "方法二：按标签精准取值\n",
      "\n",
      "a\n"
     ]
    }
   ],
   "source": [
    "print(df1)\n",
    "\n",
    "print('方法一：按索引精准取值')\n",
    "name = df1.iloc[0, 0]  # 获取第一行，指定列数据\n",
    "print(\"\\n第一行第一列的值：\" + name)\n",
    "\n",
    "print('\\n方法二：按标签精准取值\\n')\n",
    "name = df1.loc[0, 'x1']\n",
    "print(name)\n",
    "print(\"\\n第一行第一列的值：\" + name)"
   ]
  },
  {
   "cell_type": "markdown",
   "metadata": {},
   "source": [
    "## 五、行列删除\n",
    "\n",
    "axis=0 : 行删除(默认)\n",
    "\n",
    "axis=1 : 列删除 "
   ]
  },
  {
   "cell_type": "code",
   "execution_count": null,
   "metadata": {},
   "outputs": [
    {
     "name": "stdout",
     "output_type": "stream",
     "text": [
      "       0     1     2\n",
      "x1     a     b     c\n",
      "x2  11.2  23.2  23.4\n",
      "x3  11.2  23.2  23.4\n",
      "\n",
      " 删除行\n",
      "\n",
      "       0     1     2\n",
      "x2  11.2  23.2  23.4\n",
      "       1     2\n",
      "x1     b     c\n",
      "x2  23.2  23.4\n",
      "x3  23.2  23.4\n"
     ]
    }
   ],
   "source": [
    "# print(df1)\n",
    "print(df1)\n",
    "print('\\n 删除行\\n')\n",
    "print(df1.drop(['x1','x3']))\n",
    "\n",
    "print('\\n 删除列数据\\n')\n",
    "print(df1.drop([0], axis=1))\n"
   ]
  },
  {
   "cell_type": "markdown",
   "metadata": {},
   "source": [
    "## 六、列的数据格式化操作"
   ]
  },
  {
   "cell_type": "markdown",
   "metadata": {},
   "source": [
    "### 1. 直接列操作"
   ]
  },
  {
   "cell_type": "code",
   "execution_count": null,
   "metadata": {},
   "outputs": [
    {
     "name": "stdout",
     "output_type": "stream",
     "text": [
      "  x1    x2    x3        x4\n",
      "0  a  11.2  11.2  11.211.2\n",
      "1  b  23.2  23.2  23.223.2\n",
      "2  c  23.4  23.4  23.423.4\n",
      "  x1    x2    x3        x4\n",
      "0  a  11.2  11.2  11.211.2\n",
      "1  b  23.2  23.2  23.223.2\n",
      "2  c  23.4  23.4  23.423.4\n"
     ]
    }
   ],
   "source": [
    "print(df1)\n",
    "\n",
    "df1['x4'] = df1['x2'] + df1['x3']\n",
    "\n",
    "print(df1)"
   ]
  },
  {
   "cell_type": "markdown",
   "metadata": {},
   "source": [
    "### 2. map方式"
   ]
  },
  {
   "cell_type": "code",
   "execution_count": null,
   "metadata": {},
   "outputs": [
    {
     "name": "stdout",
     "output_type": "stream",
     "text": [
      "  x11   x21   x31\n",
      "0   a  11.2  11.2\n",
      "1   b  23.2  23.2\n",
      "2   c  23.4  23.4\n",
      "3   a     1    12\n",
      "  x111  x211  x311\n",
      "0    a  11.2  11.2\n",
      "1    b  23.2  23.2\n",
      "2    c  23.4  23.4\n",
      "3    a     1    12\n",
      "  x111222 x211222 x311222\n",
      "0       a    11.2    11.2\n",
      "1       b    23.2    23.2\n",
      "2       c    23.4    23.4\n",
      "3       a       1      12\n"
     ]
    }
   ],
   "source": [
    "# map 方式一\n",
    "print(df1)\n",
    "\n",
    "def test(x):\n",
    "  return f'{x}1'\n",
    "\n",
    "\n",
    "def test2(x):\n",
    "  return f'{x}2'\n",
    "\n",
    "df1.columns = df1.columns.map(test)\n",
    "print(df1)\n",
    "\n",
    "# 匿名函数\n",
    "df1.columns = df1.columns.map(lambda x: f'{x}222')\n",
    "print(df1)\n",
    "\n"
   ]
  },
  {
   "cell_type": "code",
   "execution_count": null,
   "metadata": {},
   "outputs": [
    {
     "name": "stdout",
     "output_type": "stream",
     "text": [
      "   x11   x21   x31\n",
      "0  NaN  11.2  11.2\n",
      "1  NaN  23.2  23.2\n",
      "2  NaN  23.4  23.4\n"
     ]
    }
   ],
   "source": [
    "# map 方式二\n",
    "df1['x11'] = df1['x11'].map({\n",
    "  'a': 'a1',\n",
    "  'b': 'b1',\n",
    "  'c': 'c1',\n",
    "})\n",
    "\n",
    "print(df1)"
   ]
  },
  {
   "cell_type": "markdown",
   "metadata": {},
   "source": [
    "### 3. split 字符串拆分处理\n",
    "\n",
    "```\n",
    "split`(*self*, *pat=None*, *n=-1*, *expand=False*)\n",
    "pat：分列的依据，可以是空格，符号，字符串等等。\n",
    "n：分列的次数，不指定的话就会根据符号的个数全部分列。\n",
    "expand：为True可以直接将分列后的结果转换成DataFrame。\n",
    "如果想要从最右边开始分列，可以使用rsplit()，rsplit()和split()的用法类似，一个从右边开始，一个从左边开始。\n",
    "```"
   ]
  },
  {
   "cell_type": "code",
   "execution_count": null,
   "metadata": {},
   "outputs": [
    {
     "name": "stdout",
     "output_type": "stream",
     "text": [
      "              brand_model cate\n",
      "0            德力西 GW912200   低压\n",
      "1  埃帝尔 IB-207TPN-06231C02   管阀\n",
      "2         德力西 72LT3YFM40D   低压\n",
      "3       科顺 2-3654-561 铆钉型   搬运\n",
      "\n",
      "格式化后：\n",
      "\n",
      "     0                   1\n",
      "0  德力西            GW912200\n",
      "1  埃帝尔  IB-207TPN-06231C02\n",
      "2  德力西         72LT3YFM40D\n",
      "3   科顺      2-3654-561 铆钉型\n",
      "\n",
      " 列拼接 \n",
      "\n",
      "              brand_model cate    0                   1\n",
      "0            德力西 GW912200   低压  德力西            GW912200\n",
      "1  埃帝尔 IB-207TPN-06231C02   管阀  埃帝尔  IB-207TPN-06231C02\n",
      "2         德力西 72LT3YFM40D   低压  德力西         72LT3YFM40D\n",
      "3       科顺 2-3654-561 铆钉型   搬运   科顺      2-3654-561 铆钉型\n"
     ]
    }
   ],
   "source": [
    "print(df3)\n",
    "df4 = df3['brand_model'].str.split(' ', 1, expand=True)\n",
    "\n",
    "\n",
    "print('\\n格式化后：\\n')\n",
    "print(df4)\n",
    "\n",
    "print('\\n 列拼接 \\n')\n",
    "print(pd.concat([df3, df4], axis=1))\n"
   ]
  },
  {
   "cell_type": "markdown",
   "metadata": {},
   "source": [
    "### 4. apply、applymap批量更改"
   ]
  },
  {
   "cell_type": "code",
   "execution_count": 26,
   "metadata": {},
   "outputs": [
    {
     "name": "stdout",
     "output_type": "stream",
     "text": [
      "     x2    x3\n",
      "0  11.2  11.2\n",
      "1  23.2  23.2\n",
      "2  23.4  23.4\n",
      "3   1.0  12.0\n",
      "\n",
      " 格式化后\n",
      "\n",
      "     x2    x3\n",
      "0  12.2  12.2\n",
      "1  24.2  24.2\n",
      "2  24.4  24.4\n",
      "3   2.0  13.0\n",
      "\n",
      " applymap格式化后\n",
      "\n",
      "     x2    x3\n",
      "0  13.2  13.2\n",
      "1  25.2  25.2\n",
      "2  25.4  25.4\n",
      "3   3.0  14.0\n",
      "       brand_model cate\n",
      "0     德力西 GW912200   低压\n",
      "1                0   管阀\n",
      "2  德力西 72LT3YFM40D   低压\n",
      "3                0   搬运\n"
     ]
    },
    {
     "data": {
      "text/plain": [
       "x2    58.8\n",
       "dtype: float64"
      ]
     },
     "execution_count": 26,
     "metadata": {},
     "output_type": "execute_result"
    }
   ],
   "source": [
    "print(df0)\n",
    "print('\\n 格式化后\\n')\n",
    "print(df0.apply(lambda x: x+1))\n",
    "\n",
    "print('\\n applymap格式化后\\n')\n",
    "\n",
    "print(df0.applymap(lambda x: x+2))\n",
    "# 过滤将包含-改为0\n",
    "df3_0 = df3.applymap(lambda x: 0 if '-' in x else x)\n",
    "print(df3_0)\n",
    "# 沿着列轴求和\n",
    "df0[[\"x2\"]].apply(sum, axis=0)"
   ]
  },
  {
   "cell_type": "markdown",
   "metadata": {},
   "source": [
    "### 5、类型转换\n",
    "\n",
    "> 股票代码的补位，例如000123，转成csv或者excel 时，变变成123\n",
    "\n",
    "```\n",
    "df['正股代码']  = df['正股代码'].str.zfill(6) #用的时候必须加上.str前缀\n",
    "\n",
    "<!-- 有时候似乎有问题 -->\n",
    "df['正股代码'] = df['正股代码'].astype('str') #将原本的int数据类型转换为文本\n",
    "\n",
    "df.to_csv('./test.csv', dtype = object)\n",
    "\n",
    "```"
   ]
  },
  {
   "cell_type": "markdown",
   "metadata": {},
   "source": [
    "### 6、变更类型"
   ]
  },
  {
   "cell_type": "code",
   "execution_count": 23,
   "metadata": {},
   "outputs": [
    {
     "name": "stdout",
     "output_type": "stream",
     "text": [
      "    a    b  c\n",
      "0  11  1.2  3\n",
      "1  22  4.8  5\n",
      "      a    b    c\n",
      "0  11.0  1.2  3.0\n",
      "1  22.0  4.8  5.0\n",
      "a    object\n",
      "b    object\n",
      "c    object\n",
      "dtype: object\n"
     ]
    },
    {
     "data": {
      "text/html": [
       "<div>\n",
       "<style scoped>\n",
       "    .dataframe tbody tr th:only-of-type {\n",
       "        vertical-align: middle;\n",
       "    }\n",
       "\n",
       "    .dataframe tbody tr th {\n",
       "        vertical-align: top;\n",
       "    }\n",
       "\n",
       "    .dataframe thead th {\n",
       "        text-align: right;\n",
       "    }\n",
       "</style>\n",
       "<table border=\"1\" class=\"dataframe\">\n",
       "  <thead>\n",
       "    <tr style=\"text-align: right;\">\n",
       "      <th></th>\n",
       "      <th>a</th>\n",
       "      <th>b</th>\n",
       "      <th>c</th>\n",
       "    </tr>\n",
       "  </thead>\n",
       "  <tbody>\n",
       "    <tr>\n",
       "      <th>0</th>\n",
       "      <td>11.0</td>\n",
       "      <td>1.2</td>\n",
       "      <td>3.0</td>\n",
       "    </tr>\n",
       "    <tr>\n",
       "      <th>1</th>\n",
       "      <td>22.0</td>\n",
       "      <td>4.8</td>\n",
       "      <td>5.0</td>\n",
       "    </tr>\n",
       "  </tbody>\n",
       "</table>\n",
       "</div>"
      ],
      "text/plain": [
       "      a    b    c\n",
       "0  11.0  1.2  3.0\n",
       "1  22.0  4.8  5.0"
      ]
     },
     "execution_count": 23,
     "metadata": {},
     "output_type": "execute_result"
    }
   ],
   "source": [
    "dfx3 = pd.DataFrame([['11', '1.2', '3'], ['22', '4.8', '5']], columns=['a', 'b', 'c'])\n",
    "print(dfx3)\n",
    "# pd.to_numeric()自动转换成float类型\n",
    "print(dfx3.apply(pd.to_numeric, errors='ignore', downcast='float'))\n",
    "print(dfx3.dtypes)\n",
    "# 遍历的方式格式转换\n",
    "dfx3.applymap(lambda x: float(x))\n",
    "# print(dfx3['a'].dtypes)\n"
   ]
  },
  {
   "cell_type": "markdown",
   "metadata": {},
   "source": [
    "## 七、行、列名称更改"
   ]
  },
  {
   "cell_type": "markdown",
   "metadata": {},
   "source": [
    "### 1. 单独更改\n",
    "\n",
    "> 不会更改源数据，要重新赋值"
   ]
  },
  {
   "cell_type": "code",
   "execution_count": null,
   "metadata": {},
   "outputs": [
    {
     "name": "stdout",
     "output_type": "stream",
     "text": [
      "       0     1     2\n",
      "x1     a     b     c\n",
      "x2  11.2  23.2  23.4\n",
      "x3  11.2  23.2  23.4\n",
      "\n",
      "---指定行更改--- \n",
      "\n",
      "        0     1     2\n",
      "x11     a     b     c\n",
      "x2   11.2  23.2  23.4\n",
      "x3   11.2  23.2  23.4\n",
      "\n",
      "---指定行、列更改--- \n",
      "\n"
     ]
    },
    {
     "data": {
      "text/html": [
       "<div>\n",
       "<style scoped>\n",
       "    .dataframe tbody tr th:only-of-type {\n",
       "        vertical-align: middle;\n",
       "    }\n",
       "\n",
       "    .dataframe tbody tr th {\n",
       "        vertical-align: top;\n",
       "    }\n",
       "\n",
       "    .dataframe thead th {\n",
       "        text-align: right;\n",
       "    }\n",
       "</style>\n",
       "<table border=\"1\" class=\"dataframe\">\n",
       "  <thead>\n",
       "    <tr style=\"text-align: right;\">\n",
       "      <th></th>\n",
       "      <th>11</th>\n",
       "      <th>1</th>\n",
       "      <th>2</th>\n",
       "    </tr>\n",
       "  </thead>\n",
       "  <tbody>\n",
       "    <tr>\n",
       "      <th>x1</th>\n",
       "      <td>a</td>\n",
       "      <td>b</td>\n",
       "      <td>c</td>\n",
       "    </tr>\n",
       "    <tr>\n",
       "      <th>bj</th>\n",
       "      <td>11.2</td>\n",
       "      <td>23.2</td>\n",
       "      <td>23.4</td>\n",
       "    </tr>\n",
       "    <tr>\n",
       "      <th>x3</th>\n",
       "      <td>11.2</td>\n",
       "      <td>23.2</td>\n",
       "      <td>23.4</td>\n",
       "    </tr>\n",
       "  </tbody>\n",
       "</table>\n",
       "</div>"
      ],
      "text/plain": [
       "      11    1     2 \n",
       "x1     a     b     c\n",
       "bj  11.2  23.2  23.4\n",
       "x3  11.2  23.2  23.4"
      ]
     },
     "execution_count": 37,
     "metadata": {},
     "output_type": "execute_result"
    }
   ],
   "source": [
    "print(df1)\n",
    "\n",
    "print('\\n---指定行更改--- \\n')\n",
    "\n",
    "print(df1.rename({ 'x1': 'x11' }))\n",
    "\n",
    "print('\\n---指定行、列更改--- \\n')\n",
    "\n",
    "df1.rename(index={'x2': 'bj'}, columns={\n",
    "                 0: 11})  # 为某个 index 单独修改名称\n"
   ]
  },
  {
   "cell_type": "markdown",
   "metadata": {},
   "source": [
    "### 2. 批量更改"
   ]
  },
  {
   "cell_type": "code",
   "execution_count": 13,
   "metadata": {},
   "outputs": [
    {
     "name": "stdout",
     "output_type": "stream",
     "text": [
      "  x1    x2    x3\n",
      "0  a  11.2  11.2\n",
      "1  b  23.2  23.2\n",
      "2  c  23.4  23.4\n",
      "3  a     1    12\n",
      "   x1    x2    x3\n",
      "0%  a  11.2  11.2\n",
      "1%  b  23.2  23.2\n",
      "2%  c  23.4  23.4\n",
      "3%  a     1    12\n",
      "   x1    x2    x3\n",
      "0  a%  11.2  11.2\n",
      "1  b%  23.2  23.2\n",
      "2  c%  23.4  23.4\n",
      "3  a%     1    12\n"
     ]
    }
   ],
   "source": [
    "print(df1)\n",
    "\n",
    "# 自定义map函数\n",
    "def test_map(x):\n",
    "    return x+'_ABC'\n",
    "\n",
    "\n",
    "# print(df1.index.map(test_map))\n",
    "# 输出 Index(['BEIJING_ABC', 'SHANGHAI_ABC', 'GUANGZHOU_ABC'], dtype='object')\n",
    "\n",
    "# print(df1.rename(index=test_map))\n",
    "print(df1.rename(index=lambda x: f'{x}%'))\n",
    "\n",
    "# print(df1['x1'].map(lambda x: f'{x}%'))\n",
    "# df1['x1'] = df1['x1'].map(lambda x: f'{x}%')\n",
    "# print(df1)"
   ]
  },
  {
   "cell_type": "markdown",
   "metadata": {},
   "source": [
    "## 批量去除%,并转化为float类型（排序）\n"
   ]
  },
  {
   "cell_type": "code",
   "execution_count": 42,
   "metadata": {},
   "outputs": [
    {
     "name": "stdout",
     "output_type": "stream",
     "text": [
      "    x1     x2     x3\n",
      "0  12%   11.2   11.2\n",
      "1   23  23.2%  23.2%\n",
      "2   99   23.4  23.4%\n",
      "3  123      1    12%\n",
      "     x1    x2    x3\n",
      "0  12.0  11.2  11.2\n",
      "1    23  23.2  23.2\n",
      "2    99  23.4  23.4\n",
      "3   123     1  12.0\n"
     ]
    }
   ],
   "source": [
    "print(df6)\n",
    "df6_out = df6.applymap(lambda x: x if not x.endswith('%') else float(x.replace('%', '')))\n",
    "print(df6_out)"
   ]
  },
  {
   "cell_type": "markdown",
   "metadata": {},
   "source": [
    "## 八、去重\n",
    "\n",
    "```bash\n",
    "data.drop_duplicates(subset=['A','B'],keep='first',inplace=True)\n",
    "```\n",
    "\n",
    "* subset对应的值是列名，表示只考虑这两列，将这两列对应值相同的行进行去重。\n",
    "默认值为subset=None表示考虑所有列。\n",
    "* keep='first'表示保留第一次出现的重复行，是默认值。keep另外两个取值为\"last\"和False，\n",
    "分别表示保留最后一次出现的重复行和去除所有重复行。\n",
    "* inplace=True表示直接在原来的DataFrame上删除重复项，而默认值False表示生成一个副本\n"
   ]
  },
  {
   "cell_type": "code",
   "execution_count": null,
   "metadata": {},
   "outputs": [
    {
     "name": "stdout",
     "output_type": "stream",
     "text": [
      "  x1    x2    x3\n",
      "0  a  11.2  11.2\n",
      "1  b  23.2  23.2\n",
      "2  c  23.4  23.4\n",
      "去重\n",
      "  x1    x2    x3\n",
      "0  a  11.2  11.2\n",
      "1  b  23.2  23.2\n",
      "2  c  23.4  23.4\n"
     ]
    }
   ],
   "source": [
    "print(df1)\n",
    "print('去重')\n",
    "df1 = df1.drop_duplicates(['x1'])\n",
    "print(df1)"
   ]
  },
  {
   "cell_type": "markdown",
   "metadata": {},
   "source": [
    "## 九、累加\n",
    "\n",
    "```\n",
    "DataFrame.cumsum(axis=None, skipna=True, *args, **kwargs)\n",
    "```\n",
    "\n",
    "* axis\t对每行的值累加（1或columns）或者对每列的值累加（0或index）\t可选值{0 or ‘index’, 1 or ‘columns’}, 默认值0\n",
    "* skipna\t是否排除空值（NaN）\t默认值True\n",
    "* 返回值\t为Series 或 DataFrame\n"
   ]
  },
  {
   "cell_type": "code",
   "execution_count": null,
   "metadata": {},
   "outputs": [
    {
     "name": "stdout",
     "output_type": "stream",
     "text": [
      "  x1    x2    x3\n",
      "0  a  11.2  11.2\n",
      "1  b  23.2  23.2\n",
      "2  c  23.4  23.4\n",
      "3  a     1    12\n",
      "行累加\n",
      "     x1             x2              x3\n",
      "0     a           11.2            11.2\n",
      "1    ab       11.223.2        11.223.2\n",
      "2   abc   11.223.223.4    11.223.223.4\n",
      "3  abca  11.223.223.41  11.223.223.412\n",
      "列累加\n",
      "  x1     x2         x3\n",
      "0  a  a11.2  a11.211.2\n",
      "1  b  b23.2  b23.223.2\n",
      "2  c  c23.4  c23.423.4\n",
      "3  a     a1       a112\n"
     ]
    }
   ],
   "source": [
    "print(df1)\n",
    "\n",
    "print('行累加')\n",
    "\n",
    "# 行累加\n",
    "print(df1.cumsum())\n",
    "\n",
    "print('列累加')\n",
    "\n",
    "print(df1.cumsum(axis=1))\n"
   ]
  },
  {
   "cell_type": "markdown",
   "metadata": {},
   "source": [
    "## 十、排序"
   ]
  },
  {
   "cell_type": "code",
   "execution_count": 24,
   "metadata": {},
   "outputs": [
    {
     "name": "stdout",
     "output_type": "stream",
     "text": [
      "      x1    x2    x3\n",
      "0   12.0  11.2  11.2\n",
      "1   23.0  23.2  23.2\n",
      "2   99.0  23.4  23.4\n",
      "3  123.0     1    12\n"
     ]
    },
    {
     "data": {
      "text/html": [
       "<div>\n",
       "<style scoped>\n",
       "    .dataframe tbody tr th:only-of-type {\n",
       "        vertical-align: middle;\n",
       "    }\n",
       "\n",
       "    .dataframe tbody tr th {\n",
       "        vertical-align: top;\n",
       "    }\n",
       "\n",
       "    .dataframe thead th {\n",
       "        text-align: right;\n",
       "    }\n",
       "</style>\n",
       "<table border=\"1\" class=\"dataframe\">\n",
       "  <thead>\n",
       "    <tr style=\"text-align: right;\">\n",
       "      <th></th>\n",
       "      <th>x1</th>\n",
       "      <th>x2</th>\n",
       "      <th>x3</th>\n",
       "    </tr>\n",
       "  </thead>\n",
       "  <tbody>\n",
       "    <tr>\n",
       "      <th>0</th>\n",
       "      <td>12.0</td>\n",
       "      <td>11.2</td>\n",
       "      <td>11.2</td>\n",
       "    </tr>\n",
       "    <tr>\n",
       "      <th>1</th>\n",
       "      <td>23.0</td>\n",
       "      <td>23.2</td>\n",
       "      <td>23.2</td>\n",
       "    </tr>\n",
       "    <tr>\n",
       "      <th>2</th>\n",
       "      <td>99.0</td>\n",
       "      <td>23.4</td>\n",
       "      <td>23.4</td>\n",
       "    </tr>\n",
       "    <tr>\n",
       "      <th>3</th>\n",
       "      <td>123.0</td>\n",
       "      <td>1</td>\n",
       "      <td>12</td>\n",
       "    </tr>\n",
       "  </tbody>\n",
       "</table>\n",
       "</div>"
      ],
      "text/plain": [
       "      x1    x2    x3\n",
       "0   12.0  11.2  11.2\n",
       "1   23.0  23.2  23.2\n",
       "2   99.0  23.4  23.4\n",
       "3  123.0     1    12"
      ]
     },
     "execution_count": 24,
     "metadata": {},
     "output_type": "execute_result"
    }
   ],
   "source": [
    "print(df5)\n",
    "# 先转化成number\n",
    "df5['x1'] = df5['x1'].map(lambda x: float(x))\n",
    "df5.sort_values(by='x1') # 默认升序"
   ]
  },
  {
   "cell_type": "markdown",
   "metadata": {},
   "source": [
    "## 删除指定条件的行"
   ]
  },
  {
   "cell_type": "code",
   "execution_count": 18,
   "metadata": {},
   "outputs": [
    {
     "name": "stdout",
     "output_type": "stream",
     "text": [
      "      x1    x2    x3\n",
      "0   12.0  11.2  11.2\n",
      "1   23.0  23.2  23.2\n",
      "2   99.0  23.4  23.4\n",
      "3  123.0   1.0  12.0\n",
      "      x1    x2    x3\n",
      "0   12.0  11.2  11.2\n",
      "2   99.0  23.4  23.4\n",
      "3  123.0   1.0  12.0\n",
      "     x1    x2    x3\n",
      "0  12.0  11.2  11.2\n"
     ]
    }
   ],
   "source": [
    "print(df5)\n",
    "# 先转成数字类型\n",
    "df5= df5.applymap(lambda x: float(x))\n",
    "# 删除x1列大于20的第一行\n",
    "print(df5.drop(index=df5[df5['x1'] > 20].index[0]))\n",
    "# 删除x1列大于20的所有行\n",
    "print(df5.drop(index=df5[df5['x1'] > 20].index))"
   ]
  },
  {
   "cell_type": "markdown",
   "metadata": {},
   "source": [
    "## dataframe to json"
   ]
  },
  {
   "cell_type": "code",
   "execution_count": 3,
   "metadata": {},
   "outputs": [
    {
     "name": "stdout",
     "output_type": "stream",
     "text": [
      "    x1    x2    x3\n",
      "0   12  11.2  11.2\n",
      "1   23  23.2  23.2\n",
      "2   99  23.4  23.4\n",
      "3  123     1    12\n"
     ]
    },
    {
     "data": {
      "text/plain": [
       "'{\"schema\":{\"fields\":[{\"name\":\"index\",\"type\":\"integer\"},{\"name\":\"x1\",\"type\":\"string\"},{\"name\":\"x2\",\"type\":\"string\"},{\"name\":\"x3\",\"type\":\"string\"}],\"primaryKey\":[\"index\"],\"pandas_version\":\"0.20.0\"},\"data\":[{\"index\":0,\"x1\":\"12\",\"x2\":\"11.2\",\"x3\":\"11.2\"},{\"index\":1,\"x1\":\"23\",\"x2\":\"23.2\",\"x3\":\"23.2\"},{\"index\":2,\"x1\":\"99\",\"x2\":\"23.4\",\"x3\":\"23.4\"},{\"index\":3,\"x1\":\"123\",\"x2\":\"1\",\"x3\":\"12\"}]}'"
      ]
     },
     "execution_count": 3,
     "metadata": {},
     "output_type": "execute_result"
    }
   ],
   "source": [
    "print(df5)\n",
    "\n",
    "df5.to_json(orient='table')\n"
   ]
  },
  {
   "cell_type": "markdown",
   "metadata": {},
   "source": [
    "## 格式化"
   ]
  },
  {
   "cell_type": "markdown",
   "metadata": {},
   "source": [
    "### 转换成数字类型"
   ]
  },
  {
   "cell_type": "code",
   "execution_count": 11,
   "metadata": {},
   "outputs": [
    {
     "name": "stdout",
     "output_type": "stream",
     "text": [
      "  x1    x2    x3\n",
      "0  a  11.2  11.2\n",
      "1  b  23.2  23.2\n",
      "2  c  23.4  23.4\n",
      "3  a   1.0    12\n",
      "格式化\n",
      "0    11.2\n",
      "1    23.2\n",
      "2    23.4\n",
      "3     1.0\n",
      "Name: x2, dtype: float64\n"
     ]
    }
   ],
   "source": [
    "print(df1)\n",
    "# print(df1['x2'])\n",
    "df1['x2'] = df1['x2'].apply(pd.to_numeric)\n",
    "# df = df.apply(pd.to_numeric, errors='ignore', downcast='float')\n",
    "print('格式化')\n",
    "print(df1['x2'])"
   ]
  }
 ],
 "metadata": {
  "interpreter": {
   "hash": "dbc1128b55dfe7674910d9dec9178b9135ab71c646c7080f47e59389499c8905"
  },
  "kernelspec": {
   "display_name": "Python 3.9.6 64-bit ('py39': conda)",
   "name": "python3"
  },
  "language_info": {
   "codemirror_mode": {
    "name": "ipython",
    "version": 3
   },
   "file_extension": ".py",
   "mimetype": "text/x-python",
   "name": "python",
   "nbconvert_exporter": "python",
   "pygments_lexer": "ipython3",
   "version": "3.9.6"
  },
  "widgets": {
   "application/vnd.jupyter.widget-state+json": {
    "state": {},
    "version_major": 2,
    "version_minor": 0
   }
  }
 },
 "nbformat": 4,
 "nbformat_minor": 4
}
