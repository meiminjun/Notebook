{
 "cells": [
  {
   "cell_type": "markdown",
   "source": [
    "# dataframe 的常见操作"
   ],
   "metadata": {}
  },
  {
   "cell_type": "code",
   "execution_count": 2,
   "source": [
    "import pandas as pd"
   ],
   "outputs": [],
   "metadata": {}
  },
  {
   "cell_type": "code",
   "execution_count": 3,
   "source": [
    "df1 = pd.DataFrame({'x1': [\"a\", \"b\", \"c\"], \"x2\": [\n",
    "                   \"11.2\", \"23.2\", \"23.4\"], \"x3\": [\"11.2\", \"23.2\", \"23.4\"]})\n",
    "print(df1)\n",
    "df2 = pd.DataFrame({'x1': [\"a\", \"b\", \"d\"], \"x2\": [\"20.23\", 'NaN', \"90.4\"]})\n",
    "print(df2)\n"
   ],
   "outputs": [
    {
     "output_type": "stream",
     "name": "stdout",
     "text": [
      "  x1    x2    x3\n",
      "0  a  11.2  11.2\n",
      "1  b  23.2  23.2\n",
      "2  c  23.4  23.4\n",
      "  x1     x2\n",
      "0  a  20.23\n",
      "1  b    NaN\n",
      "2  d   90.4\n"
     ]
    }
   ],
   "metadata": {}
  },
  {
   "cell_type": "markdown",
   "source": [
    "## 一、索引的最常见操作"
   ],
   "metadata": {}
  },
  {
   "cell_type": "markdown",
   "source": [
    "### 1. 设置索引"
   ],
   "metadata": {}
  },
  {
   "cell_type": "code",
   "execution_count": 22,
   "source": [
    "df1.set_index('x1')\n",
    "\n",
    "# 设置多重索引\n",
    "print(df1.set_index(['x1', 'x3']))\n",
    "\n",
    "# drop=False 表示保留原先\"YY\"列的数据\n",
    "df1_drop = df1.set_index(\"x1\", drop=False)  \n",
    "print(df1_drop)\n",
    "\n",
    "# index索引对象可以转换成列表类型\n",
    "print(list(df1.index))  # ['ll', 'll', 'mm']\n"
   ],
   "outputs": [
    {
     "output_type": "stream",
     "name": "stdout",
     "text": [
      "           x2\n",
      "x1 x3        \n",
      "a  11.2  11.2\n",
      "b  23.2  23.2\n",
      "c  23.4  23.4\n",
      "   x1    x2    x3\n",
      "x1               \n",
      "a   a  11.2  11.2\n",
      "b   b  23.2  23.2\n",
      "c   c  23.4  23.4\n",
      "[0, 1, 2]\n"
     ]
    }
   ],
   "metadata": {}
  },
  {
   "cell_type": "markdown",
   "source": [
    "### 2. 初始设置索引"
   ],
   "metadata": {}
  },
  {
   "cell_type": "code",
   "execution_count": 23,
   "source": [
    "my_df = pd.DataFrame({\n",
    "    'Person': ['Alice', 'Steven', 'Neesham', 'Chris', 'Alice'],\n",
    "    'City': ['Berlin', 'Montreal', 'Toronto', 'Rome', 'Munich'],\n",
    "    'Mother Tongue': ['German', 'French', 'English', 'Italian', 'German'],\n",
    "    'Age':  [37, 20, 38, 23, 35],\n",
    "\n",
    "}, index=[\"A\", \"B\", \"C\", \"D\", \"E\"])\n",
    "\n",
    "print(my_df)"
   ],
   "outputs": [
    {
     "output_type": "stream",
     "name": "stdout",
     "text": [
      "    Person      City Mother Tongue  Age\n",
      "A    Alice    Berlin        German   37\n",
      "B   Steven  Montreal        French   20\n",
      "C  Neesham   Toronto       English   38\n",
      "D    Chris      Rome       Italian   23\n",
      "E    Alice    Munich        German   35\n"
     ]
    }
   ],
   "metadata": {}
  },
  {
   "cell_type": "markdown",
   "source": [
    "### 3. 使用 reset_index() 方法删除 Pandas DataFrame 的索引"
   ],
   "metadata": {}
  },
  {
   "cell_type": "code",
   "execution_count": 24,
   "source": [
    "my_df = pd.DataFrame({\n",
    "    'Person': ['Alice', 'Steven', 'Neesham', 'Chris', 'Alice'],\n",
    "    'City': ['Berlin', 'Montreal', 'Toronto', 'Rome', 'Munich'],\n",
    "    'Mother Tongue': ['German', 'French', 'English', 'Italian', 'German'],\n",
    "    'Age':  [37, 20, 38, 23, 35],\n",
    "\n",
    "}, index=[\"A\", \"B\", \"C\", \"D\", \"E\"])\n",
    "\n",
    "df_reset = my_df.reset_index()\n",
    "\n",
    "print(\"Before reseting Index:\")\n",
    "print(my_df, \"\\n\")\n",
    "\n",
    "print(\"After reseting Index:\")\n",
    "print(df_reset)\n"
   ],
   "outputs": [
    {
     "output_type": "stream",
     "name": "stdout",
     "text": [
      "Before reseting Index:\n",
      "    Person      City Mother Tongue  Age\n",
      "A    Alice    Berlin        German   37\n",
      "B   Steven  Montreal        French   20\n",
      "C  Neesham   Toronto       English   38\n",
      "D    Chris      Rome       Italian   23\n",
      "E    Alice    Munich        German   35 \n",
      "\n",
      "After reseting Index:\n",
      "  index   Person      City Mother Tongue  Age\n",
      "0     A    Alice    Berlin        German   37\n",
      "1     B   Steven  Montreal        French   20\n",
      "2     C  Neesham   Toronto       English   38\n",
      "3     D    Chris      Rome       Italian   23\n",
      "4     E    Alice    Munich        German   35\n"
     ]
    }
   ],
   "metadata": {}
  },
  {
   "cell_type": "markdown",
   "source": [
    "> 它将重置 DataFrame 的索引，但现在的索引将显示为 index 列。如果我们想删除 index 列，我们可以在 reset_index() 方法中设置 drop=True"
   ],
   "metadata": {}
  },
  {
   "cell_type": "code",
   "execution_count": 26,
   "source": [
    "my_df = pd.DataFrame({\n",
    "    'Person': ['Alice', 'Steven', 'Neesham', 'Chris', 'Alice'],\n",
    "    'City': ['Berlin', 'Montreal', 'Toronto', 'Rome', 'Munich'],\n",
    "    'Mother Tongue': ['German', 'French', 'English', 'Italian', 'German'],\n",
    "    'Age':  [37, 20, 38, 23, 35],\n",
    "\n",
    "},index=[\"A\",\"B\",\"C\",\"D\",\"E\"])\n",
    "\n",
    "# 重置索引，并且删除原来的索引\n",
    "df_reset=my_df.reset_index(drop=True)\n",
    "\n",
    "print(\"Before reseting Index:\")\n",
    "print(my_df,\"\\n\")\n",
    "\n",
    "print(\"After reseting Index:\")\n",
    "print(df_reset)"
   ],
   "outputs": [
    {
     "output_type": "stream",
     "name": "stdout",
     "text": [
      "Before reseting Index:\n",
      "    Person      City Mother Tongue  Age\n",
      "A    Alice    Berlin        German   37\n",
      "B   Steven  Montreal        French   20\n",
      "C  Neesham   Toronto       English   38\n",
      "D    Chris      Rome       Italian   23\n",
      "E    Alice    Munich        German   35 \n",
      "\n",
      "After reseting Index:\n",
      "    Person      City Mother Tongue  Age\n",
      "0    Alice    Berlin        German   37\n",
      "1   Steven  Montreal        French   20\n",
      "2  Neesham   Toronto       English   38\n",
      "3    Chris      Rome       Italian   23\n",
      "4    Alice    Munich        German   35\n"
     ]
    }
   ],
   "metadata": {}
  },
  {
   "cell_type": "markdown",
   "source": [
    "## 二、合并数据"
   ],
   "metadata": {}
  },
  {
   "cell_type": "code",
   "execution_count": 11,
   "source": [
    "# 以左边列为基准\n",
    "pd.merge(df1, df2, how='left', on='x1')\n",
    "\n",
    "# 以右边列为基准\n",
    "pd.merge(df1, df2, how='right', on='x1')\n",
    "\n",
    "# 已交集\n",
    "pd.merge(df1, df2, how='inner', on='x1')\n",
    "\n",
    "# 全部\n",
    "pd.merge(df1, df2, how='outer', on='x1')\n"
   ],
   "outputs": [
    {
     "output_type": "execute_result",
     "data": {
      "text/html": [
       "<div>\n",
       "<style scoped>\n",
       "    .dataframe tbody tr th:only-of-type {\n",
       "        vertical-align: middle;\n",
       "    }\n",
       "\n",
       "    .dataframe tbody tr th {\n",
       "        vertical-align: top;\n",
       "    }\n",
       "\n",
       "    .dataframe thead th {\n",
       "        text-align: right;\n",
       "    }\n",
       "</style>\n",
       "<table border=\"1\" class=\"dataframe\">\n",
       "  <thead>\n",
       "    <tr style=\"text-align: right;\">\n",
       "      <th></th>\n",
       "      <th>x1</th>\n",
       "      <th>x2_x</th>\n",
       "      <th>x2_y</th>\n",
       "    </tr>\n",
       "  </thead>\n",
       "  <tbody>\n",
       "    <tr>\n",
       "      <th>0</th>\n",
       "      <td>a</td>\n",
       "      <td>11.2</td>\n",
       "      <td>20.23</td>\n",
       "    </tr>\n",
       "    <tr>\n",
       "      <th>1</th>\n",
       "      <td>b</td>\n",
       "      <td>23.2</td>\n",
       "      <td>NaN</td>\n",
       "    </tr>\n",
       "    <tr>\n",
       "      <th>2</th>\n",
       "      <td>c</td>\n",
       "      <td>23.4</td>\n",
       "      <td>NaN</td>\n",
       "    </tr>\n",
       "    <tr>\n",
       "      <th>3</th>\n",
       "      <td>d</td>\n",
       "      <td>NaN</td>\n",
       "      <td>90.4</td>\n",
       "    </tr>\n",
       "  </tbody>\n",
       "</table>\n",
       "</div>"
      ],
      "text/plain": [
       "  x1  x2_x   x2_y\n",
       "0  a  11.2  20.23\n",
       "1  b  23.2    NaN\n",
       "2  c  23.4    NaN\n",
       "3  d   NaN   90.4"
      ]
     },
     "metadata": {},
     "execution_count": 11
    }
   ],
   "metadata": {}
  },
  {
   "cell_type": "markdown",
   "source": [
    "## 三、行、列的转置\n",
    "\n",
    "> 原先的索引变成了行，所以说要转置时，先设置一下索引，不然转换后colums 变成了数字索引"
   ],
   "metadata": {}
  },
  {
   "cell_type": "code",
   "execution_count": 27,
   "source": [
    "print(df1)\n",
    "# \n",
    "print(df1.T)"
   ],
   "outputs": [
    {
     "output_type": "stream",
     "name": "stdout",
     "text": [
      "  x1    x2    x3\n",
      "0  a  11.2  11.2\n",
      "1  b  23.2  23.2\n",
      "2  c  23.4  23.4\n",
      "       0     1     2\n",
      "x1     a     b     c\n",
      "x2  11.2  23.2  23.4\n",
      "x3  11.2  23.2  23.4\n"
     ]
    }
   ],
   "metadata": {}
  },
  {
   "cell_type": "markdown",
   "source": [
    "### 正确的方式\n"
   ],
   "metadata": {}
  },
  {
   "cell_type": "code",
   "execution_count": 32,
   "source": [
    "print(df1.set_index('x1'))\n",
    "\n",
    "print('\\n 转换后:\\n')\n",
    "\n",
    "print(df1.set_index('x1').T)\n"
   ],
   "outputs": [
    {
     "output_type": "stream",
     "name": "stdout",
     "text": [
      "      x2    x3\n",
      "x1            \n",
      "a   11.2  11.2\n",
      "b   23.2  23.2\n",
      "c   23.4  23.4\n",
      "\n",
      " 转换后:\n",
      "\n",
      "x1     a     b     c\n",
      "x2  11.2  23.2  23.4\n",
      "x3  11.2  23.2  23.4\n"
     ]
    }
   ],
   "metadata": {}
  },
  {
   "cell_type": "markdown",
   "source": [
    "## 三、行列获取"
   ],
   "metadata": {}
  },
  {
   "cell_type": "markdown",
   "source": [
    "### 1. 列获取"
   ],
   "metadata": {}
  },
  {
   "cell_type": "markdown",
   "source": [
    "方式一： 按标签（最常用）"
   ],
   "metadata": {}
  },
  {
   "cell_type": "code",
   "execution_count": 48,
   "source": [
    "print(df1)\n",
    "\n",
    "print('获取单列')\n",
    "print(df1['x1'])\n",
    "\n",
    "print('\\n获取多列\\n')\n",
    "print(df1[['x1','x3']])"
   ],
   "outputs": [
    {
     "output_type": "stream",
     "name": "stdout",
     "text": [
      "  x1    x2    x3\n",
      "0  a  11.2  11.2\n",
      "1  b  23.2  23.2\n",
      "2  c  23.4  23.4\n",
      "获取单列\n",
      "0    a\n",
      "1    b\n",
      "2    c\n",
      "Name: x1, dtype: object\n",
      "\n",
      "获取多列\n",
      "\n",
      "  x1    x3\n",
      "0  a  11.2\n",
      "1  b  23.2\n",
      "2  c  23.4\n"
     ]
    }
   ],
   "metadata": {}
  },
  {
   "cell_type": "markdown",
   "source": [
    "方式二： 按索引"
   ],
   "metadata": {}
  },
  {
   "cell_type": "code",
   "execution_count": 59,
   "source": [
    "# 单索引\n",
    "print(df1.iloc[:, 0])\n",
    "\n",
    "# 多索引\n",
    "print(df1.iloc[:, 0:])"
   ],
   "outputs": [
    {
     "output_type": "stream",
     "name": "stdout",
     "text": [
      "0    a\n",
      "1    b\n",
      "2    c\n",
      "Name: x1, dtype: object\n",
      "  x1    x2    x3\n",
      "0  a  11.2  11.2\n",
      "1  b  23.2  23.2\n",
      "2  c  23.4  23.4\n"
     ]
    }
   ],
   "metadata": {}
  },
  {
   "cell_type": "markdown",
   "source": [
    "### 2. 行获取"
   ],
   "metadata": {}
  },
  {
   "cell_type": "markdown",
   "source": [
    "方式一： 按标签获取："
   ],
   "metadata": {}
  },
  {
   "cell_type": "code",
   "execution_count": 41,
   "source": [
    "df3 = df1.set_index('x1').T\n",
    "print(df3)\n",
    "# 按标签获取\n",
    "df3.loc['x2']\n"
   ],
   "outputs": [
    {
     "output_type": "stream",
     "name": "stdout",
     "text": [
      "x1     a     b     c\n",
      "x2  11.2  23.2  23.4\n",
      "x3  11.2  23.2  23.4\n"
     ]
    },
    {
     "output_type": "execute_result",
     "data": {
      "text/plain": [
       "x1\n",
       "a    11.2\n",
       "b    23.2\n",
       "c    23.4\n",
       "Name: x2, dtype: object"
      ]
     },
     "metadata": {},
     "execution_count": 41
    }
   ],
   "metadata": {}
  },
  {
   "cell_type": "markdown",
   "source": [
    "方式二：按索引获取"
   ],
   "metadata": {}
  },
  {
   "cell_type": "code",
   "execution_count": 45,
   "source": [
    "print('正常获取：')\n",
    "print(df3.iloc[0])\n",
    "\n",
    "print('\\n区间获取\\n')\n",
    "print(df3.iloc[0:1])\n"
   ],
   "outputs": [
    {
     "output_type": "stream",
     "name": "stdout",
     "text": [
      "正常获取：\n",
      "x1\n",
      "a    11.2\n",
      "b    23.2\n",
      "c    23.4\n",
      "Name: x2, dtype: object\n",
      "\n",
      "区间获取\n",
      "\n",
      "x1     a     b     c\n",
      "x2  11.2  23.2  23.4\n"
     ]
    }
   ],
   "metadata": {}
  },
  {
   "cell_type": "markdown",
   "source": [
    "### 3. 精准取值"
   ],
   "metadata": {}
  },
  {
   "cell_type": "code",
   "execution_count": 66,
   "source": [
    "print(df1)\n",
    "\n",
    "print('方法一：按索引精准取值')\n",
    "name = df1.iloc[0, 0]  # 获取第一行，指定列数据\n",
    "print(\"\\n第一行第一列的值：\" + name)\n",
    "\n",
    "print('\\n方法二：按标签精准取值\\n')\n",
    "name = df1.loc[0, 'x1']\n",
    "print(name)\n",
    "print(\"\\n第一行第一列的值：\" + name)"
   ],
   "outputs": [
    {
     "output_type": "stream",
     "name": "stdout",
     "text": [
      "  x1    x2    x3\n",
      "0  a  11.2  11.2\n",
      "1  b  23.2  23.2\n",
      "2  c  23.4  23.4\n",
      "方法一：按索引精准取值\n",
      "\n",
      "第一行第一列的值：a\n",
      "\n",
      "方法二：按标签精准取值\n",
      "\n",
      "a\n"
     ]
    }
   ],
   "metadata": {}
  },
  {
   "cell_type": "markdown",
   "source": [
    "## 四、行列删除\n",
    "\n",
    "axis=0 : 行删除(默认)\n",
    "\n",
    "axis=1 : 列删除 "
   ],
   "metadata": {}
  },
  {
   "cell_type": "code",
   "execution_count": 27,
   "source": [
    "# print(df1)\n",
    "print(df1)\n",
    "print('\\n 删除行\\n')\n",
    "print(df1.drop(['x1','x3']))\n",
    "\n",
    "print('\\n 删除列数据\\n')\n",
    "print(df1.drop([0], axis=1))\n"
   ],
   "outputs": [
    {
     "output_type": "stream",
     "name": "stdout",
     "text": [
      "       0     1     2\n",
      "x1     a     b     c\n",
      "x2  11.2  23.2  23.4\n",
      "x3  11.2  23.2  23.4\n",
      "\n",
      " 删除行\n",
      "\n",
      "       0     1     2\n",
      "x2  11.2  23.2  23.4\n",
      "       1     2\n",
      "x1     b     c\n",
      "x2  23.2  23.4\n",
      "x3  23.2  23.4\n"
     ]
    }
   ],
   "metadata": {}
  },
  {
   "cell_type": "markdown",
   "source": [
    "## 五、列的数据格式化操作"
   ],
   "metadata": {}
  },
  {
   "cell_type": "markdown",
   "source": [
    "### 1. map方式"
   ],
   "metadata": {}
  },
  {
   "cell_type": "code",
   "execution_count": 80,
   "source": [
    "# map 方式一\n",
    "print(df1)\n",
    "\n",
    "def test(x):\n",
    "  return f'{x}1'\n",
    "\n",
    "\n",
    "df1.columns = df1.columns.map(test)\n",
    "print(df1)\n",
    "\n"
   ],
   "outputs": [
    {
     "output_type": "stream",
     "name": "stdout",
     "text": [
      "  x1    x2    x3\n",
      "0  a  11.2  11.2\n",
      "1  b  23.2  23.2\n",
      "2  c  23.4  23.4\n",
      "  x11   x21   x31\n",
      "0   a  11.2  11.2\n",
      "1   b  23.2  23.2\n",
      "2   c  23.4  23.4\n"
     ]
    }
   ],
   "metadata": {}
  },
  {
   "cell_type": "code",
   "execution_count": 85,
   "source": [
    "# map 方式二\n",
    "df1['x11'] = df1['x11'].map({\n",
    "  'a': 'a1',\n",
    "  'b': 'b1',\n",
    "  'c': 'c1',\n",
    "})\n",
    "\n",
    "print(df1)"
   ],
   "outputs": [
    {
     "output_type": "stream",
     "name": "stdout",
     "text": [
      "   x11   x21   x31\n",
      "0  NaN  11.2  11.2\n",
      "1  NaN  23.2  23.2\n",
      "2  NaN  23.4  23.4\n"
     ]
    }
   ],
   "metadata": {}
  },
  {
   "cell_type": "markdown",
   "source": [
    "## 六、行、列名称更改"
   ],
   "metadata": {}
  },
  {
   "cell_type": "markdown",
   "source": [
    "### 1. 单独更改"
   ],
   "metadata": {}
  },
  {
   "cell_type": "code",
   "execution_count": 37,
   "source": [
    "print(df1)\n",
    "\n",
    "print('\\n---指定行更改--- \\n')\n",
    "\n",
    "print(df1.rename({ 'x1': 'x11' }))\n",
    "\n",
    "print('\\n---指定行、列更改--- \\n')\n",
    "\n",
    "df1.rename(index={'x2': 'bj'}, columns={\n",
    "                 0: 11})  # 为某个 index 单独修改名称\n"
   ],
   "outputs": [
    {
     "output_type": "stream",
     "name": "stdout",
     "text": [
      "       0     1     2\n",
      "x1     a     b     c\n",
      "x2  11.2  23.2  23.4\n",
      "x3  11.2  23.2  23.4\n",
      "\n",
      "---指定行更改--- \n",
      "\n",
      "        0     1     2\n",
      "x11     a     b     c\n",
      "x2   11.2  23.2  23.4\n",
      "x3   11.2  23.2  23.4\n",
      "\n",
      "---指定行、列更改--- \n",
      "\n"
     ]
    },
    {
     "output_type": "execute_result",
     "data": {
      "text/html": [
       "<div>\n",
       "<style scoped>\n",
       "    .dataframe tbody tr th:only-of-type {\n",
       "        vertical-align: middle;\n",
       "    }\n",
       "\n",
       "    .dataframe tbody tr th {\n",
       "        vertical-align: top;\n",
       "    }\n",
       "\n",
       "    .dataframe thead th {\n",
       "        text-align: right;\n",
       "    }\n",
       "</style>\n",
       "<table border=\"1\" class=\"dataframe\">\n",
       "  <thead>\n",
       "    <tr style=\"text-align: right;\">\n",
       "      <th></th>\n",
       "      <th>11</th>\n",
       "      <th>1</th>\n",
       "      <th>2</th>\n",
       "    </tr>\n",
       "  </thead>\n",
       "  <tbody>\n",
       "    <tr>\n",
       "      <th>x1</th>\n",
       "      <td>a</td>\n",
       "      <td>b</td>\n",
       "      <td>c</td>\n",
       "    </tr>\n",
       "    <tr>\n",
       "      <th>bj</th>\n",
       "      <td>11.2</td>\n",
       "      <td>23.2</td>\n",
       "      <td>23.4</td>\n",
       "    </tr>\n",
       "    <tr>\n",
       "      <th>x3</th>\n",
       "      <td>11.2</td>\n",
       "      <td>23.2</td>\n",
       "      <td>23.4</td>\n",
       "    </tr>\n",
       "  </tbody>\n",
       "</table>\n",
       "</div>"
      ],
      "text/plain": [
       "      11    1     2 \n",
       "x1     a     b     c\n",
       "bj  11.2  23.2  23.4\n",
       "x3  11.2  23.2  23.4"
      ]
     },
     "metadata": {},
     "execution_count": 37
    }
   ],
   "metadata": {}
  },
  {
   "cell_type": "markdown",
   "source": [
    "### 2. 批量更改"
   ],
   "metadata": {}
  },
  {
   "cell_type": "code",
   "execution_count": 39,
   "source": [
    "print(df1)\n",
    "\n",
    "# 自定义map函数\n",
    "def test_map(x):\n",
    "    return x+'_ABC'\n",
    "\n",
    "\n",
    "# print(df1.index.map(test_map))\n",
    "# 输出 Index(['BEIJING_ABC', 'SHANGHAI_ABC', 'GUANGZHOU_ABC'], dtype='object')\n",
    "\n",
    "print(df1.rename(index=test_map))\n"
   ],
   "outputs": [
    {
     "output_type": "stream",
     "name": "stdout",
     "text": [
      "       0     1     2\n",
      "x1     a     b     c\n",
      "x2  11.2  23.2  23.4\n",
      "x3  11.2  23.2  23.4\n",
      "           0     1     2\n",
      "x1_ABC     a     b     c\n",
      "x2_ABC  11.2  23.2  23.4\n",
      "x3_ABC  11.2  23.2  23.4\n"
     ]
    }
   ],
   "metadata": {}
  }
 ],
 "metadata": {
  "kernelspec": {
   "name": "python3",
   "display_name": "Python 3.9.6 64-bit ('py39': conda)"
  },
  "language_info": {
   "codemirror_mode": {
    "name": "ipython",
    "version": 3
   },
   "file_extension": ".py",
   "mimetype": "text/x-python",
   "name": "python",
   "nbconvert_exporter": "python",
   "pygments_lexer": "ipython3",
   "version": "3.9.6"
  },
  "widgets": {
   "application/vnd.jupyter.widget-state+json": {
    "state": {},
    "version_major": 2,
    "version_minor": 0
   }
  },
  "interpreter": {
   "hash": "572327d4ce217dad388f18729dd163149eb848d32b5abea34e3d86de275470cb"
  }
 },
 "nbformat": 4,
 "nbformat_minor": 4
}