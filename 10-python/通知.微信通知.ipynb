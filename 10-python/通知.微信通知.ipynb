{
 "cells": [
  {
   "cell_type": "markdown",
   "metadata": {},
   "source": [
    "# [微信通知](https://mp.weixin.qq.com/s/W3-nSv4wHL19x_O3AXtQhQ)"
   ]
  },
  {
   "cell_type": "code",
   "execution_count": 5,
   "metadata": {},
   "outputs": [
    {
     "name": "stdout",
     "output_type": "stream",
     "text": [
      "发送成功 {'errcode': 0, 'errmsg': 'ok', 'msgid': 'mrVtVXE39it1tWVvd57npDYzG4bv9tI6PZqkG4c7gMmDw1xp4QBz8uhDXifigIWmKzzljG7IjXzG2j4Bir43Nw'}\n"
     ]
    }
   ],
   "source": [
    "import json\n",
    "import datetime\n",
    "import requests\n",
    "\n",
    "CORP_ID = \"ww4b68328c070c8598\"\n",
    "SECRET = \"S425KlOLuuXPKopUl5fftDwYKBjMPgugb9CorY7wrkI\"\n",
    "agentid = 1000003\n",
    "\n",
    "class WeChatPub:\n",
    "    s = requests.session()\n",
    "\n",
    "    def __init__(self):\n",
    "        self.token = self.get_token()\n",
    "\n",
    "    def get_token(self):\n",
    "        url = f\"https://qyapi.weixin.qq.com/cgi-bin/gettoken?corpid={CORP_ID}&corpsecret={SECRET}\"\n",
    "        rep = self.s.get(url)\n",
    "        if rep.status_code != 200:\n",
    "            print(\"request failed.\")\n",
    "            return\n",
    "        return json.loads(rep.content)['access_token']\n",
    "\n",
    "    def send_msg(self, content):\n",
    "        url = \"https://qyapi.weixin.qq.com/cgi-bin/message/send?access_token=\" + self.token\n",
    "        header = {\n",
    "            \"Content-Type\": \"application/json\"\n",
    "        }\n",
    "        form_data = {\n",
    "            \"touser\": \"@all\",\n",
    "            \"toparty\": \" PartyID1 | PartyID2 \",\n",
    "            \"totag\": \" TagID1 | TagID2 \",\n",
    "            \"msgtype\": \"textcard\",\n",
    "            \"agentid\": agentid,\n",
    "            \"textcard\": {\n",
    "                \"title\": \"服务异常告警\",\n",
    "                \"description\": content,\n",
    "                \"url\": \"URL\",\n",
    "                \"btntxt\": \"更多\"\n",
    "            },\n",
    "            \"safe\": 0\n",
    "        }\n",
    "        rep = self.s.post(url, data=json.dumps(\n",
    "            form_data).encode('utf-8'), headers=header)\n",
    "        if rep.status_code != 200:\n",
    "            print(\"request failed.\")\n",
    "            return\n",
    "        return json.loads(rep.content)\n",
    "\n",
    "\n",
    "wechat = WeChatPub()\n",
    "now = datetime.datetime.now()\n",
    "timenow = now.strftime('%Y年%m月%d日 %H:%M:%S')\n",
    "message = wechat.send_msg(f\"<div class=\\\"gray\\\">{timenow}</div> <div class=\\\"normal\\\">阿里云 cookie 已失效</div><div class=\\\"highlight\\\">请尽快更换新的 cookie</div>\")\n",
    "\n",
    "print('发送成功', message)\n"
   ]
  }
 ],
 "metadata": {
  "kernelspec": {
   "display_name": "Python 3",
   "language": "python",
   "name": "python3"
  },
  "language_info": {
   "codemirror_mode": {
    "name": "ipython",
    "version": 3
   },
   "file_extension": ".py",
   "mimetype": "text/x-python",
   "name": "python",
   "nbconvert_exporter": "python",
   "pygments_lexer": "ipython3",
   "version": "3.9.6"
  },
  "widgets": {
   "application/vnd.jupyter.widget-state+json": {
    "state": {},
    "version_major": 2,
    "version_minor": 0
   }
  }
 },
 "nbformat": 4,
 "nbformat_minor": 4
}
