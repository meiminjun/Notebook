{
 "cells": [
  {
   "cell_type": "markdown",
   "metadata": {},
   "source": [
    "# 图形小工具的创建与打包"
   ]
  },
  {
   "cell_type": "markdown",
   "metadata": {},
   "source": [
    "## 一、图形程序"
   ]
  },
  {
   "cell_type": "code",
   "execution_count": null,
   "metadata": {},
   "outputs": [
    {
     "ename": "Error",
     "evalue": "Session cannot generate requests",
     "output_type": "error",
     "traceback": [
      "Error: Session cannot generate requests",
      "at w.executeCodeCell (/Users/apple/.vscode/extensions/ms-toolsai.jupyter-2021.9.1001312534/out/client/extension.js:52:301180)",
      "at w.execute (/Users/apple/.vscode/extensions/ms-toolsai.jupyter-2021.9.1001312534/out/client/extension.js:52:300551)",
      "at w.start (/Users/apple/.vscode/extensions/ms-toolsai.jupyter-2021.9.1001312534/out/client/extension.js:52:296215)",
      "at runMicrotasks (<anonymous>)",
      "at processTicksAndRejections (internal/process/task_queues.js:93:5)",
      "at t.CellExecutionQueue.executeQueuedCells (/Users/apple/.vscode/extensions/ms-toolsai.jupyter-2021.9.1001312534/out/client/extension.js:52:310950)",
      "at t.CellExecutionQueue.start (/Users/apple/.vscode/extensions/ms-toolsai.jupyter-2021.9.1001312534/out/client/extension.js:52:310490)"
     ]
    }
   ],
   "source": [
    "import tkinter as tk  # 导入tkinter模块。为了方便后续讲解，命名为 tk。\n",
    "import tkinter.messagebox  # 引入弹窗库，防止解释器弹出报错。\n",
    "# from random_select import pair\n",
    "import random_select\n",
    "\n",
    "window = tk.Tk()  # 生成主窗口，命名 window\n",
    "window.title('Test Window')  # 定义主窗口标题\n",
    "window.geometry('300x200')  # 定义主窗口的长宽\n",
    "\n",
    "print(random_select.pairs)\n",
    "\n",
    "\n",
    "def display_messagebox():  # 定义一个响应函数，目前内容为空\n",
    "  student = ['郑萍军', '唐鑫', '黎少忠', '余光生', '莫少华']  # 定义列表这里存放你要点名同学的名字\n",
    "  text = random_select.pairs(student)\n",
    "  tk.messagebox.showinfo(title='结果', message=text)  # 消息提醒弹窗，点击确定返回值为 ok\n",
    "\n",
    "\n",
    "# 定义一个按钮，用来后续触发弹窗，为了方便直接pack()吧。\n",
    "tk.Button(window, text='随机匹配', command=display_messagebox).pack()\n",
    "\n",
    "window.mainloop()  # 主窗口循环运行\n"
   ]
  },
  {
   "cell_type": "markdown",
   "metadata": {},
   "source": [
    "## 二、[封装](https://blog.csdn.net/lxt610/article/details/111169402)\n",
    "\n",
    "pip3 install pyinstaller\n",
    "\n",
    "在终端中cd 到项目路径，也就是main函数所在文件main.py， 切换完成后依次输入下面命令:\n",
    "\n",
    "> * sudo pyinstaller --windowed --onefile --clean --noconfirm main.py\n",
    "> * sudo pyinstaller --clean --noconfirm --windowed --onefile main.spec\n",
    "\n",
    "* [参考](https://blog.csdn.net/lxt610/article/details/111169402)"
   ]
  }
 ],
 "metadata": {
  "interpreter": {
   "hash": "dbc1128b55dfe7674910d9dec9178b9135ab71c646c7080f47e59389499c8905"
  },
  "kernelspec": {
   "display_name": "Python 3.9.6 64-bit ('py39': conda)",
   "name": "python3"
  },
  "language_info": {
   "codemirror_mode": {
    "name": "ipython",
    "version": 3
   },
   "file_extension": ".py",
   "mimetype": "text/x-python",
   "name": "python",
   "nbconvert_exporter": "python",
   "pygments_lexer": "ipython3",
   "version": "3.9.6"
  },
  "widgets": {
   "application/vnd.jupyter.widget-state+json": {
    "state": {},
    "version_major": 2,
    "version_minor": 0
   }
  }
 },
 "nbformat": 4,
 "nbformat_minor": 4
}
