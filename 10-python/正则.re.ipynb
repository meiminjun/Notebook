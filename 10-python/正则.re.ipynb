{
 "cells": [
  {
   "attachments": {},
   "cell_type": "markdown",
   "metadata": {},
   "source": [
    "# 正则学习笔记-re库"
   ]
  },
  {
   "attachments": {},
   "cell_type": "markdown",
   "metadata": {},
   "source": [
    "- 编译：re.compile()\n",
    "- 从头找一个: re.match()\n",
    "- 找一个: re.search()\n",
    "- 找所有: re.findall()\n",
    "- 分割: re.split()"
   ]
  },
  {
   "attachments": {},
   "cell_type": "markdown",
   "metadata": {},
   "source": [
    "字符类：\n",
    "- [Pp]ython :\t匹配 \"Python\" 或 \"python\"\n",
    "- rub[ye]\t: 匹配 \"ruby\" 或 \"rube\"\n",
    "- [aeiou]\t: 匹配中括号内的任意一个字母\n",
    "- [0-9]\t: 匹配任何数字。类似于 [0123456789]\n",
    "- [a-z]\t: 匹配任何小写字母\n",
    "- [A-Z]\t: 匹配任何大写字母\n",
    "- [a-zA-Z0-9] :\t匹配任何字母及数字\n",
    "- [^aeiou] : 除了aeiou字母以外的所有字符\n",
    "- [^0-9] : 匹配除了数字外的字符\n",
    "\n",
    "特殊字符类：\n",
    "\n",
    "- .\t: 匹配除 \"\\n\" 之外的任何单个字符。要匹配包括 '\\n' 在内的任何字符，请使用象 '[.\\n]' 的模式。\n",
    "- \\d: 匹配一个数字字符。等价于 [0-9]。\n",
    "- \\D: 匹配一个非数字字符。等价于 [^0-9]。\n",
    "- \\s: 匹配任何空白字符，包括空格、制表符、换页符等等。等价于 [ \\f\\n\\r\\t\\v]。\n",
    "- \\S: 匹配任何非空白字符。等价于 [^ \\f\\n\\r\\t\\v]。\n",
    "- \\w: 匹配包括下划线的任何单词字符。等价于'[A-Za-z0-9_]'。\n",
    "- \\W: 匹配任何非单词字符。等价于 '[^A-Za-z0-9_]'。\n"
   ]
  },
  {
   "cell_type": "code",
   "execution_count": 1,
   "metadata": {},
   "outputs": [],
   "source": [
    "import re"
   ]
  },
  {
   "attachments": {},
   "cell_type": "markdown",
   "metadata": {},
   "source": [
    "## 替换"
   ]
  },
  {
   "cell_type": "code",
   "execution_count": 2,
   "metadata": {},
   "outputs": [
    {
     "data": {
      "text/plain": [
       "'第49周（2022.12.05~2022.12.11）'"
      ]
     },
     "execution_count": 2,
     "metadata": {},
     "output_type": "execute_result"
    }
   ],
   "source": [
    "html = '\\n                    第49周（2022.12.05~2022.12.11）\\n'\n",
    "\n",
    "# 把空格替换成''\n",
    "str = re.sub('\\s', '', html)\n",
    "\n",
    "str"
   ]
  },
  {
   "attachments": {},
   "cell_type": "markdown",
   "metadata": {},
   "source": [
    "## 提取指定字符串"
   ]
  },
  {
   "cell_type": "code",
   "execution_count": 11,
   "metadata": {},
   "outputs": [
    {
     "name": "stdout",
     "output_type": "stream",
     "text": [
      "['2022.12.05~2022.12.1']\n",
      "['2022.12.05~2022.12.1']\n"
     ]
    }
   ],
   "source": [
    "pttn = r'\\w+（(.+)\\w+'\n",
    "\n",
    "print(re.findall(pttn, str))\n",
    "\n",
    "# 也可以\n",
    "\n",
    "p = re.compile(pttn)\n",
    "print(p.findall(str))\n"
   ]
  },
  {
   "cell_type": "code",
   "execution_count": 3,
   "metadata": {},
   "outputs": [
    {
     "name": "stdout",
     "output_type": "stream",
     "text": [
      "苹果\n",
      "橙子\n",
      "香蕉\n"
     ]
    }
   ],
   "source": [
    "content = '''苹果，苹果是绿色的\n",
    "橙子，橙子是橙色的\n",
    "香蕉，香蕉是黄色的'''\n",
    "\n",
    "import re\n",
    "\n",
    "p = re.compile(r'^(.*)，', re.MULTILINE)\n",
    "for one in p.findall(content):\n",
    "    print(one)"
   ]
  },
  {
   "attachments": {},
   "cell_type": "markdown",
   "metadata": {},
   "source": [
    "## 分割"
   ]
  },
  {
   "cell_type": "code",
   "execution_count": 12,
   "metadata": {},
   "outputs": [
    {
     "name": "stdout",
     "output_type": "stream",
     "text": [
      "['http://www.mingrisoft.com/login.jsp', 'username=\"mr\"', 'pwd=\"mrsoft\"']\n"
     ]
    }
   ],
   "source": [
    "pattern=r'[?|&]'\n",
    "url='http://www.mingrisoft.com/login.jsp?username=\"mr\"&pwd=\"mrsoft\"'\n",
    "result=re.split(pattern,url)\n",
    "print(result) "
   ]
  },
  {
   "attachments": {},
   "cell_type": "markdown",
   "metadata": {},
   "source": [
    "## 分组(超级常用)"
   ]
  },
  {
   "cell_type": "code",
   "execution_count": 24,
   "metadata": {},
   "outputs": [
    {
     "name": "stdout",
     "output_type": "stream",
     "text": [
      "10010\n",
      "中国联通\n",
      "10086\n",
      "中国移动\n"
     ]
    }
   ],
   "source": [
    "# 想要提取数据必须用小括号括起来，可以单独起名字\n",
    "# (?P<名字>正则)\n",
    "# 提取数据的时候,需要group(\"名字\")\n",
    "s = \"\"\"\n",
    "<div class = '西游记'><span id='10010'>中国联通</span></div>\n",
    "<div class = '西游记'><span id='10086'>中国移动</span></div>\n",
    "\"\"\"\n",
    "obj = re.compile(r\"<span id='(?P<id>\\d+)'>(?P<name>.*?)</span>\")\n",
    "\n",
    "# result = obj.findall(s) # 虽然提取出来了，但数据没有顺序可言\n",
    "result = obj.finditer(s)\n",
    "for item in result:\n",
    "    id = item.group(\"id\")\n",
    "    print(id)\n",
    "    name = item.group(\"name\")\n",
    "    print(name)"
   ]
  },
  {
   "cell_type": "code",
   "execution_count": 25,
   "metadata": {},
   "outputs": [
    {
     "name": "stdout",
     "output_type": "stream",
     "text": [
      "<callable_iterator object at 0x7fcc38c2bfa0>\n",
      "2022.12.05\n",
      "2022.12.11\n"
     ]
    }
   ],
   "source": [
    "str = '第49周（2022.12.05~2022.12.11）'\n",
    "\n",
    "obj = re.compile(r'（(?P<start>.+)~(?P<end>.+)）')\n",
    "result = obj.finditer(str)\n",
    "print(result)\n",
    "for item in result:\n",
    "    start = item.group(\"start\")\n",
    "    print(start)\n",
    "    end = item.group(\"end\")\n",
    "    print(end)"
   ]
  },
  {
   "cell_type": "code",
   "execution_count": 21,
   "metadata": {},
   "outputs": [
    {
     "name": "stdout",
     "output_type": "stream",
     "text": [
      "18\n",
      "20000000\n"
     ]
    }
   ],
   "source": [
    "result = re.finditer(r\"\\d+\", \"我今年18岁，我有20000000块\")\n",
    "for item in result:  # 从迭代器拿到内容\n",
    "    \n",
    "    print(item.group()) # 从匹配到的结果中拿到数据"
   ]
  },
  {
   "attachments": {},
   "cell_type": "markdown",
   "metadata": {},
   "source": [
    "## 查找"
   ]
  },
  {
   "cell_type": "code",
   "execution_count": 16,
   "metadata": {},
   "outputs": [
    {
     "name": "stdout",
     "output_type": "stream",
     "text": [
      "32\n"
     ]
    }
   ],
   "source": [
    "# search 只会匹配到第一次匹配的内容\n",
    "result = re.search(r\"\\d+\",\"我叫周某某，今年32岁，我的班级是3年2班\")\n",
    "print(result.group())"
   ]
  },
  {
   "attachments": {},
   "cell_type": "markdown",
   "metadata": {},
   "source": [
    "## 匹配（match）"
   ]
  },
  {
   "cell_type": "code",
   "execution_count": 20,
   "metadata": {},
   "outputs": [
    {
     "ename": "AttributeError",
     "evalue": "'NoneType' object has no attribute 'group'",
     "output_type": "error",
     "traceback": [
      "\u001b[0;31m---------------------------------------------------------------------------\u001b[0m",
      "\u001b[0;31mAttributeError\u001b[0m                            Traceback (most recent call last)",
      "\u001b[0;32m/var/folders/w6/9k4dzqlj617f06dfby_vk1pr0000gn/T/ipykernel_77651/3952070921.py\u001b[0m in \u001b[0;36m<module>\u001b[0;34m\u001b[0m\n\u001b[1;32m      1\u001b[0m \u001b[0;31m# match,在匹配的时候，是从字符串的开头进行匹配的，类似在正则前面加上了^\u001b[0m\u001b[0;34m\u001b[0m\u001b[0;34m\u001b[0m\u001b[0;34m\u001b[0m\u001b[0m\n\u001b[1;32m      2\u001b[0m \u001b[0mresult\u001b[0m \u001b[0;34m=\u001b[0m \u001b[0mre\u001b[0m\u001b[0;34m.\u001b[0m\u001b[0mmatch\u001b[0m\u001b[0;34m(\u001b[0m\u001b[0;34mr\"\\d+\"\u001b[0m\u001b[0;34m,\u001b[0m\u001b[0;34m\"我叫周某某，今年32岁，我的班级是3年2班\"\u001b[0m\u001b[0;34m)\u001b[0m\u001b[0;34m\u001b[0m\u001b[0;34m\u001b[0m\u001b[0m\n\u001b[0;32m----> 3\u001b[0;31m \u001b[0mprint\u001b[0m\u001b[0;34m(\u001b[0m\u001b[0mresult\u001b[0m\u001b[0;34m.\u001b[0m\u001b[0mgroup\u001b[0m\u001b[0;34m(\u001b[0m\u001b[0;34m)\u001b[0m\u001b[0;34m)\u001b[0m\u001b[0;34m\u001b[0m\u001b[0;34m\u001b[0m\u001b[0m\n\u001b[0m",
      "\u001b[0;31mAttributeError\u001b[0m: 'NoneType' object has no attribute 'group'"
     ]
    }
   ],
   "source": []
  }
 ],
 "metadata": {
  "kernelspec": {
   "display_name": "py39",
   "language": "python",
   "name": "python3"
  },
  "language_info": {
   "codemirror_mode": {
    "name": "ipython",
    "version": 3
   },
   "file_extension": ".py",
   "mimetype": "text/x-python",
   "name": "python",
   "nbconvert_exporter": "python",
   "pygments_lexer": "ipython3",
   "version": "3.9.6"
  },
  "orig_nbformat": 4,
  "vscode": {
   "interpreter": {
    "hash": "dbc1128b55dfe7674910d9dec9178b9135ab71c646c7080f47e59389499c8905"
   }
  }
 },
 "nbformat": 4,
 "nbformat_minor": 2
}
