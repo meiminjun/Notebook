{
 "cells": [
  {
   "cell_type": "markdown",
   "metadata": {},
   "source": [
    "# to_csv 常用问题解决\n"
   ]
  },
  {
   "cell_type": "markdown",
   "metadata": {},
   "source": [
    "## 如何删除pandas中产生的Unnamed:0列\n",
    "\n",
    "```\n",
    "pd.read_csv(path, index_col=0)\n",
    "或\n",
    "pd.to_csv(path, index=False)\n",
    "```"
   ]
  },
  {
   "cell_type": "markdown",
   "metadata": {},
   "source": [
    "```\n",
    "\n",
    "```"
   ]
  },
  {
   "cell_type": "markdown",
   "metadata": {},
   "source": [
    "## 防止读取csv股票代码000没有的方法\n",
    "\n",
    "```\n",
    "pd.read_csv('/Downloads/2020-3-14-CB.csv',dtype = object)\n",
    "\n",
    "pd.read_csv('/Downloads/2020-3-14-CB.csv',converters = {'正股代码':str})\n",
    "df['正股代码'] = df['正股代码'].astype('str') #将原本的int数据类型转换为文本\n",
    "\n",
    "df['正股代码']  = df['正股代码'].str.zfill(6) #用的时候必须加上.str前缀\n",
    "\n",
    "```"
   ]
  },
  {
   "cell_type": "markdown",
   "metadata": {},
   "source": [
    "## 指定为int 类型\n",
    "\n",
    "```\n",
    "data = pd.read_csv('../data/moive_metadata.csv', dtype={'duration': int})\n",
    "```"
   ]
  },
  {
   "cell_type": "markdown",
   "metadata": {},
   "source": [
    "## 追加行\n",
    "\n",
    "```\n",
    "df_data.to_csv('data.csv', mode='a', header=False, index=None) \n",
    "```"
   ]
  },
  {
   "cell_type": "markdown",
   "metadata": {},
   "source": [
    "## 读取并转换类型\n",
    "\n",
    "```\n",
    "df = pd.read_csv(\"apple.csv\", parse_dates =[\"date\"], index_col =\"date\") \n",
    "```"
   ]
  }
 ],
 "metadata": {
  "interpreter": {
   "hash": "dbc1128b55dfe7674910d9dec9178b9135ab71c646c7080f47e59389499c8905"
  },
  "kernelspec": {
   "display_name": "Python 3.9.6 64-bit ('py39': conda)",
   "name": "python3"
  },
  "language_info": {
   "name": "python",
   "version": "3.9.6"
  },
  "orig_nbformat": 4
 },
 "nbformat": 4,
 "nbformat_minor": 2
}
