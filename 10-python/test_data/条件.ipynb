{
 "cells": [
  {
   "cell_type": "markdown",
   "metadata": {},
   "source": [
    "# 条件判断"
   ]
  },
  {
   "cell_type": "markdown",
   "metadata": {},
   "source": [
    "## python 中 is, is not ,==, != 的区别"
   ]
  },
  {
   "cell_type": "markdown",
   "metadata": {},
   "source": [
    "1. is, is not 对比的是两个变量的内存地址\n",
    "\n",
    "2. ==,!= 对比的是两个变量的值\n",
    "\n",
    "由此可以进一步推出：\n",
    "\n",
    "- 假如比较的两个变量，指向的都是地址不可变的类型（str等），那么is，is not 和 == 、!= 是完全等价的\n",
    "- 假如对比的两个变量，指向的是地址可变的类型（list，dict，tuple等），则两者是有区别的"
   ]
  }
 ],
 "metadata": {
  "language_info": {
   "name": "python"
  },
  "orig_nbformat": 4
 },
 "nbformat": 4,
 "nbformat_minor": 2
}
