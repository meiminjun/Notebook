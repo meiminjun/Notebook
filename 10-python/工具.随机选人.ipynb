{
 "cells": [
  {
   "cell_type": "markdown",
   "metadata": {},
   "source": [
    "# 随机选人"
   ]
  },
  {
   "cell_type": "code",
   "execution_count": 1,
   "metadata": {},
   "outputs": [
    {
     "name": "stdout",
     "output_type": "stream",
     "text": [
      "恭喜！本次点名回答问题的同学是: 左右\n"
     ]
    }
   ],
   "source": [
    "# import random\n",
    "\n",
    "# student = ['李四', '王五', '周三', '左右', '上下', '美丽']  # 定义列表这里存放你要点名同学的名字\n",
    "# luck = random.choice(student)\n",
    "# print(\"恭喜！本次点名回答问题的同学是:\", luck)\n"
   ]
  },
  {
   "cell_type": "code",
   "execution_count": 4,
   "metadata": {},
   "outputs": [
    {
     "data": {
      "text/plain": [
       "'余光生 与 莫少华\\n黎少忠 与 郑萍军\\n唐鑫 与 郑萍军\\n'"
      ]
     },
     "execution_count": 4,
     "metadata": {},
     "output_type": "execute_result"
    }
   ],
   "source": [
    "# %load './random_select.py'\n",
    "import random\n",
    "\n",
    "student = ['郑萍军', '唐鑫', '黎少忠', '余光生', '莫少华']  # 定义列表这里存放你要点名同学的名字\n",
    "\n",
    "\n",
    "def pairs(members):\n",
    "    str = ''\n",
    "    jishu = False\n",
    "    length = len(members)\n",
    "\n",
    "    if (length % 2) == 0:\n",
    "        jishu = False\n",
    "    else:\n",
    "        jishu = True\n",
    "\n",
    "    random.shuffle(members)\n",
    "\n",
    "    d = list(range(0, len(members), 2))\n",
    "\n",
    "    for i in d:\n",
    "        # 如果是奇数，则最后一个与随机数配对\n",
    "        if jishu == True and i == d[-1]:\n",
    "            luck = random.choice(members[:i])\n",
    "            last_arrs = members[i:i+2]\n",
    "            last_arrs.append(luck)\n",
    "            # print(f'{last_arrs[0]} 与 {last_arrs[1]}代码评审')\n",
    "            str += f'{last_arrs[0]} 与 {last_arrs[1]}\\n'\n",
    "        else:\n",
    "            # print(members[i:i+2])\n",
    "            arr = members[i:i+2]\n",
    "            # print(f'{arr[0]} 与 {arr[1]}代码评审')\n",
    "            str += f'{arr[0]} 与 {arr[1]}\\n'\n",
    "    return str\n",
    "\n",
    "\n",
    "pairs(student)"
   ]
  },
  {
   "cell_type": "code",
   "execution_count": 17,
   "metadata": {},
   "outputs": [
    {
     "data": {
      "text/plain": [
       "'余光生===>黎少忠===>唐鑫===>莫少华===>郑萍军===>余光生'"
      ]
     },
     "execution_count": 17,
     "metadata": {},
     "output_type": "execute_result"
    }
   ],
   "source": [
    "def pairs2(members):\n",
    "    str = ''\n",
    "    length = len(members)\n",
    "    random.shuffle(members)\n",
    "    for key,item in enumerate(members):\n",
    "      if key == length-1:\n",
    "        str += f'{item}==>{members[0]}'\n",
    "      else:\n",
    "        str+= f'{item}==>'\n",
    "    return str\n",
    "\n",
    "\n",
    "pairs2(student)\n"
   ]
  }
 ],
 "metadata": {
  "interpreter": {
   "hash": "dbc1128b55dfe7674910d9dec9178b9135ab71c646c7080f47e59389499c8905"
  },
  "kernelspec": {
   "display_name": "Python 3.9.6 64-bit ('py39': conda)",
   "name": "python3"
  },
  "language_info": {
   "codemirror_mode": {
    "name": "ipython",
    "version": 3
   },
   "file_extension": ".py",
   "mimetype": "text/x-python",
   "name": "python",
   "nbconvert_exporter": "python",
   "pygments_lexer": "ipython3",
   "version": "3.9.6"
  },
  "widgets": {
   "application/vnd.jupyter.widget-state+json": {
    "state": {},
    "version_major": 2,
    "version_minor": 0
   }
  }
 },
 "nbformat": 4,
 "nbformat_minor": 4
}
