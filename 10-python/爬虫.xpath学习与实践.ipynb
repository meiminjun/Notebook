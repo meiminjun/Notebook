{
 "cells": [
  {
   "cell_type": "markdown",
   "metadata": {},
   "source": [
    "# Xpath 学习"
   ]
  },
  {
   "cell_type": "code",
   "execution_count": null,
   "metadata": {},
   "outputs": [],
   "source": [
    "from lxml import etree\n",
    "import re\n",
    "\n",
    "tree = etree.parse(\"./爬虫.xpath示例.html\")\n",
    "questions = tree.xpath('//div[@class=\"question\"]/text()')\n",
    "questions = list(map(lambda x: re.sub('\\s', '', x), questions))\n",
    "questions = list(map(lambda x: re.sub('\\d+\\.', '', x), questions))\n",
    "print(questions)\n"
   ]
  },
  {
   "cell_type": "code",
   "execution_count": null,
   "metadata": {},
   "outputs": [],
   "source": [
    "selects = tree.xpath('//div[@class=\"answer\"]')\n",
    "options = []\n",
    "for key, values in enumerate(selects):\n",
    "    item = values.xpath('.//span[@class=\"el-radio__label\"]/span/text() | .//span[@class=\"el-checkbox__label\"]/span/text()')\n",
    "    itemStr = ';\\n'.join(item)\n",
    "    options.append(itemStr)\n",
    "print(options)"
   ]
  },
  {
   "cell_type": "code",
   "execution_count": 4,
   "metadata": {},
   "outputs": [
    {
     "name": "stdout",
     "output_type": "stream",
     "text": [
      "['正确答案：D', '正确答案：D', '正确答案：C', '正确答案：A,B,C,D', '正确答案：A,B', '正确答案：A,B,D', '正确答案：A,B,C,D,E,F,G', '正确答案：A,C,D,E,F,G', '正确答案：B,D', '正确答案：A,B,C', '正确答案：A,B,C', '正确答案：A,B,D', '正确答案：错', '正确答案：错', '正确答案：错', '正确答案：错', '正确答案：对', '正确答案：错', '正确答案：错', '正确答案：错']\n"
     ]
    }
   ],
   "source": [
    "answers = tree.xpath('//div[@class=\"rightAnswer\"]/text()')\n",
    "answers = list(map(lambda x: re.sub('\\s', '', x), answers))\n",
    "print(answers)"
   ]
  },
  {
   "cell_type": "code",
   "execution_count": null,
   "metadata": {},
   "outputs": [],
   "source": [
    "import pandas as pd\n",
    "\n",
    "data = pd.DataFrame({\n",
    "    \"题目\":questions,\n",
    "    \"选项\": options,\n",
    "    \"答案\": answers\n",
    "})\n",
    "\n",
    "print(data)\n",
    "\n",
    "data.to_excel('./爬虫.xpath结果.xls', index=False)"
   ]
  }
 ],
 "metadata": {
  "interpreter": {
   "hash": "dbc1128b55dfe7674910d9dec9178b9135ab71c646c7080f47e59389499c8905"
  },
  "kernelspec": {
   "display_name": "Python 3.9.6 64-bit ('py39': conda)",
   "name": "python3"
  },
  "language_info": {
   "codemirror_mode": {
    "name": "ipython",
    "version": 3
   },
   "file_extension": ".py",
   "mimetype": "text/x-python",
   "name": "python",
   "nbconvert_exporter": "python",
   "pygments_lexer": "ipython3",
   "version": "3.9.6"
  },
  "widgets": {
   "application/vnd.jupyter.widget-state+json": {
    "state": {},
    "version_major": 2,
    "version_minor": 0
   }
  }
 },
 "nbformat": 4,
 "nbformat_minor": 4
}
