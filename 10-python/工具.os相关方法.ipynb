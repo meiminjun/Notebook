{
 "cells": [
  {
   "cell_type": "markdown",
   "source": [
    "# os 相关方法"
   ],
   "metadata": {}
  },
  {
   "cell_type": "code",
   "execution_count": null,
   "source": [
    "import os"
   ],
   "outputs": [],
   "metadata": {}
  },
  {
   "cell_type": "markdown",
   "source": [
    "## 一、读取目录"
   ],
   "metadata": {}
  },
  {
   "cell_type": "code",
   "execution_count": 3,
   "source": [
    "file = './test_data'\n",
    "files = os.listdir(file)\n",
    "\n",
    "for fileName in files:\n",
    "  print(fileName)\n",
    "\n",
    "\n",
    "for key,name in enumerate(files):\n",
    "  print(key, name)"
   ],
   "outputs": [
    {
     "output_type": "stream",
     "name": "stdout",
     "text": [
      "test1.jpg\n",
      "test2.jpg\n",
      "test.png\n",
      "0 test1.jpg\n",
      "1 test2.jpg\n",
      "2 test.png\n"
     ]
    }
   ],
   "metadata": {}
  }
 ],
 "metadata": {
  "kernelspec": {
   "name": "python3",
   "display_name": "Python 3.9.6 64-bit ('py39': conda)"
  },
  "language_info": {
   "codemirror_mode": {
    "name": "ipython",
    "version": 3
   },
   "file_extension": ".py",
   "mimetype": "text/x-python",
   "name": "python",
   "nbconvert_exporter": "python",
   "pygments_lexer": "ipython3",
   "version": "3.9.6"
  },
  "widgets": {
   "application/vnd.jupyter.widget-state+json": {
    "state": {},
    "version_major": 2,
    "version_minor": 0
   }
  },
  "interpreter": {
   "hash": "572327d4ce217dad388f18729dd163149eb848d32b5abea34e3d86de275470cb"
  }
 },
 "nbformat": 4,
 "nbformat_minor": 4
}