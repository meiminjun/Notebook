{
 "cells": [
  {
   "cell_type": "markdown",
   "metadata": {},
   "source": [
    "# excel 格式化\n",
    "\n",
    "参考：https://cloud.tencent.com/developer/article/1853145\n"
   ]
  },
  {
   "cell_type": "code",
   "execution_count": 113,
   "metadata": {},
   "outputs": [
    {
     "data": {
      "text/html": [
       "<div>\n",
       "<style scoped>\n",
       "    .dataframe tbody tr th:only-of-type {\n",
       "        vertical-align: middle;\n",
       "    }\n",
       "\n",
       "    .dataframe tbody tr th {\n",
       "        vertical-align: top;\n",
       "    }\n",
       "\n",
       "    .dataframe thead th {\n",
       "        text-align: right;\n",
       "    }\n",
       "</style>\n",
       "<table border=\"1\" class=\"dataframe\">\n",
       "  <thead>\n",
       "    <tr style=\"text-align: right;\">\n",
       "      <th></th>\n",
       "      <th>基金名称</th>\n",
       "      <th>基金规模</th>\n",
       "      <th>2018</th>\n",
       "      <th>2019</th>\n",
       "      <th>2020</th>\n",
       "      <th>上任日期</th>\n",
       "    </tr>\n",
       "  </thead>\n",
       "  <tbody>\n",
       "    <tr>\n",
       "      <th>0</th>\n",
       "      <td>白酒基金</td>\n",
       "      <td>2.3</td>\n",
       "      <td>-23.23</td>\n",
       "      <td>-23.23</td>\n",
       "      <td>43.23</td>\n",
       "      <td>2017-08-22 00:00:00</td>\n",
       "    </tr>\n",
       "    <tr>\n",
       "      <th>1</th>\n",
       "      <td>消费基金</td>\n",
       "      <td>982.232</td>\n",
       "      <td>-33.23</td>\n",
       "      <td>23.23</td>\n",
       "      <td>62.23</td>\n",
       "      <td>2017-08-22 00:00:00</td>\n",
       "    </tr>\n",
       "    <tr>\n",
       "      <th>2</th>\n",
       "      <td>食品基金</td>\n",
       "      <td>232.232</td>\n",
       "      <td>0.45</td>\n",
       "      <td>0.74</td>\n",
       "      <td>5.34</td>\n",
       "      <td>2017-08-22 00:00:00</td>\n",
       "    </tr>\n",
       "    <tr>\n",
       "      <th>3</th>\n",
       "      <td>军工基金</td>\n",
       "      <td>343.2</td>\n",
       "      <td>45.32</td>\n",
       "      <td>64.32</td>\n",
       "      <td>-45.32</td>\n",
       "      <td>2012-05-22 00:00:00</td>\n",
       "    </tr>\n",
       "    <tr>\n",
       "      <th>4</th>\n",
       "      <td>食品饮料</td>\n",
       "      <td>232.22323</td>\n",
       "      <td>34.34</td>\n",
       "      <td>68.34</td>\n",
       "      <td>34.34</td>\n",
       "      <td>2019-09-22 00:00:00</td>\n",
       "    </tr>\n",
       "  </tbody>\n",
       "</table>\n",
       "</div>"
      ],
      "text/plain": [
       "   基金名称       基金规模    2018    2019    2020                 上任日期\n",
       "0  白酒基金        2.3  -23.23  -23.23   43.23  2017-08-22 00:00:00\n",
       "1  消费基金    982.232  -33.23   23.23   62.23  2017-08-22 00:00:00\n",
       "2  食品基金    232.232    0.45    0.74    5.34  2017-08-22 00:00:00\n",
       "3  军工基金      343.2   45.32   64.32  -45.32  2012-05-22 00:00:00\n",
       "4  食品饮料  232.22323   34.34   68.34   34.34  2019-09-22 00:00:00"
      ]
     },
     "execution_count": 113,
     "metadata": {},
     "output_type": "execute_result"
    }
   ],
   "source": [
    "import pandas as pd\n",
    "import numpy as np\n",
    "\n",
    "data = {\n",
    "  '基金名称': ['白酒基金','消费基金', '食品基金', '军工基金', '食品饮料'],\n",
    "  '基金规模': ['2.3','982.232','232.232', '343.2', '232.22323'],\n",
    "  '2018': ['-23.23', '-33.23', '0.45', '45.32', '34.34'],\n",
    "  '2019': ['-23.23', '23.23', '0.74', '64.32', '68.34'],\n",
    "  '2020': ['43.23', '62.23', '5.34', '-45.32', '34.34'],\n",
    "  '上任日期': ['2017-08-22 00:00:00','2017-08-22 00:00:00','2017-08-22 00:00:00','2012-05-22 00:00:00','2019-09-22 00:00:00']\n",
    "}\n",
    "\n",
    "df = pd.DataFrame(data)\n",
    "df"
   ]
  },
  {
   "cell_type": "markdown",
   "metadata": {},
   "source": [
    "## 排序\n",
    "\n",
    "- ascending: False, 降序\n",
    "- ascending: True, 升序"
   ]
  },
  {
   "cell_type": "code",
   "execution_count": 6,
   "metadata": {},
   "outputs": [
    {
     "data": {
      "text/html": [
       "<div>\n",
       "<style scoped>\n",
       "    .dataframe tbody tr th:only-of-type {\n",
       "        vertical-align: middle;\n",
       "    }\n",
       "\n",
       "    .dataframe tbody tr th {\n",
       "        vertical-align: top;\n",
       "    }\n",
       "\n",
       "    .dataframe thead th {\n",
       "        text-align: right;\n",
       "    }\n",
       "</style>\n",
       "<table border=\"1\" class=\"dataframe\">\n",
       "  <thead>\n",
       "    <tr style=\"text-align: right;\">\n",
       "      <th></th>\n",
       "      <th>基金名称</th>\n",
       "      <th>基金规模</th>\n",
       "      <th>2018</th>\n",
       "      <th>2019</th>\n",
       "      <th>2020</th>\n",
       "    </tr>\n",
       "  </thead>\n",
       "  <tbody>\n",
       "    <tr>\n",
       "      <th>1</th>\n",
       "      <td>消费基金</td>\n",
       "      <td>982.232</td>\n",
       "      <td>-33.23</td>\n",
       "      <td>23.23</td>\n",
       "      <td>62.23</td>\n",
       "    </tr>\n",
       "    <tr>\n",
       "      <th>3</th>\n",
       "      <td>军工基金</td>\n",
       "      <td>343.2</td>\n",
       "      <td>45.32</td>\n",
       "      <td>64.32</td>\n",
       "      <td>-45.32</td>\n",
       "    </tr>\n",
       "    <tr>\n",
       "      <th>2</th>\n",
       "      <td>食品基金</td>\n",
       "      <td>232.232</td>\n",
       "      <td>0.45</td>\n",
       "      <td>0.74</td>\n",
       "      <td>5.34</td>\n",
       "    </tr>\n",
       "    <tr>\n",
       "      <th>4</th>\n",
       "      <td>食品饮料</td>\n",
       "      <td>232.22323</td>\n",
       "      <td>34.34</td>\n",
       "      <td>68.34</td>\n",
       "      <td>34.34</td>\n",
       "    </tr>\n",
       "    <tr>\n",
       "      <th>0</th>\n",
       "      <td>白酒基金</td>\n",
       "      <td>2.3</td>\n",
       "      <td>-23.23</td>\n",
       "      <td>-23.23</td>\n",
       "      <td>43.23</td>\n",
       "    </tr>\n",
       "  </tbody>\n",
       "</table>\n",
       "</div>"
      ],
      "text/plain": [
       "   基金名称       基金规模    2018    2019    2020\n",
       "1  消费基金    982.232  -33.23   23.23   62.23\n",
       "3  军工基金      343.2   45.32   64.32  -45.32\n",
       "2  食品基金    232.232    0.45    0.74    5.34\n",
       "4  食品饮料  232.22323   34.34   68.34   34.34\n",
       "0  白酒基金        2.3  -23.23  -23.23   43.23"
      ]
     },
     "execution_count": 6,
     "metadata": {},
     "output_type": "execute_result"
    }
   ],
   "source": [
    "# df_consume = df.reset_index(drop=True)\n",
    "df_order = df.sort_values('基金规模', ascending=False).head(10)\n",
    "df_order"
   ]
  },
  {
   "cell_type": "markdown",
   "metadata": {},
   "source": [
    "## 隐藏列"
   ]
  },
  {
   "cell_type": "code",
   "execution_count": 13,
   "metadata": {},
   "outputs": [
    {
     "data": {
      "text/html": [
       "<style type=\"text/css\">\n",
       "</style>\n",
       "<table id=\"T_68d92_\">\n",
       "  <thead>\n",
       "    <tr>\n",
       "      <th class=\"col_heading level0 col0\" >基金名称</th>\n",
       "      <th class=\"col_heading level0 col1\" >基金规模</th>\n",
       "      <th class=\"col_heading level0 col2\" >2018</th>\n",
       "      <th class=\"col_heading level0 col3\" >2019</th>\n",
       "    </tr>\n",
       "  </thead>\n",
       "  <tbody>\n",
       "    <tr>\n",
       "      <td id=\"T_68d92_row0_col0\" class=\"data row0 col0\" >白酒基金</td>\n",
       "      <td id=\"T_68d92_row0_col1\" class=\"data row0 col1\" >2.3</td>\n",
       "      <td id=\"T_68d92_row0_col2\" class=\"data row0 col2\" >-23.23</td>\n",
       "      <td id=\"T_68d92_row0_col3\" class=\"data row0 col3\" >-23.23</td>\n",
       "    </tr>\n",
       "    <tr>\n",
       "      <td id=\"T_68d92_row1_col0\" class=\"data row1 col0\" >消费基金</td>\n",
       "      <td id=\"T_68d92_row1_col1\" class=\"data row1 col1\" >982.232</td>\n",
       "      <td id=\"T_68d92_row1_col2\" class=\"data row1 col2\" >-33.23</td>\n",
       "      <td id=\"T_68d92_row1_col3\" class=\"data row1 col3\" >23.23</td>\n",
       "    </tr>\n",
       "    <tr>\n",
       "      <td id=\"T_68d92_row2_col0\" class=\"data row2 col0\" >食品基金</td>\n",
       "      <td id=\"T_68d92_row2_col1\" class=\"data row2 col1\" >232.232</td>\n",
       "      <td id=\"T_68d92_row2_col2\" class=\"data row2 col2\" >0.45</td>\n",
       "      <td id=\"T_68d92_row2_col3\" class=\"data row2 col3\" >0.74</td>\n",
       "    </tr>\n",
       "    <tr>\n",
       "      <td id=\"T_68d92_row3_col0\" class=\"data row3 col0\" >军工基金</td>\n",
       "      <td id=\"T_68d92_row3_col1\" class=\"data row3 col1\" >343.2</td>\n",
       "      <td id=\"T_68d92_row3_col2\" class=\"data row3 col2\" >45.32</td>\n",
       "      <td id=\"T_68d92_row3_col3\" class=\"data row3 col3\" >64.32</td>\n",
       "    </tr>\n",
       "    <tr>\n",
       "      <td id=\"T_68d92_row4_col0\" class=\"data row4 col0\" >食品饮料</td>\n",
       "      <td id=\"T_68d92_row4_col1\" class=\"data row4 col1\" >232.22323</td>\n",
       "      <td id=\"T_68d92_row4_col2\" class=\"data row4 col2\" >34.34</td>\n",
       "      <td id=\"T_68d92_row4_col3\" class=\"data row4 col3\" >68.34</td>\n",
       "    </tr>\n",
       "  </tbody>\n",
       "</table>\n"
      ],
      "text/plain": [
       "<pandas.io.formats.style.Styler at 0x7fd49a973310>"
      ]
     },
     "execution_count": 13,
     "metadata": {},
     "output_type": "execute_result"
    }
   ],
   "source": [
    "df2 = df.style.hide_index().hide_columns(['2020'])\n",
    "df2"
   ]
  },
  {
   "cell_type": "markdown",
   "metadata": {},
   "source": [
    "## 查看格式"
   ]
  },
  {
   "cell_type": "code",
   "execution_count": 75,
   "metadata": {},
   "outputs": [
    {
     "data": {
      "text/plain": [
       "基金名称    object\n",
       "基金规模    object\n",
       "2018    object\n",
       "2019    object\n",
       "2020    object\n",
       "上任日期    object\n",
       "dtype: object"
      ]
     },
     "execution_count": 75,
     "metadata": {},
     "output_type": "execute_result"
    }
   ],
   "source": [
    "df.dtypes"
   ]
  },
  {
   "cell_type": "markdown",
   "metadata": {},
   "source": [
    "## 指定列格式化"
   ]
  },
  {
   "cell_type": "code",
   "execution_count": 93,
   "metadata": {},
   "outputs": [
    {
     "data": {
      "text/plain": [
       "2018    float64\n",
       "2019    float64\n",
       "2020    float64\n",
       "dtype: object"
      ]
     },
     "execution_count": 93,
     "metadata": {},
     "output_type": "execute_result"
    }
   ],
   "source": [
    "# df\n",
    "\n",
    "df[['2018','2019', '2020']] = df[['2018', '2019', '2020']].applymap(float)\n",
    "df[['2018', '2019', '2020']].dtypes"
   ]
  },
  {
   "cell_type": "markdown",
   "metadata": {},
   "source": [
    "## 设置颜色\n",
    "\n",
    "axis,0列(凌冽)\n",
    "axis,1行\n",
    "\n",
    "高亮指定列的最小值、最大值"
   ]
  },
  {
   "cell_type": "code",
   "execution_count": 54,
   "metadata": {},
   "outputs": [
    {
     "data": {
      "text/html": [
       "<style type=\"text/css\">\n",
       "#T_b02ad_row0_col3, #T_b02ad_row1_col2, #T_b02ad_row1_col4, #T_b02ad_row3_col2, #T_b02ad_row3_col4, #T_b02ad_row4_col3 {\n",
       "  background-color: yellow;\n",
       "}\n",
       "</style>\n",
       "<table id=\"T_b02ad_\">\n",
       "  <thead>\n",
       "    <tr>\n",
       "      <th class=\"col_heading level0 col0\" >基金名称</th>\n",
       "      <th class=\"col_heading level0 col1\" >基金规模</th>\n",
       "      <th class=\"col_heading level0 col2\" >2018</th>\n",
       "      <th class=\"col_heading level0 col3\" >2019</th>\n",
       "      <th class=\"col_heading level0 col4\" >2020</th>\n",
       "    </tr>\n",
       "  </thead>\n",
       "  <tbody>\n",
       "    <tr>\n",
       "      <td id=\"T_b02ad_row0_col0\" class=\"data row0 col0\" >白酒基金</td>\n",
       "      <td id=\"T_b02ad_row0_col1\" class=\"data row0 col1\" >2.3</td>\n",
       "      <td id=\"T_b02ad_row0_col2\" class=\"data row0 col2\" >-23.230000</td>\n",
       "      <td id=\"T_b02ad_row0_col3\" class=\"data row0 col3\" >-23.23</td>\n",
       "      <td id=\"T_b02ad_row0_col4\" class=\"data row0 col4\" >43.23</td>\n",
       "    </tr>\n",
       "    <tr>\n",
       "      <td id=\"T_b02ad_row1_col0\" class=\"data row1 col0\" >消费基金</td>\n",
       "      <td id=\"T_b02ad_row1_col1\" class=\"data row1 col1\" >982.232</td>\n",
       "      <td id=\"T_b02ad_row1_col2\" class=\"data row1 col2\" >-33.230000</td>\n",
       "      <td id=\"T_b02ad_row1_col3\" class=\"data row1 col3\" >23.23</td>\n",
       "      <td id=\"T_b02ad_row1_col4\" class=\"data row1 col4\" >62.23</td>\n",
       "    </tr>\n",
       "    <tr>\n",
       "      <td id=\"T_b02ad_row2_col0\" class=\"data row2 col0\" >食品基金</td>\n",
       "      <td id=\"T_b02ad_row2_col1\" class=\"data row2 col1\" >232.232</td>\n",
       "      <td id=\"T_b02ad_row2_col2\" class=\"data row2 col2\" >0.450000</td>\n",
       "      <td id=\"T_b02ad_row2_col3\" class=\"data row2 col3\" >0.74</td>\n",
       "      <td id=\"T_b02ad_row2_col4\" class=\"data row2 col4\" >5.34</td>\n",
       "    </tr>\n",
       "    <tr>\n",
       "      <td id=\"T_b02ad_row3_col0\" class=\"data row3 col0\" >军工基金</td>\n",
       "      <td id=\"T_b02ad_row3_col1\" class=\"data row3 col1\" >343.2</td>\n",
       "      <td id=\"T_b02ad_row3_col2\" class=\"data row3 col2\" >45.320000</td>\n",
       "      <td id=\"T_b02ad_row3_col3\" class=\"data row3 col3\" >64.32</td>\n",
       "      <td id=\"T_b02ad_row3_col4\" class=\"data row3 col4\" >-45.32</td>\n",
       "    </tr>\n",
       "    <tr>\n",
       "      <td id=\"T_b02ad_row4_col0\" class=\"data row4 col0\" >食品饮料</td>\n",
       "      <td id=\"T_b02ad_row4_col1\" class=\"data row4 col1\" >232.22323</td>\n",
       "      <td id=\"T_b02ad_row4_col2\" class=\"data row4 col2\" >34.340000</td>\n",
       "      <td id=\"T_b02ad_row4_col3\" class=\"data row4 col3\" >68.34</td>\n",
       "      <td id=\"T_b02ad_row4_col4\" class=\"data row4 col4\" >34.34</td>\n",
       "    </tr>\n",
       "  </tbody>\n",
       "</table>\n"
      ],
      "text/plain": [
       "<pandas.io.formats.style.Styler at 0x7fd499f79c40>"
      ]
     },
     "execution_count": 54,
     "metadata": {},
     "output_type": "execute_result"
    }
   ],
   "source": [
    "\n",
    "df.style.hide_index()\\\n",
    "  .hide_columns(['上任日期'])\\\n",
    "  .highlight_max(axis=0,subset=['2018','2019','2020'])\\\n",
    "  .highlight_min(axis=0,subset=['2018','2019','2020'])"
   ]
  },
  {
   "cell_type": "markdown",
   "metadata": {},
   "source": [
    "### 指定高亮区间值"
   ]
  },
  {
   "cell_type": "code",
   "execution_count": 97,
   "metadata": {},
   "outputs": [
    {
     "data": {
      "text/html": [
       "<style type=\"text/css\">\n",
       "#T_e0cc5_row1_col3, #T_e0cc5_row2_col2, #T_e0cc5_row2_col3, #T_e0cc5_row2_col4 {\n",
       "  background-color: yellow;\n",
       "}\n",
       "</style>\n",
       "<table id=\"T_e0cc5_\">\n",
       "  <thead>\n",
       "    <tr>\n",
       "      <th class=\"col_heading level0 col0\" >基金名称</th>\n",
       "      <th class=\"col_heading level0 col1\" >基金规模</th>\n",
       "      <th class=\"col_heading level0 col2\" >2018</th>\n",
       "      <th class=\"col_heading level0 col3\" >2019</th>\n",
       "      <th class=\"col_heading level0 col4\" >2020</th>\n",
       "      <th class=\"col_heading level0 col5\" >上任日期</th>\n",
       "    </tr>\n",
       "  </thead>\n",
       "  <tbody>\n",
       "    <tr>\n",
       "      <td id=\"T_e0cc5_row0_col0\" class=\"data row0 col0\" >白酒基金</td>\n",
       "      <td id=\"T_e0cc5_row0_col1\" class=\"data row0 col1\" >2.3</td>\n",
       "      <td id=\"T_e0cc5_row0_col2\" class=\"data row0 col2\" >-23.230000</td>\n",
       "      <td id=\"T_e0cc5_row0_col3\" class=\"data row0 col3\" >-23.230000</td>\n",
       "      <td id=\"T_e0cc5_row0_col4\" class=\"data row0 col4\" >43.230000</td>\n",
       "      <td id=\"T_e0cc5_row0_col5\" class=\"data row0 col5\" >2017-08-22 00:00:00</td>\n",
       "    </tr>\n",
       "    <tr>\n",
       "      <td id=\"T_e0cc5_row1_col0\" class=\"data row1 col0\" >消费基金</td>\n",
       "      <td id=\"T_e0cc5_row1_col1\" class=\"data row1 col1\" >982.232</td>\n",
       "      <td id=\"T_e0cc5_row1_col2\" class=\"data row1 col2\" >-33.230000</td>\n",
       "      <td id=\"T_e0cc5_row1_col3\" class=\"data row1 col3\" >23.230000</td>\n",
       "      <td id=\"T_e0cc5_row1_col4\" class=\"data row1 col4\" >62.230000</td>\n",
       "      <td id=\"T_e0cc5_row1_col5\" class=\"data row1 col5\" >2017-08-22 00:00:00</td>\n",
       "    </tr>\n",
       "    <tr>\n",
       "      <td id=\"T_e0cc5_row2_col0\" class=\"data row2 col0\" >食品基金</td>\n",
       "      <td id=\"T_e0cc5_row2_col1\" class=\"data row2 col1\" >232.232</td>\n",
       "      <td id=\"T_e0cc5_row2_col2\" class=\"data row2 col2\" >0.450000</td>\n",
       "      <td id=\"T_e0cc5_row2_col3\" class=\"data row2 col3\" >0.740000</td>\n",
       "      <td id=\"T_e0cc5_row2_col4\" class=\"data row2 col4\" >5.340000</td>\n",
       "      <td id=\"T_e0cc5_row2_col5\" class=\"data row2 col5\" >2017-08-22 00:00:00</td>\n",
       "    </tr>\n",
       "    <tr>\n",
       "      <td id=\"T_e0cc5_row3_col0\" class=\"data row3 col0\" >军工基金</td>\n",
       "      <td id=\"T_e0cc5_row3_col1\" class=\"data row3 col1\" >343.2</td>\n",
       "      <td id=\"T_e0cc5_row3_col2\" class=\"data row3 col2\" >45.320000</td>\n",
       "      <td id=\"T_e0cc5_row3_col3\" class=\"data row3 col3\" >64.320000</td>\n",
       "      <td id=\"T_e0cc5_row3_col4\" class=\"data row3 col4\" >-45.320000</td>\n",
       "      <td id=\"T_e0cc5_row3_col5\" class=\"data row3 col5\" >2012-05-22 00:00:00</td>\n",
       "    </tr>\n",
       "    <tr>\n",
       "      <td id=\"T_e0cc5_row4_col0\" class=\"data row4 col0\" >食品饮料</td>\n",
       "      <td id=\"T_e0cc5_row4_col1\" class=\"data row4 col1\" >232.22323</td>\n",
       "      <td id=\"T_e0cc5_row4_col2\" class=\"data row4 col2\" >34.340000</td>\n",
       "      <td id=\"T_e0cc5_row4_col3\" class=\"data row4 col3\" >68.340000</td>\n",
       "      <td id=\"T_e0cc5_row4_col4\" class=\"data row4 col4\" >34.340000</td>\n",
       "      <td id=\"T_e0cc5_row4_col5\" class=\"data row4 col5\" >2019-09-22 00:00:00</td>\n",
       "    </tr>\n",
       "  </tbody>\n",
       "</table>\n"
      ],
      "text/plain": [
       "<pandas.io.formats.style.Styler at 0x7fd49ac886a0>"
      ]
     },
     "execution_count": 97,
     "metadata": {},
     "output_type": "execute_result"
    }
   ],
   "source": [
    "\n",
    "df.style.hide_index()\\\n",
    "  .highlight_between(left=-0.2,right=30,subset=['2018','2019','2020'])"
   ]
  },
  {
   "cell_type": "markdown",
   "metadata": {},
   "source": [
    "### 指定范围高亮\n",
    "\n",
    "- 2018年的年度涨跌幅度 -24~+0 范围;\n",
    "- 2019年的年度涨跌幅度 0~24 范围;\n",
    "- 2020年的年度涨跌幅度 0~30 范围;"
   ]
  },
  {
   "cell_type": "code",
   "execution_count": 102,
   "metadata": {},
   "outputs": [
    {
     "data": {
      "text/html": [
       "<style type=\"text/css\">\n",
       "#T_7a3e9_row0_col2, #T_7a3e9_row1_col3, #T_7a3e9_row2_col3, #T_7a3e9_row2_col4 {\n",
       "  background-color: yellow;\n",
       "}\n",
       "</style>\n",
       "<table id=\"T_7a3e9_\">\n",
       "  <thead>\n",
       "    <tr>\n",
       "      <th class=\"col_heading level0 col0\" >基金名称</th>\n",
       "      <th class=\"col_heading level0 col1\" >基金规模</th>\n",
       "      <th class=\"col_heading level0 col2\" >2018</th>\n",
       "      <th class=\"col_heading level0 col3\" >2019</th>\n",
       "      <th class=\"col_heading level0 col4\" >2020</th>\n",
       "      <th class=\"col_heading level0 col5\" >上任日期</th>\n",
       "    </tr>\n",
       "  </thead>\n",
       "  <tbody>\n",
       "    <tr>\n",
       "      <td id=\"T_7a3e9_row0_col0\" class=\"data row0 col0\" >白酒基金</td>\n",
       "      <td id=\"T_7a3e9_row0_col1\" class=\"data row0 col1\" >2.3</td>\n",
       "      <td id=\"T_7a3e9_row0_col2\" class=\"data row0 col2\" >-23.230000</td>\n",
       "      <td id=\"T_7a3e9_row0_col3\" class=\"data row0 col3\" >-23.230000</td>\n",
       "      <td id=\"T_7a3e9_row0_col4\" class=\"data row0 col4\" >43.230000</td>\n",
       "      <td id=\"T_7a3e9_row0_col5\" class=\"data row0 col5\" >2017-08-22 00:00:00</td>\n",
       "    </tr>\n",
       "    <tr>\n",
       "      <td id=\"T_7a3e9_row1_col0\" class=\"data row1 col0\" >消费基金</td>\n",
       "      <td id=\"T_7a3e9_row1_col1\" class=\"data row1 col1\" >982.232</td>\n",
       "      <td id=\"T_7a3e9_row1_col2\" class=\"data row1 col2\" >-33.230000</td>\n",
       "      <td id=\"T_7a3e9_row1_col3\" class=\"data row1 col3\" >23.230000</td>\n",
       "      <td id=\"T_7a3e9_row1_col4\" class=\"data row1 col4\" >62.230000</td>\n",
       "      <td id=\"T_7a3e9_row1_col5\" class=\"data row1 col5\" >2017-08-22 00:00:00</td>\n",
       "    </tr>\n",
       "    <tr>\n",
       "      <td id=\"T_7a3e9_row2_col0\" class=\"data row2 col0\" >食品基金</td>\n",
       "      <td id=\"T_7a3e9_row2_col1\" class=\"data row2 col1\" >232.232</td>\n",
       "      <td id=\"T_7a3e9_row2_col2\" class=\"data row2 col2\" >0.450000</td>\n",
       "      <td id=\"T_7a3e9_row2_col3\" class=\"data row2 col3\" >0.740000</td>\n",
       "      <td id=\"T_7a3e9_row2_col4\" class=\"data row2 col4\" >5.340000</td>\n",
       "      <td id=\"T_7a3e9_row2_col5\" class=\"data row2 col5\" >2017-08-22 00:00:00</td>\n",
       "    </tr>\n",
       "    <tr>\n",
       "      <td id=\"T_7a3e9_row3_col0\" class=\"data row3 col0\" >军工基金</td>\n",
       "      <td id=\"T_7a3e9_row3_col1\" class=\"data row3 col1\" >343.2</td>\n",
       "      <td id=\"T_7a3e9_row3_col2\" class=\"data row3 col2\" >45.320000</td>\n",
       "      <td id=\"T_7a3e9_row3_col3\" class=\"data row3 col3\" >64.320000</td>\n",
       "      <td id=\"T_7a3e9_row3_col4\" class=\"data row3 col4\" >-45.320000</td>\n",
       "      <td id=\"T_7a3e9_row3_col5\" class=\"data row3 col5\" >2012-05-22 00:00:00</td>\n",
       "    </tr>\n",
       "    <tr>\n",
       "      <td id=\"T_7a3e9_row4_col0\" class=\"data row4 col0\" >食品饮料</td>\n",
       "      <td id=\"T_7a3e9_row4_col1\" class=\"data row4 col1\" >232.22323</td>\n",
       "      <td id=\"T_7a3e9_row4_col2\" class=\"data row4 col2\" >34.340000</td>\n",
       "      <td id=\"T_7a3e9_row4_col3\" class=\"data row4 col3\" >68.340000</td>\n",
       "      <td id=\"T_7a3e9_row4_col4\" class=\"data row4 col4\" >34.340000</td>\n",
       "      <td id=\"T_7a3e9_row4_col5\" class=\"data row4 col5\" >2019-09-22 00:00:00</td>\n",
       "    </tr>\n",
       "  </tbody>\n",
       "</table>\n"
      ],
      "text/plain": [
       "<pandas.io.formats.style.Styler at 0x7fd49ac53460>"
      ]
     },
     "execution_count": 102,
     "metadata": {},
     "output_type": "execute_result"
    }
   ],
   "source": [
    "df.style.hide_index()\\\n",
    "  .highlight_between(left=[-24,0,0],right=[0,24,30],subset=['2018','2019','2020'],axis=1)"
   ]
  },
  {
   "cell_type": "markdown",
   "metadata": {},
   "source": [
    "### 设置自定义颜色"
   ]
  },
  {
   "cell_type": "code",
   "execution_count": 104,
   "metadata": {},
   "outputs": [
    {
     "data": {
      "text/html": [
       "<style type=\"text/css\">\n",
       "#T_b4f24_row0_col3, #T_b4f24_row1_col2, #T_b4f24_row3_col4 {\n",
       "  color: black;\n",
       "  font-weight: bold;\n",
       "  background-color: #ee7621;\n",
       "}\n",
       "#T_b4f24_row1_col4, #T_b4f24_row3_col2, #T_b4f24_row4_col3 {\n",
       "  color: black;\n",
       "  background-color: #99ff66;\n",
       "}\n",
       "</style>\n",
       "<table id=\"T_b4f24_\">\n",
       "  <thead>\n",
       "    <tr>\n",
       "      <th class=\"col_heading level0 col0\" >基金名称</th>\n",
       "      <th class=\"col_heading level0 col1\" >基金规模</th>\n",
       "      <th class=\"col_heading level0 col2\" >2018</th>\n",
       "      <th class=\"col_heading level0 col3\" >2019</th>\n",
       "      <th class=\"col_heading level0 col4\" >2020</th>\n",
       "    </tr>\n",
       "  </thead>\n",
       "  <tbody>\n",
       "    <tr>\n",
       "      <td id=\"T_b4f24_row0_col0\" class=\"data row0 col0\" >白酒基金</td>\n",
       "      <td id=\"T_b4f24_row0_col1\" class=\"data row0 col1\" >2.3</td>\n",
       "      <td id=\"T_b4f24_row0_col2\" class=\"data row0 col2\" >-23.230000</td>\n",
       "      <td id=\"T_b4f24_row0_col3\" class=\"data row0 col3\" >-23.230000</td>\n",
       "      <td id=\"T_b4f24_row0_col4\" class=\"data row0 col4\" >43.230000</td>\n",
       "    </tr>\n",
       "    <tr>\n",
       "      <td id=\"T_b4f24_row1_col0\" class=\"data row1 col0\" >消费基金</td>\n",
       "      <td id=\"T_b4f24_row1_col1\" class=\"data row1 col1\" >982.232</td>\n",
       "      <td id=\"T_b4f24_row1_col2\" class=\"data row1 col2\" >-33.230000</td>\n",
       "      <td id=\"T_b4f24_row1_col3\" class=\"data row1 col3\" >23.230000</td>\n",
       "      <td id=\"T_b4f24_row1_col4\" class=\"data row1 col4\" >62.230000</td>\n",
       "    </tr>\n",
       "    <tr>\n",
       "      <td id=\"T_b4f24_row2_col0\" class=\"data row2 col0\" >食品基金</td>\n",
       "      <td id=\"T_b4f24_row2_col1\" class=\"data row2 col1\" >232.232</td>\n",
       "      <td id=\"T_b4f24_row2_col2\" class=\"data row2 col2\" >0.450000</td>\n",
       "      <td id=\"T_b4f24_row2_col3\" class=\"data row2 col3\" >0.740000</td>\n",
       "      <td id=\"T_b4f24_row2_col4\" class=\"data row2 col4\" >5.340000</td>\n",
       "    </tr>\n",
       "    <tr>\n",
       "      <td id=\"T_b4f24_row3_col0\" class=\"data row3 col0\" >军工基金</td>\n",
       "      <td id=\"T_b4f24_row3_col1\" class=\"data row3 col1\" >343.2</td>\n",
       "      <td id=\"T_b4f24_row3_col2\" class=\"data row3 col2\" >45.320000</td>\n",
       "      <td id=\"T_b4f24_row3_col3\" class=\"data row3 col3\" >64.320000</td>\n",
       "      <td id=\"T_b4f24_row3_col4\" class=\"data row3 col4\" >-45.320000</td>\n",
       "    </tr>\n",
       "    <tr>\n",
       "      <td id=\"T_b4f24_row4_col0\" class=\"data row4 col0\" >食品饮料</td>\n",
       "      <td id=\"T_b4f24_row4_col1\" class=\"data row4 col1\" >232.22323</td>\n",
       "      <td id=\"T_b4f24_row4_col2\" class=\"data row4 col2\" >34.340000</td>\n",
       "      <td id=\"T_b4f24_row4_col3\" class=\"data row4 col3\" >68.340000</td>\n",
       "      <td id=\"T_b4f24_row4_col4\" class=\"data row4 col4\" >34.340000</td>\n",
       "    </tr>\n",
       "  </tbody>\n",
       "</table>\n"
      ],
      "text/plain": [
       "<pandas.io.formats.style.Styler at 0x7fd49ad50eb0>"
      ]
     },
     "execution_count": 104,
     "metadata": {},
     "output_type": "execute_result"
    }
   ],
   "source": [
    "df.style.hide_index()\\\n",
    "  .hide_columns(['上任日期'])\\\n",
    "  .highlight_max(axis=0,subset=['2018','2019','2020'], props='color:black;background-color:#99ff66')\\\n",
    "  .highlight_min(axis=0,subset=['2018','2019','2020'], props='color:black;font-weight:bold;background-color:#ee7621')"
   ]
  },
  {
   "cell_type": "markdown",
   "metadata": {},
   "source": [
    "### 添加色阶"
   ]
  },
  {
   "cell_type": "code",
   "execution_count": 106,
   "metadata": {},
   "outputs": [
    {
     "data": {
      "text/html": [
       "<style type=\"text/css\">\n",
       "#T_7a6df_row0_col1 {\n",
       "  background-color: #f7fbff;\n",
       "  color: #000000;\n",
       "}\n",
       "#T_7a6df_row1_col1 {\n",
       "  background-color: #08306b;\n",
       "  color: #f1f1f1;\n",
       "}\n",
       "#T_7a6df_row2_col1, #T_7a6df_row4_col1 {\n",
       "  background-color: #c9ddf0;\n",
       "  color: #000000;\n",
       "}\n",
       "#T_7a6df_row3_col1 {\n",
       "  background-color: #a6cee4;\n",
       "  color: #000000;\n",
       "}\n",
       "</style>\n",
       "<table id=\"T_7a6df_\">\n",
       "  <thead>\n",
       "    <tr>\n",
       "      <th class=\"col_heading level0 col0\" >基金名称</th>\n",
       "      <th class=\"col_heading level0 col1\" >基金规模</th>\n",
       "      <th class=\"col_heading level0 col2\" >2018</th>\n",
       "      <th class=\"col_heading level0 col3\" >2019</th>\n",
       "      <th class=\"col_heading level0 col4\" >2020</th>\n",
       "    </tr>\n",
       "  </thead>\n",
       "  <tbody>\n",
       "    <tr>\n",
       "      <td id=\"T_7a6df_row0_col0\" class=\"data row0 col0\" >白酒基金</td>\n",
       "      <td id=\"T_7a6df_row0_col1\" class=\"data row0 col1\" >2.3</td>\n",
       "      <td id=\"T_7a6df_row0_col2\" class=\"data row0 col2\" >-23.230000</td>\n",
       "      <td id=\"T_7a6df_row0_col3\" class=\"data row0 col3\" >-23.230000</td>\n",
       "      <td id=\"T_7a6df_row0_col4\" class=\"data row0 col4\" >43.230000</td>\n",
       "    </tr>\n",
       "    <tr>\n",
       "      <td id=\"T_7a6df_row1_col0\" class=\"data row1 col0\" >消费基金</td>\n",
       "      <td id=\"T_7a6df_row1_col1\" class=\"data row1 col1\" >982.232</td>\n",
       "      <td id=\"T_7a6df_row1_col2\" class=\"data row1 col2\" >-33.230000</td>\n",
       "      <td id=\"T_7a6df_row1_col3\" class=\"data row1 col3\" >23.230000</td>\n",
       "      <td id=\"T_7a6df_row1_col4\" class=\"data row1 col4\" >62.230000</td>\n",
       "    </tr>\n",
       "    <tr>\n",
       "      <td id=\"T_7a6df_row2_col0\" class=\"data row2 col0\" >食品基金</td>\n",
       "      <td id=\"T_7a6df_row2_col1\" class=\"data row2 col1\" >232.232</td>\n",
       "      <td id=\"T_7a6df_row2_col2\" class=\"data row2 col2\" >0.450000</td>\n",
       "      <td id=\"T_7a6df_row2_col3\" class=\"data row2 col3\" >0.740000</td>\n",
       "      <td id=\"T_7a6df_row2_col4\" class=\"data row2 col4\" >5.340000</td>\n",
       "    </tr>\n",
       "    <tr>\n",
       "      <td id=\"T_7a6df_row3_col0\" class=\"data row3 col0\" >军工基金</td>\n",
       "      <td id=\"T_7a6df_row3_col1\" class=\"data row3 col1\" >343.2</td>\n",
       "      <td id=\"T_7a6df_row3_col2\" class=\"data row3 col2\" >45.320000</td>\n",
       "      <td id=\"T_7a6df_row3_col3\" class=\"data row3 col3\" >64.320000</td>\n",
       "      <td id=\"T_7a6df_row3_col4\" class=\"data row3 col4\" >-45.320000</td>\n",
       "    </tr>\n",
       "    <tr>\n",
       "      <td id=\"T_7a6df_row4_col0\" class=\"data row4 col0\" >食品饮料</td>\n",
       "      <td id=\"T_7a6df_row4_col1\" class=\"data row4 col1\" >232.22323</td>\n",
       "      <td id=\"T_7a6df_row4_col2\" class=\"data row4 col2\" >34.340000</td>\n",
       "      <td id=\"T_7a6df_row4_col3\" class=\"data row4 col3\" >68.340000</td>\n",
       "      <td id=\"T_7a6df_row4_col4\" class=\"data row4 col4\" >34.340000</td>\n",
       "    </tr>\n",
       "  </tbody>\n",
       "</table>\n"
      ],
      "text/plain": [
       "<pandas.io.formats.style.Styler at 0x7fd49ad50a00>"
      ]
     },
     "execution_count": 106,
     "metadata": {},
     "output_type": "execute_result"
    }
   ],
   "source": [
    "df.style.hide_index()\\\n",
    "  .hide_columns(['上任日期'])\\\n",
    "  .background_gradient(cmap='Blues', subset=['基金规模'])"
   ]
  },
  {
   "cell_type": "markdown",
   "metadata": {},
   "source": [
    "可以通过对 low 和 high 值的设置，可以来调节背景颜色的范围，low 和 high 分别是压缩 低端和高端的颜色范围，其数值范围一般是 0~1 "
   ]
  },
  {
   "cell_type": "code",
   "execution_count": 107,
   "metadata": {},
   "outputs": [
    {
     "data": {
      "text/html": [
       "<style type=\"text/css\">\n",
       "#T_e3c74_row0_col1 {\n",
       "  background-color: #dceaf6;\n",
       "  color: #000000;\n",
       "}\n",
       "#T_e3c74_row1_col1 {\n",
       "  background-color: #4d99ca;\n",
       "  color: #f1f1f1;\n",
       "}\n",
       "#T_e3c74_row2_col1, #T_e3c74_row4_col1 {\n",
       "  background-color: #c7dcef;\n",
       "  color: #000000;\n",
       "}\n",
       "#T_e3c74_row3_col1 {\n",
       "  background-color: #b8d5ea;\n",
       "  color: #000000;\n",
       "}\n",
       "</style>\n",
       "<table id=\"T_e3c74_\">\n",
       "  <thead>\n",
       "    <tr>\n",
       "      <th class=\"col_heading level0 col0\" >基金名称</th>\n",
       "      <th class=\"col_heading level0 col1\" >基金规模</th>\n",
       "      <th class=\"col_heading level0 col2\" >2018</th>\n",
       "      <th class=\"col_heading level0 col3\" >2019</th>\n",
       "      <th class=\"col_heading level0 col4\" >2020</th>\n",
       "    </tr>\n",
       "  </thead>\n",
       "  <tbody>\n",
       "    <tr>\n",
       "      <td id=\"T_e3c74_row0_col0\" class=\"data row0 col0\" >白酒基金</td>\n",
       "      <td id=\"T_e3c74_row0_col1\" class=\"data row0 col1\" >2.3</td>\n",
       "      <td id=\"T_e3c74_row0_col2\" class=\"data row0 col2\" >-23.230000</td>\n",
       "      <td id=\"T_e3c74_row0_col3\" class=\"data row0 col3\" >-23.230000</td>\n",
       "      <td id=\"T_e3c74_row0_col4\" class=\"data row0 col4\" >43.230000</td>\n",
       "    </tr>\n",
       "    <tr>\n",
       "      <td id=\"T_e3c74_row1_col0\" class=\"data row1 col0\" >消费基金</td>\n",
       "      <td id=\"T_e3c74_row1_col1\" class=\"data row1 col1\" >982.232</td>\n",
       "      <td id=\"T_e3c74_row1_col2\" class=\"data row1 col2\" >-33.230000</td>\n",
       "      <td id=\"T_e3c74_row1_col3\" class=\"data row1 col3\" >23.230000</td>\n",
       "      <td id=\"T_e3c74_row1_col4\" class=\"data row1 col4\" >62.230000</td>\n",
       "    </tr>\n",
       "    <tr>\n",
       "      <td id=\"T_e3c74_row2_col0\" class=\"data row2 col0\" >食品基金</td>\n",
       "      <td id=\"T_e3c74_row2_col1\" class=\"data row2 col1\" >232.232</td>\n",
       "      <td id=\"T_e3c74_row2_col2\" class=\"data row2 col2\" >0.450000</td>\n",
       "      <td id=\"T_e3c74_row2_col3\" class=\"data row2 col3\" >0.740000</td>\n",
       "      <td id=\"T_e3c74_row2_col4\" class=\"data row2 col4\" >5.340000</td>\n",
       "    </tr>\n",
       "    <tr>\n",
       "      <td id=\"T_e3c74_row3_col0\" class=\"data row3 col0\" >军工基金</td>\n",
       "      <td id=\"T_e3c74_row3_col1\" class=\"data row3 col1\" >343.2</td>\n",
       "      <td id=\"T_e3c74_row3_col2\" class=\"data row3 col2\" >45.320000</td>\n",
       "      <td id=\"T_e3c74_row3_col3\" class=\"data row3 col3\" >64.320000</td>\n",
       "      <td id=\"T_e3c74_row3_col4\" class=\"data row3 col4\" >-45.320000</td>\n",
       "    </tr>\n",
       "    <tr>\n",
       "      <td id=\"T_e3c74_row4_col0\" class=\"data row4 col0\" >食品饮料</td>\n",
       "      <td id=\"T_e3c74_row4_col1\" class=\"data row4 col1\" >232.22323</td>\n",
       "      <td id=\"T_e3c74_row4_col2\" class=\"data row4 col2\" >34.340000</td>\n",
       "      <td id=\"T_e3c74_row4_col3\" class=\"data row4 col3\" >68.340000</td>\n",
       "      <td id=\"T_e3c74_row4_col4\" class=\"data row4 col4\" >34.340000</td>\n",
       "    </tr>\n",
       "  </tbody>\n",
       "</table>\n"
      ],
      "text/plain": [
       "<pandas.io.formats.style.Styler at 0x7fd49ac882e0>"
      ]
     },
     "execution_count": 107,
     "metadata": {},
     "output_type": "execute_result"
    }
   ],
   "source": [
    "df.style.hide_index()\\\n",
    "  .hide_columns(['上任日期'])\\\n",
    "  .background_gradient(cmap='Blues', subset=['基金规模'], low=0.3,high=0.9)"
   ]
  },
  {
   "cell_type": "markdown",
   "metadata": {},
   "source": [
    "规模在20以下的，颜色最浅，规模70以上的，颜色最深，20~70亿之间的，颜色渐变"
   ]
  },
  {
   "cell_type": "code",
   "execution_count": 110,
   "metadata": {},
   "outputs": [
    {
     "data": {
      "text/html": [
       "<style type=\"text/css\">\n",
       "#T_4eb5a_row0_col1 {\n",
       "  background-color: #f7fbff;\n",
       "  color: #000000;\n",
       "}\n",
       "#T_4eb5a_row1_col1 {\n",
       "  background-color: #08306b;\n",
       "  color: #f1f1f1;\n",
       "}\n",
       "#T_4eb5a_row2_col1, #T_4eb5a_row4_col1 {\n",
       "  background-color: #c8dcf0;\n",
       "  color: #000000;\n",
       "}\n",
       "#T_4eb5a_row3_col1 {\n",
       "  background-color: #a0cbe2;\n",
       "  color: #000000;\n",
       "}\n",
       "</style>\n",
       "<table id=\"T_4eb5a_\">\n",
       "  <thead>\n",
       "    <tr>\n",
       "      <th class=\"col_heading level0 col0\" >基金名称</th>\n",
       "      <th class=\"col_heading level0 col1\" >基金规模</th>\n",
       "      <th class=\"col_heading level0 col2\" >2018</th>\n",
       "      <th class=\"col_heading level0 col3\" >2019</th>\n",
       "      <th class=\"col_heading level0 col4\" >2020</th>\n",
       "    </tr>\n",
       "  </thead>\n",
       "  <tbody>\n",
       "    <tr>\n",
       "      <td id=\"T_4eb5a_row0_col0\" class=\"data row0 col0\" >白酒基金</td>\n",
       "      <td id=\"T_4eb5a_row0_col1\" class=\"data row0 col1\" >2.3</td>\n",
       "      <td id=\"T_4eb5a_row0_col2\" class=\"data row0 col2\" >-23.230000</td>\n",
       "      <td id=\"T_4eb5a_row0_col3\" class=\"data row0 col3\" >-23.230000</td>\n",
       "      <td id=\"T_4eb5a_row0_col4\" class=\"data row0 col4\" >43.230000</td>\n",
       "    </tr>\n",
       "    <tr>\n",
       "      <td id=\"T_4eb5a_row1_col0\" class=\"data row1 col0\" >消费基金</td>\n",
       "      <td id=\"T_4eb5a_row1_col1\" class=\"data row1 col1\" >982.232</td>\n",
       "      <td id=\"T_4eb5a_row1_col2\" class=\"data row1 col2\" >-33.230000</td>\n",
       "      <td id=\"T_4eb5a_row1_col3\" class=\"data row1 col3\" >23.230000</td>\n",
       "      <td id=\"T_4eb5a_row1_col4\" class=\"data row1 col4\" >62.230000</td>\n",
       "    </tr>\n",
       "    <tr>\n",
       "      <td id=\"T_4eb5a_row2_col0\" class=\"data row2 col0\" >食品基金</td>\n",
       "      <td id=\"T_4eb5a_row2_col1\" class=\"data row2 col1\" >232.232</td>\n",
       "      <td id=\"T_4eb5a_row2_col2\" class=\"data row2 col2\" >0.450000</td>\n",
       "      <td id=\"T_4eb5a_row2_col3\" class=\"data row2 col3\" >0.740000</td>\n",
       "      <td id=\"T_4eb5a_row2_col4\" class=\"data row2 col4\" >5.340000</td>\n",
       "    </tr>\n",
       "    <tr>\n",
       "      <td id=\"T_4eb5a_row3_col0\" class=\"data row3 col0\" >军工基金</td>\n",
       "      <td id=\"T_4eb5a_row3_col1\" class=\"data row3 col1\" >343.2</td>\n",
       "      <td id=\"T_4eb5a_row3_col2\" class=\"data row3 col2\" >45.320000</td>\n",
       "      <td id=\"T_4eb5a_row3_col3\" class=\"data row3 col3\" >64.320000</td>\n",
       "      <td id=\"T_4eb5a_row3_col4\" class=\"data row3 col4\" >-45.320000</td>\n",
       "    </tr>\n",
       "    <tr>\n",
       "      <td id=\"T_4eb5a_row4_col0\" class=\"data row4 col0\" >食品饮料</td>\n",
       "      <td id=\"T_4eb5a_row4_col1\" class=\"data row4 col1\" >232.22323</td>\n",
       "      <td id=\"T_4eb5a_row4_col2\" class=\"data row4 col2\" >34.340000</td>\n",
       "      <td id=\"T_4eb5a_row4_col3\" class=\"data row4 col3\" >68.340000</td>\n",
       "      <td id=\"T_4eb5a_row4_col4\" class=\"data row4 col4\" >34.340000</td>\n",
       "    </tr>\n",
       "  </tbody>\n",
       "</table>\n"
      ],
      "text/plain": [
       "<pandas.io.formats.style.Styler at 0x7fd49ac88b80>"
      ]
     },
     "execution_count": 110,
     "metadata": {},
     "output_type": "execute_result"
    }
   ],
   "source": [
    "df.style.hide_index()\\\n",
    "  .hide_columns(['上任日期'])\\\n",
    "  .background_gradient(subset=['基金规模'], cmap='Blues',vmin=20,vmax=900)"
   ]
  },
  {
   "cell_type": "markdown",
   "metadata": {},
   "source": [
    "### 数据条显示"
   ]
  },
  {
   "cell_type": "code",
   "execution_count": 112,
   "metadata": {},
   "outputs": [
    {
     "data": {
      "text/html": [
       "<style type=\"text/css\">\n",
       "#T_ffef4_row0_col2 {\n",
       "  width: 10em;\n",
       "  height: 80%;\n",
       "  background: linear-gradient(90deg,#99ff66 12.7%, transparent 12.7%);\n",
       "}\n",
       "#T_ffef4_row0_col4 {\n",
       "  width: 10em;\n",
       "  height: 80%;\n",
       "  background: linear-gradient(90deg,#ee7621 82.3%, transparent 82.3%);\n",
       "}\n",
       "#T_ffef4_row1_col2, #T_ffef4_row3_col4 {\n",
       "  width: 10em;\n",
       "  height: 80%;\n",
       "}\n",
       "#T_ffef4_row1_col4, #T_ffef4_row3_col2 {\n",
       "  width: 10em;\n",
       "  height: 80%;\n",
       "  background: linear-gradient(90deg,#ee7621 100.0%, transparent 100.0%);\n",
       "}\n",
       "#T_ffef4_row2_col2 {\n",
       "  width: 10em;\n",
       "  height: 80%;\n",
       "  background: linear-gradient(90deg,#ee7621 42.9%, transparent 42.9%);\n",
       "}\n",
       "#T_ffef4_row2_col4 {\n",
       "  width: 10em;\n",
       "  height: 80%;\n",
       "  background: linear-gradient(90deg,#ee7621 47.1%, transparent 47.1%);\n",
       "}\n",
       "#T_ffef4_row4_col2 {\n",
       "  width: 10em;\n",
       "  height: 80%;\n",
       "  background: linear-gradient(90deg,#ee7621 86.0%, transparent 86.0%);\n",
       "}\n",
       "#T_ffef4_row4_col4 {\n",
       "  width: 10em;\n",
       "  height: 80%;\n",
       "  background: linear-gradient(90deg,#ee7621 74.1%, transparent 74.1%);\n",
       "}\n",
       "</style>\n",
       "<table id=\"T_ffef4_\">\n",
       "  <thead>\n",
       "    <tr>\n",
       "      <th class=\"col_heading level0 col0\" >基金名称</th>\n",
       "      <th class=\"col_heading level0 col1\" >基金规模</th>\n",
       "      <th class=\"col_heading level0 col2\" >2018</th>\n",
       "      <th class=\"col_heading level0 col3\" >2019</th>\n",
       "      <th class=\"col_heading level0 col4\" >2020</th>\n",
       "    </tr>\n",
       "  </thead>\n",
       "  <tbody>\n",
       "    <tr>\n",
       "      <td id=\"T_ffef4_row0_col0\" class=\"data row0 col0\" >白酒基金</td>\n",
       "      <td id=\"T_ffef4_row0_col1\" class=\"data row0 col1\" >2.3</td>\n",
       "      <td id=\"T_ffef4_row0_col2\" class=\"data row0 col2\" >-23.230000</td>\n",
       "      <td id=\"T_ffef4_row0_col3\" class=\"data row0 col3\" >-23.230000</td>\n",
       "      <td id=\"T_ffef4_row0_col4\" class=\"data row0 col4\" >43.230000</td>\n",
       "    </tr>\n",
       "    <tr>\n",
       "      <td id=\"T_ffef4_row1_col0\" class=\"data row1 col0\" >消费基金</td>\n",
       "      <td id=\"T_ffef4_row1_col1\" class=\"data row1 col1\" >982.232</td>\n",
       "      <td id=\"T_ffef4_row1_col2\" class=\"data row1 col2\" >-33.230000</td>\n",
       "      <td id=\"T_ffef4_row1_col3\" class=\"data row1 col3\" >23.230000</td>\n",
       "      <td id=\"T_ffef4_row1_col4\" class=\"data row1 col4\" >62.230000</td>\n",
       "    </tr>\n",
       "    <tr>\n",
       "      <td id=\"T_ffef4_row2_col0\" class=\"data row2 col0\" >食品基金</td>\n",
       "      <td id=\"T_ffef4_row2_col1\" class=\"data row2 col1\" >232.232</td>\n",
       "      <td id=\"T_ffef4_row2_col2\" class=\"data row2 col2\" >0.450000</td>\n",
       "      <td id=\"T_ffef4_row2_col3\" class=\"data row2 col3\" >0.740000</td>\n",
       "      <td id=\"T_ffef4_row2_col4\" class=\"data row2 col4\" >5.340000</td>\n",
       "    </tr>\n",
       "    <tr>\n",
       "      <td id=\"T_ffef4_row3_col0\" class=\"data row3 col0\" >军工基金</td>\n",
       "      <td id=\"T_ffef4_row3_col1\" class=\"data row3 col1\" >343.2</td>\n",
       "      <td id=\"T_ffef4_row3_col2\" class=\"data row3 col2\" >45.320000</td>\n",
       "      <td id=\"T_ffef4_row3_col3\" class=\"data row3 col3\" >64.320000</td>\n",
       "      <td id=\"T_ffef4_row3_col4\" class=\"data row3 col4\" >-45.320000</td>\n",
       "    </tr>\n",
       "    <tr>\n",
       "      <td id=\"T_ffef4_row4_col0\" class=\"data row4 col0\" >食品饮料</td>\n",
       "      <td id=\"T_ffef4_row4_col1\" class=\"data row4 col1\" >232.22323</td>\n",
       "      <td id=\"T_ffef4_row4_col2\" class=\"data row4 col2\" >34.340000</td>\n",
       "      <td id=\"T_ffef4_row4_col3\" class=\"data row4 col3\" >68.340000</td>\n",
       "      <td id=\"T_ffef4_row4_col4\" class=\"data row4 col4\" >34.340000</td>\n",
       "    </tr>\n",
       "  </tbody>\n",
       "</table>\n"
      ],
      "text/plain": [
       "<pandas.io.formats.style.Styler at 0x7fd49aa1a8e0>"
      ]
     },
     "execution_count": 112,
     "metadata": {},
     "output_type": "execute_result"
    }
   ],
   "source": [
    "df.style.hide_index()\\\n",
    "  .hide_columns(['上任日期'])\\\n",
    "  .bar(subset=['2018','2020'],color=['#99ff66','#ee7621'])"
   ]
  },
  {
   "cell_type": "markdown",
   "metadata": {},
   "source": [
    "### 自定义设置颜色"
   ]
  },
  {
   "cell_type": "code",
   "execution_count": 115,
   "metadata": {},
   "outputs": [
    {
     "data": {
      "text/html": [
       "<style type=\"text/css\">\n",
       "#T_83dd0_row1_col4, #T_83dd0_row3_col2, #T_83dd0_row4_col3 {\n",
       "  color: red;\n",
       "  background-color: yellow;\n",
       "}\n",
       "</style>\n",
       "<table id=\"T_83dd0_\">\n",
       "  <thead>\n",
       "    <tr>\n",
       "      <th class=\"col_heading level0 col0\" >基金名称</th>\n",
       "      <th class=\"col_heading level0 col1\" >基金规模</th>\n",
       "      <th class=\"col_heading level0 col2\" >2018</th>\n",
       "      <th class=\"col_heading level0 col3\" >2019</th>\n",
       "      <th class=\"col_heading level0 col4\" >2020</th>\n",
       "    </tr>\n",
       "  </thead>\n",
       "  <tbody>\n",
       "    <tr>\n",
       "      <td id=\"T_83dd0_row0_col0\" class=\"data row0 col0\" >白酒基金</td>\n",
       "      <td id=\"T_83dd0_row0_col1\" class=\"data row0 col1\" >2.3</td>\n",
       "      <td id=\"T_83dd0_row0_col2\" class=\"data row0 col2\" >-23.23</td>\n",
       "      <td id=\"T_83dd0_row0_col3\" class=\"data row0 col3\" >-23.23</td>\n",
       "      <td id=\"T_83dd0_row0_col4\" class=\"data row0 col4\" >43.23</td>\n",
       "    </tr>\n",
       "    <tr>\n",
       "      <td id=\"T_83dd0_row1_col0\" class=\"data row1 col0\" >消费基金</td>\n",
       "      <td id=\"T_83dd0_row1_col1\" class=\"data row1 col1\" >982.232</td>\n",
       "      <td id=\"T_83dd0_row1_col2\" class=\"data row1 col2\" >-33.23</td>\n",
       "      <td id=\"T_83dd0_row1_col3\" class=\"data row1 col3\" >23.23</td>\n",
       "      <td id=\"T_83dd0_row1_col4\" class=\"data row1 col4\" >62.23</td>\n",
       "    </tr>\n",
       "    <tr>\n",
       "      <td id=\"T_83dd0_row2_col0\" class=\"data row2 col0\" >食品基金</td>\n",
       "      <td id=\"T_83dd0_row2_col1\" class=\"data row2 col1\" >232.232</td>\n",
       "      <td id=\"T_83dd0_row2_col2\" class=\"data row2 col2\" >0.45</td>\n",
       "      <td id=\"T_83dd0_row2_col3\" class=\"data row2 col3\" >0.74</td>\n",
       "      <td id=\"T_83dd0_row2_col4\" class=\"data row2 col4\" >5.34</td>\n",
       "    </tr>\n",
       "    <tr>\n",
       "      <td id=\"T_83dd0_row3_col0\" class=\"data row3 col0\" >军工基金</td>\n",
       "      <td id=\"T_83dd0_row3_col1\" class=\"data row3 col1\" >343.2</td>\n",
       "      <td id=\"T_83dd0_row3_col2\" class=\"data row3 col2\" >45.32</td>\n",
       "      <td id=\"T_83dd0_row3_col3\" class=\"data row3 col3\" >64.32</td>\n",
       "      <td id=\"T_83dd0_row3_col4\" class=\"data row3 col4\" >-45.32</td>\n",
       "    </tr>\n",
       "    <tr>\n",
       "      <td id=\"T_83dd0_row4_col0\" class=\"data row4 col0\" >食品饮料</td>\n",
       "      <td id=\"T_83dd0_row4_col1\" class=\"data row4 col1\" >232.22323</td>\n",
       "      <td id=\"T_83dd0_row4_col2\" class=\"data row4 col2\" >34.34</td>\n",
       "      <td id=\"T_83dd0_row4_col3\" class=\"data row4 col3\" >68.34</td>\n",
       "      <td id=\"T_83dd0_row4_col4\" class=\"data row4 col4\" >34.34</td>\n",
       "    </tr>\n",
       "  </tbody>\n",
       "</table>\n"
      ],
      "text/plain": [
       "<pandas.io.formats.style.Styler at 0x7fd49ad0abe0>"
      ]
     },
     "execution_count": 115,
     "metadata": {},
     "output_type": "execute_result"
    }
   ],
   "source": [
    "\n",
    "def max_value(x, color='red'):\n",
    "    return np.where(x == np.nanmax(x.to_numpy()),\n",
    "                    f\"color: {color};background-color:yellow\", None)\n",
    "df.style.hide_index()\\\n",
    "  .hide_columns(['上任日期'])\\\n",
    "  .apply(max_value,axis=0,subset=['2018','2019','2020'])"
   ]
  },
  {
   "cell_type": "markdown",
   "metadata": {},
   "source": [
    "### 行列同时自定义"
   ]
  },
  {
   "cell_type": "code",
   "execution_count": 119,
   "metadata": {},
   "outputs": [
    {
     "data": {
      "text/html": [
       "<style type=\"text/css\">\n",
       "#T_854d7_row1_col2, #T_854d7_row3_col4 {\n",
       "  background-color: #99ff66;\n",
       "}\n",
       "#T_854d7_row1_col3, #T_854d7_row1_col4, #T_854d7_row2_col2, #T_854d7_row2_col3, #T_854d7_row2_col4, #T_854d7_row3_col2, #T_854d7_row3_col3, #T_854d7_row4_col2, #T_854d7_row4_col3, #T_854d7_row4_col4 {\n",
       "  background-color: #EE7621;\n",
       "}\n",
       "</style>\n",
       "<table id=\"T_854d7_\">\n",
       "  <thead>\n",
       "    <tr>\n",
       "      <th class=\"col_heading level0 col0\" >基金名称</th>\n",
       "      <th class=\"col_heading level0 col1\" >基金规模</th>\n",
       "      <th class=\"col_heading level0 col2\" >2018</th>\n",
       "      <th class=\"col_heading level0 col3\" >2019</th>\n",
       "      <th class=\"col_heading level0 col4\" >2020</th>\n",
       "    </tr>\n",
       "  </thead>\n",
       "  <tbody>\n",
       "    <tr>\n",
       "      <td id=\"T_854d7_row0_col0\" class=\"data row0 col0\" >白酒基金</td>\n",
       "      <td id=\"T_854d7_row0_col1\" class=\"data row0 col1\" >2.3</td>\n",
       "      <td id=\"T_854d7_row0_col2\" class=\"data row0 col2\" >-23.23</td>\n",
       "      <td id=\"T_854d7_row0_col3\" class=\"data row0 col3\" >-23.23</td>\n",
       "      <td id=\"T_854d7_row0_col4\" class=\"data row0 col4\" >43.23</td>\n",
       "    </tr>\n",
       "    <tr>\n",
       "      <td id=\"T_854d7_row1_col0\" class=\"data row1 col0\" >消费基金</td>\n",
       "      <td id=\"T_854d7_row1_col1\" class=\"data row1 col1\" >982.232</td>\n",
       "      <td id=\"T_854d7_row1_col2\" class=\"data row1 col2\" >-33.23</td>\n",
       "      <td id=\"T_854d7_row1_col3\" class=\"data row1 col3\" >23.23</td>\n",
       "      <td id=\"T_854d7_row1_col4\" class=\"data row1 col4\" >62.23</td>\n",
       "    </tr>\n",
       "    <tr>\n",
       "      <td id=\"T_854d7_row2_col0\" class=\"data row2 col0\" >食品基金</td>\n",
       "      <td id=\"T_854d7_row2_col1\" class=\"data row2 col1\" >232.232</td>\n",
       "      <td id=\"T_854d7_row2_col2\" class=\"data row2 col2\" >0.45</td>\n",
       "      <td id=\"T_854d7_row2_col3\" class=\"data row2 col3\" >0.74</td>\n",
       "      <td id=\"T_854d7_row2_col4\" class=\"data row2 col4\" >5.34</td>\n",
       "    </tr>\n",
       "    <tr>\n",
       "      <td id=\"T_854d7_row3_col0\" class=\"data row3 col0\" >军工基金</td>\n",
       "      <td id=\"T_854d7_row3_col1\" class=\"data row3 col1\" >343.2</td>\n",
       "      <td id=\"T_854d7_row3_col2\" class=\"data row3 col2\" >45.32</td>\n",
       "      <td id=\"T_854d7_row3_col3\" class=\"data row3 col3\" >64.32</td>\n",
       "      <td id=\"T_854d7_row3_col4\" class=\"data row3 col4\" >-45.32</td>\n",
       "    </tr>\n",
       "    <tr>\n",
       "      <td id=\"T_854d7_row4_col0\" class=\"data row4 col0\" >食品饮料</td>\n",
       "      <td id=\"T_854d7_row4_col1\" class=\"data row4 col1\" >232.22323</td>\n",
       "      <td id=\"T_854d7_row4_col2\" class=\"data row4 col2\" >34.34</td>\n",
       "      <td id=\"T_854d7_row4_col3\" class=\"data row4 col3\" >68.34</td>\n",
       "      <td id=\"T_854d7_row4_col4\" class=\"data row4 col4\" >34.34</td>\n",
       "    </tr>\n",
       "  </tbody>\n",
       "</table>\n"
      ],
      "text/plain": [
       "<pandas.io.formats.style.Styler at 0x7fd49ad0a850>"
      ]
     },
     "execution_count": 119,
     "metadata": {},
     "output_type": "execute_result"
    }
   ],
   "source": [
    "def color_returns(val):\n",
    "    if float(val) > 0:\n",
    "        color = '#EE7621'  # light red\n",
    "    elif float(val) < 0:\n",
    "        color = '#99ff66'  # light green  '#99ff66'\n",
    "    else:\n",
    "        color = '#FFFAFA'  # ligth gray\n",
    "    return f'background-color: {color}'\n",
    "\n",
    "df.style.hide_index()\\\n",
    "  .hide_columns(['上任日期'])\\\n",
    "  .applymap(color_returns,subset=pd.IndexSlice[1:5,['2018','2019','2020']])"
   ]
  },
  {
   "cell_type": "markdown",
   "metadata": {},
   "source": [
    "### 按范围锁定进行样式格式化"
   ]
  },
  {
   "cell_type": "code",
   "execution_count": 139,
   "metadata": {},
   "outputs": [
    {
     "data": {
      "text/html": [
       "<style type=\"text/css\">\n",
       "</style>\n",
       "<table id=\"T_1b26e_\">\n",
       "  <thead>\n",
       "    <tr>\n",
       "      <th class=\"col_heading level0 col0\" >基金名称</th>\n",
       "      <th class=\"col_heading level0 col1\" >基金规模</th>\n",
       "      <th class=\"col_heading level0 col2\" >2018</th>\n",
       "      <th class=\"col_heading level0 col3\" >2019</th>\n",
       "      <th class=\"col_heading level0 col4\" >2020</th>\n",
       "    </tr>\n",
       "  </thead>\n",
       "  <tbody>\n",
       "    <tr>\n",
       "      <td id=\"T_1b26e_row0_col0\" class=\"data row0 col0\" >白酒基金</td>\n",
       "      <td id=\"T_1b26e_row0_col1\" class=\"data row0 col1\" >2.3</td>\n",
       "      <td id=\"T_1b26e_row0_col2\" class=\"data row0 col2\" >-23.23</td>\n",
       "      <td id=\"T_1b26e_row0_col3\" class=\"data row0 col3\" >-23.23</td>\n",
       "      <td id=\"T_1b26e_row0_col4\" class=\"data row0 col4\" >43.23</td>\n",
       "    </tr>\n",
       "    <tr>\n",
       "      <td id=\"T_1b26e_row1_col0\" class=\"data row1 col0\" >消费基金</td>\n",
       "      <td id=\"T_1b26e_row1_col1\" class=\"data row1 col1\" >982.232</td>\n",
       "      <td id=\"T_1b26e_row1_col2\" class=\"data row1 col2\" >-33.23</td>\n",
       "      <td id=\"T_1b26e_row1_col3\" class=\"data row1 col3\" >23.23</td>\n",
       "      <td id=\"T_1b26e_row1_col4\" class=\"data row1 col4\" >62.23</td>\n",
       "    </tr>\n",
       "    <tr>\n",
       "      <td id=\"T_1b26e_row2_col0\" class=\"data row2 col0\" >食品基金</td>\n",
       "      <td id=\"T_1b26e_row2_col1\" class=\"data row2 col1\" >232.232</td>\n",
       "      <td id=\"T_1b26e_row2_col2\" class=\"data row2 col2\" >0.45</td>\n",
       "      <td id=\"T_1b26e_row2_col3\" class=\"data row2 col3\" >0.74</td>\n",
       "      <td id=\"T_1b26e_row2_col4\" class=\"data row2 col4\" >5.34</td>\n",
       "    </tr>\n",
       "    <tr>\n",
       "      <td id=\"T_1b26e_row3_col0\" class=\"data row3 col0\" >军工基金</td>\n",
       "      <td id=\"T_1b26e_row3_col1\" class=\"data row3 col1\" >343.2</td>\n",
       "      <td id=\"T_1b26e_row3_col2\" class=\"data row3 col2\" >45.32</td>\n",
       "      <td id=\"T_1b26e_row3_col3\" class=\"data row3 col3\" >64.32</td>\n",
       "      <td id=\"T_1b26e_row3_col4\" class=\"data row3 col4\" >-45.32</td>\n",
       "    </tr>\n",
       "    <tr>\n",
       "      <td id=\"T_1b26e_row4_col0\" class=\"data row4 col0\" >食品饮料</td>\n",
       "      <td id=\"T_1b26e_row4_col1\" class=\"data row4 col1\" >232.22323</td>\n",
       "      <td id=\"T_1b26e_row4_col2\" class=\"data row4 col2\" >34.34</td>\n",
       "      <td id=\"T_1b26e_row4_col3\" class=\"data row4 col3\" >68.34</td>\n",
       "      <td id=\"T_1b26e_row4_col4\" class=\"data row4 col4\" >34.34</td>\n",
       "    </tr>\n",
       "  </tbody>\n",
       "</table>\n"
      ],
      "text/plain": [
       "<pandas.io.formats.style.Styler at 0x7fd49ad636d0>"
      ]
     },
     "execution_count": 139,
     "metadata": {},
     "output_type": "execute_result"
    }
   ],
   "source": [
    "df.style.hide_index()\\\n",
    "  .hide_columns(['上任日期'])\\\n",
    "  .applymap(color_returns, subset=pd.IndexSlice[3:2])"
   ]
  },
  {
   "cell_type": "markdown",
   "metadata": {},
   "source": [
    "### 共享样式\n",
    "\n",
    "保存样式"
   ]
  },
  {
   "cell_type": "code",
   "execution_count": 140,
   "metadata": {},
   "outputs": [
    {
     "data": {
      "text/html": [
       "<style type=\"text/css\">\n",
       "#T_464b6_row0_col2, #T_464b6_row0_col3, #T_464b6_row1_col2, #T_464b6_row2_col2, #T_464b6_row3_col4, #T_464b6_row4_col2, #T_464b6_row4_col4 {\n",
       "  color: black;\n",
       "  background-color: #99ff66;\n",
       "}\n",
       "#T_464b6_row0_col4, #T_464b6_row1_col4, #T_464b6_row2_col4, #T_464b6_row3_col3, #T_464b6_row4_col3 {\n",
       "  color: black;\n",
       "  background-color: #ee7621;\n",
       "}\n",
       "</style>\n",
       "<table id=\"T_464b6_\">\n",
       "  <thead>\n",
       "    <tr>\n",
       "      <th class=\"col_heading level0 col0\" >基金名称</th>\n",
       "      <th class=\"col_heading level0 col1\" >基金规模</th>\n",
       "      <th class=\"col_heading level0 col2\" >2018</th>\n",
       "      <th class=\"col_heading level0 col3\" >2019</th>\n",
       "      <th class=\"col_heading level0 col4\" >2020</th>\n",
       "      <th class=\"col_heading level0 col5\" >上任日期</th>\n",
       "    </tr>\n",
       "  </thead>\n",
       "  <tbody>\n",
       "    <tr>\n",
       "      <td id=\"T_464b6_row0_col0\" class=\"data row0 col0\" >白酒基金</td>\n",
       "      <td id=\"T_464b6_row0_col1\" class=\"data row0 col1\" >2.3</td>\n",
       "      <td id=\"T_464b6_row0_col2\" class=\"data row0 col2\" >-23.23</td>\n",
       "      <td id=\"T_464b6_row0_col3\" class=\"data row0 col3\" >-23.23</td>\n",
       "      <td id=\"T_464b6_row0_col4\" class=\"data row0 col4\" >43.23</td>\n",
       "      <td id=\"T_464b6_row0_col5\" class=\"data row0 col5\" >2017-08-22 00:00:00</td>\n",
       "    </tr>\n",
       "    <tr>\n",
       "      <td id=\"T_464b6_row1_col0\" class=\"data row1 col0\" >消费基金</td>\n",
       "      <td id=\"T_464b6_row1_col1\" class=\"data row1 col1\" >982.232</td>\n",
       "      <td id=\"T_464b6_row1_col2\" class=\"data row1 col2\" >-33.23</td>\n",
       "      <td id=\"T_464b6_row1_col3\" class=\"data row1 col3\" >23.23</td>\n",
       "      <td id=\"T_464b6_row1_col4\" class=\"data row1 col4\" >62.23</td>\n",
       "      <td id=\"T_464b6_row1_col5\" class=\"data row1 col5\" >2017-08-22 00:00:00</td>\n",
       "    </tr>\n",
       "    <tr>\n",
       "      <td id=\"T_464b6_row2_col0\" class=\"data row2 col0\" >食品基金</td>\n",
       "      <td id=\"T_464b6_row2_col1\" class=\"data row2 col1\" >232.232</td>\n",
       "      <td id=\"T_464b6_row2_col2\" class=\"data row2 col2\" >0.45</td>\n",
       "      <td id=\"T_464b6_row2_col3\" class=\"data row2 col3\" >0.74</td>\n",
       "      <td id=\"T_464b6_row2_col4\" class=\"data row2 col4\" >5.34</td>\n",
       "      <td id=\"T_464b6_row2_col5\" class=\"data row2 col5\" >2017-08-22 00:00:00</td>\n",
       "    </tr>\n",
       "    <tr>\n",
       "      <td id=\"T_464b6_row3_col0\" class=\"data row3 col0\" >军工基金</td>\n",
       "      <td id=\"T_464b6_row3_col1\" class=\"data row3 col1\" >343.2</td>\n",
       "      <td id=\"T_464b6_row3_col2\" class=\"data row3 col2\" >45.32</td>\n",
       "      <td id=\"T_464b6_row3_col3\" class=\"data row3 col3\" >64.32</td>\n",
       "      <td id=\"T_464b6_row3_col4\" class=\"data row3 col4\" >-45.32</td>\n",
       "      <td id=\"T_464b6_row3_col5\" class=\"data row3 col5\" >2012-05-22 00:00:00</td>\n",
       "    </tr>\n",
       "    <tr>\n",
       "      <td id=\"T_464b6_row4_col0\" class=\"data row4 col0\" >食品饮料</td>\n",
       "      <td id=\"T_464b6_row4_col1\" class=\"data row4 col1\" >232.22323</td>\n",
       "      <td id=\"T_464b6_row4_col2\" class=\"data row4 col2\" >34.34</td>\n",
       "      <td id=\"T_464b6_row4_col3\" class=\"data row4 col3\" >68.34</td>\n",
       "      <td id=\"T_464b6_row4_col4\" class=\"data row4 col4\" >34.34</td>\n",
       "      <td id=\"T_464b6_row4_col5\" class=\"data row4 col5\" >2019-09-22 00:00:00</td>\n",
       "    </tr>\n",
       "  </tbody>\n",
       "</table>\n"
      ],
      "text/plain": [
       "<pandas.io.formats.style.Styler at 0x7fd49add56a0>"
      ]
     },
     "execution_count": 140,
     "metadata": {},
     "output_type": "execute_result"
    }
   ],
   "source": [
    "style1 = df.style.hide_index()\\\n",
    "                .highlight_min(axis=1,subset=['2018','2019','2020'],props='color:black;background-color:#99ff66')\\\n",
    "                .highlight_max(axis=1,subset=['2018','2019','2020'],props='color:black;background-color:#ee7621')\\\n",
    "                .highlight_null(props='color:white;background-color:darkblue')\n",
    "style1"
   ]
  },
  {
   "cell_type": "markdown",
   "metadata": {},
   "source": [
    "使用样式"
   ]
  },
  {
   "cell_type": "code",
   "execution_count": 141,
   "metadata": {},
   "outputs": [
    {
     "data": {
      "text/html": [
       "<style type=\"text/css\">\n",
       "#T_f491f_row0_col0, #T_f491f_row0_col1, #T_f491f_row1_col0, #T_f491f_row2_col0, #T_f491f_row3_col2, #T_f491f_row4_col0, #T_f491f_row4_col2 {\n",
       "  color: black;\n",
       "  background-color: #99ff66;\n",
       "}\n",
       "#T_f491f_row0_col2, #T_f491f_row1_col2, #T_f491f_row2_col2, #T_f491f_row3_col1, #T_f491f_row4_col1 {\n",
       "  color: black;\n",
       "  background-color: #ee7621;\n",
       "}\n",
       "</style>\n",
       "<table id=\"T_f491f_\">\n",
       "  <thead>\n",
       "    <tr>\n",
       "      <th class=\"blank level0\" >&nbsp;</th>\n",
       "      <th class=\"col_heading level0 col0\" >2018</th>\n",
       "      <th class=\"col_heading level0 col1\" >2019</th>\n",
       "      <th class=\"col_heading level0 col2\" >2020</th>\n",
       "    </tr>\n",
       "  </thead>\n",
       "  <tbody>\n",
       "    <tr>\n",
       "      <th id=\"T_f491f_level0_row0\" class=\"row_heading level0 row0\" >0</th>\n",
       "      <td id=\"T_f491f_row0_col0\" class=\"data row0 col0\" >-23.23</td>\n",
       "      <td id=\"T_f491f_row0_col1\" class=\"data row0 col1\" >-23.23</td>\n",
       "      <td id=\"T_f491f_row0_col2\" class=\"data row0 col2\" >43.23</td>\n",
       "    </tr>\n",
       "    <tr>\n",
       "      <th id=\"T_f491f_level0_row1\" class=\"row_heading level0 row1\" >1</th>\n",
       "      <td id=\"T_f491f_row1_col0\" class=\"data row1 col0\" >-33.23</td>\n",
       "      <td id=\"T_f491f_row1_col1\" class=\"data row1 col1\" >23.23</td>\n",
       "      <td id=\"T_f491f_row1_col2\" class=\"data row1 col2\" >62.23</td>\n",
       "    </tr>\n",
       "    <tr>\n",
       "      <th id=\"T_f491f_level0_row2\" class=\"row_heading level0 row2\" >2</th>\n",
       "      <td id=\"T_f491f_row2_col0\" class=\"data row2 col0\" >0.45</td>\n",
       "      <td id=\"T_f491f_row2_col1\" class=\"data row2 col1\" >0.74</td>\n",
       "      <td id=\"T_f491f_row2_col2\" class=\"data row2 col2\" >5.34</td>\n",
       "    </tr>\n",
       "    <tr>\n",
       "      <th id=\"T_f491f_level0_row3\" class=\"row_heading level0 row3\" >3</th>\n",
       "      <td id=\"T_f491f_row3_col0\" class=\"data row3 col0\" >45.32</td>\n",
       "      <td id=\"T_f491f_row3_col1\" class=\"data row3 col1\" >64.32</td>\n",
       "      <td id=\"T_f491f_row3_col2\" class=\"data row3 col2\" >-45.32</td>\n",
       "    </tr>\n",
       "    <tr>\n",
       "      <th id=\"T_f491f_level0_row4\" class=\"row_heading level0 row4\" >4</th>\n",
       "      <td id=\"T_f491f_row4_col0\" class=\"data row4 col0\" >34.34</td>\n",
       "      <td id=\"T_f491f_row4_col1\" class=\"data row4 col1\" >68.34</td>\n",
       "      <td id=\"T_f491f_row4_col2\" class=\"data row4 col2\" >34.34</td>\n",
       "    </tr>\n",
       "  </tbody>\n",
       "</table>\n"
      ],
      "text/plain": [
       "<pandas.io.formats.style.Styler at 0x7fd49ac88cd0>"
      ]
     },
     "execution_count": 141,
     "metadata": {},
     "output_type": "execute_result"
    }
   ],
   "source": [
    "df_fund_1 = df[['2018','2019','2020']]\n",
    "\n",
    "df_fund_1.style.use(style1.export())"
   ]
  },
  {
   "cell_type": "markdown",
   "metadata": {},
   "source": [
    "## 导出excel"
   ]
  },
  {
   "cell_type": "code",
   "execution_count": null,
   "metadata": {},
   "outputs": [],
   "source": [
    "def max_value(x, color='red'):\n",
    "    return np.where(x == np.nanmax(x.to_numpy()),\n",
    "                    f\"color: {color};background-color:yellow\", None)\n",
    "df.style.hide_index()\\\n",
    "  .hide_columns(['上任日期'])\\\n",
    "  .apply(max_value,axis=0,subset=['2018','2019','2020'])\\\n",
    "  .to_excel('style_export.xlsx',engine = 'openpyxl')\n"
   ]
  }
 ],
 "metadata": {
  "kernelspec": {
   "display_name": "Python 3.9.6 ('py39')",
   "language": "python",
   "name": "python3"
  },
  "language_info": {
   "codemirror_mode": {
    "name": "ipython",
    "version": 3
   },
   "file_extension": ".py",
   "mimetype": "text/x-python",
   "name": "python",
   "nbconvert_exporter": "python",
   "pygments_lexer": "ipython3",
   "version": "3.9.6"
  },
  "orig_nbformat": 4,
  "vscode": {
   "interpreter": {
    "hash": "dbc1128b55dfe7674910d9dec9178b9135ab71c646c7080f47e59389499c8905"
   }
  }
 },
 "nbformat": 4,
 "nbformat_minor": 2
}
