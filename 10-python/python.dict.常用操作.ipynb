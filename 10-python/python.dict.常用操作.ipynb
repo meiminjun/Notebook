{
 "cells": [
  {
   "cell_type": "markdown",
   "source": [
    "# dict 常用操作"
   ],
   "metadata": {}
  },
  {
   "cell_type": "markdown",
   "source": [
    "## 字典合并的几种常用方式"
   ],
   "metadata": {}
  },
  {
   "cell_type": "markdown",
   "source": [
    "## 方式一\n"
   ],
   "metadata": {}
  },
  {
   "cell_type": "code",
   "execution_count": 4,
   "source": [
    "dic1 = { \"a\":3, \"b\": \"3\" }\n",
    "\n",
    "dic2 = { \"c\":4, \"d\": \"5\", \"a\": 4 }\n",
    "\n",
    "dic3 = {}\n",
    "\n",
    "dic3.update(dic1)\n",
    "print(dic3)\n",
    "dic3.update(dic2)\n",
    "print(dic3)"
   ],
   "outputs": [
    {
     "output_type": "stream",
     "name": "stdout",
     "text": [
      "{'a': 3, 'b': '3'}\n",
      "{'a': 4, 'b': '3', 'c': 4, 'd': '5'}\n"
     ]
    }
   ],
   "metadata": {}
  },
  {
   "cell_type": "code",
   "execution_count": 5,
   "source": [
    "## 方式二\n",
    "dic1 = {\"a\": 3, \"b\": \"3\"}\n",
    "\n",
    "dic2 = {\"c\": 4, \"d\": \"5\", \"a\": 4}\n",
    "\n",
    "dic3=dict(dic1,**dic2)\n",
    "\n",
    "print(dic3)"
   ],
   "outputs": [
    {
     "output_type": "stream",
     "name": "stdout",
     "text": [
      "{'a': 4, 'b': '3', 'c': 4, 'd': '5'}\n"
     ]
    }
   ],
   "metadata": {}
  },
  {
   "cell_type": "markdown",
   "source": [
    "## 方式三（推荐）"
   ],
   "metadata": {}
  },
  {
   "cell_type": "code",
   "execution_count": 7,
   "source": [
    "dic1 = {\"a\": 3, \"b\": \"3\"}\n",
    "\n",
    "dic2 = {\"c\": 4, \"d\": \"5\", \"a\": 4}\n",
    "\n",
    "dic3 = {**dic1, **dic2}\n",
    "\n",
    "print(dic3)\n"
   ],
   "outputs": [
    {
     "output_type": "stream",
     "name": "stdout",
     "text": [
      "{'a': 4, 'b': '3', 'c': 4, 'd': '5'}\n"
     ]
    }
   ],
   "metadata": {}
  }
 ],
 "metadata": {
  "kernelspec": {
   "name": "python3",
   "display_name": "Python 3.7.4 64-bit ('base': conda)"
  },
  "language_info": {
   "codemirror_mode": {
    "name": "ipython",
    "version": 3
   },
   "file_extension": ".py",
   "mimetype": "text/x-python",
   "name": "python",
   "nbconvert_exporter": "python",
   "pygments_lexer": "ipython3",
   "version": "3.7.4"
  },
  "widgets": {
   "application/vnd.jupyter.widget-state+json": {
    "state": {},
    "version_major": 2,
    "version_minor": 0
   }
  },
  "interpreter": {
   "hash": "e134e05457d34029b6460cd73bbf1ed73f339b5b6d98c95be70b69eba114fe95"
  }
 },
 "nbformat": 4,
 "nbformat_minor": 4
}