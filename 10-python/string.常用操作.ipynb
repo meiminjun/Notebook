{
 "cells": [
  {
   "cell_type": "markdown",
   "metadata": {},
   "source": [
    "# 字符串的常用操作"
   ]
  },
  {
   "cell_type": "markdown",
   "metadata": {},
   "source": [
    "## 判断字符串包含的几种方法\n"
   ]
  },
  {
   "cell_type": "markdown",
   "metadata": {},
   "source": [
    "### 1. 成员操作符in\n"
   ]
  },
  {
   "cell_type": "code",
   "execution_count": 1,
   "metadata": {},
   "outputs": [
    {
     "name": "stdout",
     "output_type": "stream",
     "text": [
      "exist\n"
     ]
    }
   ],
   "source": [
    "s = '600309-万华化学-指标表'\n",
    "\n",
    "if '600309' in s:\n",
    "  print('exist')\n",
    "else:\n",
    "  print('no exist')"
   ]
  },
  {
   "cell_type": "markdown",
   "metadata": {},
   "source": [
    "### 2. find / rfinde 方法\n",
    "\n",
    "* find: 查找指定值的第一次出现\n",
    "* rfind: 查找指定值的最后一次出现\n",
    "\n",
    "如果找不到该值，则 find()/rfind() 方法将返回 -1"
   ]
  },
  {
   "cell_type": "code",
   "execution_count": 8,
   "metadata": {},
   "outputs": [
    {
     "name": "stdout",
     "output_type": "stream",
     "text": [
      "-1\n"
     ]
    },
    {
     "data": {
      "text/plain": [
       "12"
      ]
     },
     "execution_count": 8,
     "metadata": {},
     "output_type": "execute_result"
    }
   ],
   "source": [
    "s = '600309-万华化学-指标表'\n",
    "\n",
    "result = s.find('指标表')\n",
    "print(result)\n",
    "\n",
    "s.rfind('指标表')\n"
   ]
  },
  {
   "cell_type": "markdown",
   "metadata": {},
   "source": [
    "### 3. index/rindex 方法\n",
    "\n",
    "> 与find 、rfind方法相同，区别是没找到时报错"
   ]
  },
  {
   "cell_type": "code",
   "execution_count": 11,
   "metadata": {},
   "outputs": [
    {
     "ename": "ValueError",
     "evalue": "substring not found",
     "output_type": "error",
     "traceback": [
      "\u001b[0;31m---------------------------------------------------------------------------\u001b[0m",
      "\u001b[0;31mValueError\u001b[0m                                Traceback (most recent call last)",
      "\u001b[0;32m<ipython-input-11-23a22a0113c3>\u001b[0m in \u001b[0;36m<module>\u001b[0;34m\u001b[0m\n\u001b[1;32m      1\u001b[0m \u001b[0ms\u001b[0m \u001b[0;34m=\u001b[0m \u001b[0;34m'600309-万华化学-指标表'\u001b[0m\u001b[0;34m\u001b[0m\u001b[0;34m\u001b[0m\u001b[0m\n\u001b[1;32m      2\u001b[0m \u001b[0;34m\u001b[0m\u001b[0m\n\u001b[0;32m----> 3\u001b[0;31m \u001b[0mresult\u001b[0m \u001b[0;34m=\u001b[0m \u001b[0ms\u001b[0m\u001b[0;34m.\u001b[0m\u001b[0mindex\u001b[0m\u001b[0;34m(\u001b[0m\u001b[0;34m'指标表1'\u001b[0m\u001b[0;34m)\u001b[0m\u001b[0;34m\u001b[0m\u001b[0;34m\u001b[0m\u001b[0m\n\u001b[0m\u001b[1;32m      4\u001b[0m \u001b[0mprint\u001b[0m\u001b[0;34m(\u001b[0m\u001b[0mresult\u001b[0m\u001b[0;34m)\u001b[0m\u001b[0;34m\u001b[0m\u001b[0;34m\u001b[0m\u001b[0m\n\u001b[1;32m      5\u001b[0m \u001b[0;34m\u001b[0m\u001b[0m\n",
      "\u001b[0;31mValueError\u001b[0m: substring not found"
     ]
    }
   ],
   "source": [
    "s = '600309-万华化学-指标表'\n",
    "\n",
    "result = s.index('指标表1')\n",
    "print(result)\n",
    "\n",
    "s.rindex('指标表')\n"
   ]
  },
  {
   "cell_type": "markdown",
   "metadata": {},
   "source": [
    "### 4. startswith 判断以X开头\n",
    "\n",
    "> str.startswith(str, beg=0,end=len(string));\n",
    "\n",
    "1. str -- 检测的字符串。\n",
    "2. strbeg -- 可选参数用于设置字符串检测的起始位置。\n",
    "3. strend -- 可选参数用于设置字符串检测的结束位置。"
   ]
  },
  {
   "cell_type": "code",
   "execution_count": 2,
   "metadata": {},
   "outputs": [
    {
     "data": {
      "text/plain": [
       "True"
      ]
     },
     "execution_count": 2,
     "metadata": {},
     "output_type": "execute_result"
    }
   ],
   "source": [
    "\"600001\".startswith('6')\n",
    "\n",
    "def format_str(s):\n",
    "  if s.startswith('6'):\n",
    "    return f'{s}.SH'\n",
    "  else:\n",
    "    return f'{s}.SZ'\n",
    "\n",
    "format_str('600002') \n",
    "format_str('000006') \n",
    "\n",
    "\"2323%\".endswith('%')"
   ]
  },
  {
   "cell_type": "markdown",
   "metadata": {},
   "source": [
    "## 拼接方法（推荐）\n"
   ]
  },
  {
   "cell_type": "code",
   "execution_count": 1,
   "metadata": {},
   "outputs": [
    {
     "name": "stdout",
     "output_type": "stream",
     "text": [
      "2323-cdsdc\n"
     ]
    }
   ],
   "source": [
    "a = \"2323\"\n",
    "\n",
    "b = \"cdsdc\"\n",
    "\n",
    "c = f'{a}-{b}'\n",
    "\n",
    "print(c)"
   ]
  },
  {
   "cell_type": "markdown",
   "metadata": {},
   "source": [
    "## list to string"
   ]
  },
  {
   "cell_type": "code",
   "execution_count": 9,
   "metadata": {},
   "outputs": [
    {
     "name": "stdout",
     "output_type": "stream",
     "text": [
      "['ddf', 'dfdf', 'dfdfs', 'sdf', 'dfs', 'df']\n"
     ]
    }
   ],
   "source": [
    "line = \"ddf,dfdf,dfdfs,sdf,dfs,df\"\n",
    "a = line.split(',')\n",
    "print(a)"
   ]
  },
  {
   "cell_type": "markdown",
   "metadata": {},
   "source": [
    "## 字符串转数字"
   ]
  },
  {
   "cell_type": "code",
   "execution_count": 5,
   "metadata": {},
   "outputs": [
    {
     "name": "stdout",
     "output_type": "stream",
     "text": [
      "4\n",
      "<class 'int'>\n",
      "123.0\n"
     ]
    }
   ],
   "source": [
    "a = '4'\n",
    "\n",
    "print(int(a))\n",
    "\n",
    "print(type(int(a)))\n",
    "\n",
    "b = '123'\n",
    "\n",
    "print(float(b))"
   ]
  },
  {
   "cell_type": "markdown",
   "metadata": {},
   "source": [
    "## 字符串替换"
   ]
  },
  {
   "cell_type": "code",
   "execution_count": 1,
   "metadata": {},
   "outputs": [
    {
     "name": "stdout",
     "output_type": "stream",
     "text": [
      "thwas was string example....wow!!! thwas was really string\n",
      "thwas was string example....wow!!! thwas is really string\n"
     ]
    }
   ],
   "source": [
    "str = \"this is string example....wow!!! this is really string\";\n",
    "print(str.replace(\"is\", \"was\"))\n",
    "# 替换不超过3次\n",
    "print(str.replace(\"is\", \"was\", 3))"
   ]
  },
  {
   "cell_type": "markdown",
   "metadata": {},
   "source": [
    "## 提取指定文字"
   ]
  },
  {
   "cell_type": "code",
   "execution_count": 3,
   "metadata": {},
   "outputs": [
    {
     "name": "stdout",
     "output_type": "stream",
     "text": [
      "https://v.douyin.com/6FGuN4g/\n"
     ]
    },
    {
     "data": {
      "text/plain": [
       "['6FGuN4g']"
      ]
     },
     "execution_count": 3,
     "metadata": {},
     "output_type": "execute_result"
    }
   ],
   "source": [
    "import re\n",
    "\n",
    "# pattern = re.compile(r'http[s]?://(?:[a-zA-Z]|[0-9]|[$-_@.&+]|[!*\\(\\),]|(?:%[0-9a-fA-F][0-9a-fA-F]))+')    # 匹配模式\n",
    "pattern = r'http[s]?://(?:[a-zA-Z]|[0-9]|[$-_@.&+]|[!*\\(\\),]|(?:%[0-9a-fA-F][0-9a-fA-F]))+'\n",
    "string = '4.12 ufb:/ 复制打开抖音，看看【田甜甜🌻的作品】每次回娘家我妈竟然这样对我，这我以后还能回去吗？# ... https://v.douyin.com/6FGuN4g/'\n",
    "url = re.findall(pattern,string)\n",
    "u= url[0]\n",
    "\n",
    "print(u)\n",
    "\n",
    "# par = re.compile(r'http[s]?://v.douyin.com/(\\w+?)/')\n",
    "par = r'http[s]?://v.douyin.com/(\\w+?)/'\n",
    "re.findall(par, u)"
   ]
  },
  {
   "cell_type": "markdown",
   "metadata": {},
   "source": [
    "## 正则字符串提取"
   ]
  },
  {
   "cell_type": "markdown",
   "metadata": {},
   "source": [
    "如果我们有一个字符串”a123b456b”,如果我们想匹配a和最后一个b之间的所有值而非a和第一个出现的b之间的值,可以用?来控制正则贪婪和非贪婪匹配的情况. 代码如下:"
   ]
  },
  {
   "cell_type": "code",
   "execution_count": 19,
   "metadata": {},
   "outputs": [
    {
     "name": "stdout",
     "output_type": "stream",
     "text": [
      "['123']\n",
      "['123b456']\n",
      "['123b456']\n"
     ]
    }
   ],
   "source": [
    "import re\n",
    "\n",
    "str = \"a123b456b\"\n",
    "\n",
    "# +？ 非贪婪\n",
    "print(re.findall(r\"a(.+?)b\", str))\n",
    "#输出['123']#?控制只匹配0或1个,所以只会输出和最近的b之间的匹配情况\n",
    "\n",
    "print(re.findall(r\"a(.+)b\", str))\n",
    "#输出['123b456']\n",
    "\n",
    "print(re.findall(r\"a(.*)b\", str))\n",
    "#输出['123b456']"
   ]
  },
  {
   "cell_type": "markdown",
   "metadata": {},
   "source": [
    "## 多行匹配提取\n",
    "\n",
    "如果你要多行匹配，那么需要加上re.S和re.M标志. 加上re.S后, .将会匹配换行符，默认.不会匹配换行符. 代码如下:"
   ]
  },
  {
   "cell_type": "code",
   "execution_count": 21,
   "metadata": {},
   "outputs": [
    {
     "data": {
      "text/plain": [
       "[('23', '34')]"
      ]
     },
     "execution_count": 21,
     "metadata": {},
     "output_type": "execute_result"
    }
   ],
   "source": [
    "str = \"a23b\\na34b\"\n",
    "\n",
    "re.findall(r\"a(\\d+)b.+a(\\d+)b\", str)\n",
    "#输出[]\n",
    "#因为不能处理str中间有\\n换行的情况\n",
    "\n",
    "re.findall(r\"a(\\d+)b.+a(\\d+)b\", str, re.S)\n",
    "#s输出[('23', '34')]"
   ]
  },
  {
   "cell_type": "markdown",
   "metadata": {},
   "source": [
    "加上re.M后,^$标志将会匹配每一行，默认^和$只会匹配第一行. 代码如下:"
   ]
  },
  {
   "cell_type": "code",
   "execution_count": 23,
   "metadata": {},
   "outputs": [
    {
     "name": "stdout",
     "output_type": "stream",
     "text": [
      "['23']\n"
     ]
    },
    {
     "data": {
      "text/plain": [
       "['23', '34']"
      ]
     },
     "execution_count": 23,
     "metadata": {},
     "output_type": "execute_result"
    }
   ],
   "source": [
    "str = \"a23b\\na34b\"\n",
    "\n",
    "print(re.findall(r\"^a(\\d+)b\", str))\n",
    "#输出['23']\n",
    "\n",
    "re.findall(r\"^a(\\d+)b\", str, re.M)\n",
    "#输出['23', '34']"
   ]
  }
 ],
 "metadata": {
  "interpreter": {
   "hash": "dbc1128b55dfe7674910d9dec9178b9135ab71c646c7080f47e59389499c8905"
  },
  "kernelspec": {
   "display_name": "Python 3.9.6 64-bit ('py39': conda)",
   "name": "python3"
  },
  "language_info": {
   "codemirror_mode": {
    "name": "ipython",
    "version": 3
   },
   "file_extension": ".py",
   "mimetype": "text/x-python",
   "name": "python",
   "nbconvert_exporter": "python",
   "pygments_lexer": "ipython3",
   "version": "3.9.6"
  },
  "widgets": {
   "application/vnd.jupyter.widget-state+json": {
    "state": {},
    "version_major": 2,
    "version_minor": 0
   }
  }
 },
 "nbformat": 4,
 "nbformat_minor": 4
}
