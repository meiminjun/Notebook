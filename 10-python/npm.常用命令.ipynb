{
 "cells": [
  {
   "cell_type": "markdown",
   "metadata": {},
   "source": [
    "## npm 常用命令\n",
    "\n",
    "[淘宝镜像官网](https://npmmirror.com/)\n",
    "\n",
    "\n",
    "\n",
    "```\n",
    "npm config list // 查看配置\n",
    "npm config set registry https://registry.npmmirror.com \n",
    "```"
   ]
  },
  {
   "cell_type": "markdown",
   "metadata": {},
   "source": [
    "## 升级yarn \n",
    "\n",
    "```bash\n",
    "yarn config list\n",
    "yarn config set npmRegistryServer https://registry.npm.taobao.org\n",
    "yarn config set registry https://registry.npmmirror.com\n",
    "\n",
    "yarn set version berry\n",
    "```\n"
   ]
  }
 ],
 "metadata": {
  "kernelspec": {
   "display_name": "Python 3.9.6 ('py39')",
   "language": "python",
   "name": "python3"
  },
  "language_info": {
   "name": "python",
   "version": "3.9.6"
  },
  "orig_nbformat": 4,
  "vscode": {
   "interpreter": {
    "hash": "dbc1128b55dfe7674910d9dec9178b9135ab71c646c7080f47e59389499c8905"
   }
  }
 },
 "nbformat": 4,
 "nbformat_minor": 2
}
