{
 "cells": [
  {
   "cell_type": "markdown",
   "metadata": {},
   "source": [
    "# Selenium 的基本使用"
   ]
  },
  {
   "cell_type": "markdown",
   "metadata": {},
   "source": [
    "**解决webdriver 与 chrome 版本不匹配的问题**\n",
    "\n",
    "1. 下载， 找到到对应的chrome 的版本driver\n",
    "   1. [淘宝地址](https://npmmirror.com/mirrors/chromedriver)\n",
    "   2. [华为地址](https://mirrors.huaweicloud.com/chromedriver/) \n",
    "2. 复制到：‎⁨/usr/local/bin\n",
    "\n",
    "爬虫三大神器工具包：\n",
    "\n",
    "``` python\n",
    "from selenium import webdriver\n",
    "from lxml import etree\n",
    "import requests\n",
    "```\n",
    "\n",
    "常见的场景：\n",
    "1. 用selenium来操作登录，获取cookie\n",
    "2. 解析cookie\n",
    "3. reque"
   ]
  },
  {
   "cell_type": "markdown",
   "metadata": {},
   "source": [
    "## 打开一个地址"
   ]
  },
  {
   "cell_type": "code",
   "execution_count": 3,
   "metadata": {},
   "outputs": [],
   "source": [
    "from selenium import webdriver\n",
    "# browser = webdriver.Chrome()\n",
    "browser = webdriver.Chrome(executable_path='/usr/local/bin/chromedriver95')\n",
    "browser.get('https://baidu.com')\n",
    "browser.close()\n"
   ]
  },
  {
   "cell_type": "markdown",
   "metadata": {},
   "source": [
    "## 如何获取element？"
   ]
  },
  {
   "cell_type": "code",
   "execution_count": 6,
   "metadata": {},
   "outputs": [
    {
     "name": "stdout",
     "output_type": "stream",
     "text": [
      "<selenium.webdriver.remote.webelement.WebElement (session=\"a6a468ca0a719bcbb16b36faa98909c6\", element=\"9648feb9-6848-4779-80c3-ba52422613a7\")>\n",
      "<selenium.webdriver.remote.webelement.WebElement (session=\"a6a468ca0a719bcbb16b36faa98909c6\", element=\"9648feb9-6848-4779-80c3-ba52422613a7\")>\n",
      "[<selenium.webdriver.remote.webelement.WebElement (session=\"a6a468ca0a719bcbb16b36faa98909c6\", element=\"9648feb9-6848-4779-80c3-ba52422613a7\")>]\n"
     ]
    }
   ],
   "source": [
    "from selenium import webdriver\n",
    "browser = webdriver.Chrome()\n",
    "browser.get('https://baidu.com')\n",
    "\n",
    "commitBtn = browser.find_element_by_id('su')\n",
    "commitBtn2 = browser.find_element_by_css_selector('#su')\n",
    "commitBtn3 = browser.find_elements_by_xpath('//*[@id=\"su\"]')\n",
    "\n",
    "print(commitBtn)\n",
    "print(commitBtn2)\n",
    "print(commitBtn3)\n",
    "\n",
    "browser.close()\n"
   ]
  },
  {
   "cell_type": "markdown",
   "metadata": {},
   "source": [
    "## 如何获取多个elements--方式一"
   ]
  },
  {
   "cell_type": "code",
   "execution_count": 2,
   "metadata": {},
   "outputs": [
    {
     "name": "stdout",
     "output_type": "stream",
     "text": [
      "['菅义伟退选 谁会成日本下任首相', '日媒:菅义伟继任者或为岸田文雄', '入学要求房产套内面积大于60平', '日本科学家藤岛昭加入上海理工', '黑龙江查寝干部学姐出面回应', '汶川地震失去右腿女孩残奥夺金']\n"
     ]
    }
   ],
   "source": [
    "from selenium import webdriver\n",
    "browser = webdriver.Chrome()\n",
    "browser.get('https://www.baidu.com/')\n",
    "\n",
    "lis2 = browser.find_elements_by_xpath(\n",
    "    '//span[@class=\"title-content-title\"]')\n",
    "\n",
    "list = [i.text for i in lis2]\n",
    "\n",
    "print(list)\n",
    "\n",
    "browser.close()\n"
   ]
  },
  {
   "cell_type": "markdown",
   "metadata": {},
   "source": [
    "## 如何获取多个elements--方式二【常用推荐方式】"
   ]
  },
  {
   "cell_type": "code",
   "execution_count": 1,
   "metadata": {},
   "outputs": [
    {
     "name": "stdout",
     "output_type": "stream",
     "text": [
      "['菅义伟退选 谁会成日本下任首相', '日媒:菅义伟继任者或为岸田文雄', '入学要求房产套内面积大于60平', '日本科学家藤岛昭加入上海理工', '黑龙江查寝干部学姐出面回应', '汶川地震失去右腿女孩残奥夺金']\n"
     ]
    }
   ],
   "source": [
    "from selenium import webdriver\n",
    "from lxml import etree\n",
    "\n",
    "browser = webdriver.Chrome()\n",
    "browser.get('https://www.baidu.com/')\n",
    "\n",
    "html = browser.page_source\n",
    "\n",
    "# 解析\n",
    "source = etree.HTML(html)\n",
    "\n",
    "list = source.xpath('//span[@class=\"title-content-title\"]/text()')\n",
    "print(list)\n",
    "browser.close()\n"
   ]
  },
  {
   "cell_type": "markdown",
   "metadata": {},
   "source": [
    "## 如何添加点击事件，输入表单"
   ]
  },
  {
   "cell_type": "code",
   "execution_count": 3,
   "metadata": {},
   "outputs": [],
   "source": [
    "from selenium import webdriver\n",
    "import time\n",
    "browser = webdriver.Chrome()\n",
    "browser.get('https://baidu.com')\n",
    "\n",
    "commitBtn2 = browser.find_element_by_css_selector('#su')\n",
    "input = browser.find_element_by_xpath('//*[@id=\"kw\"]')\n",
    "\n",
    "input.send_keys('这是一个输入内容测试')\n",
    "\n",
    "# 等待3秒\n",
    "time.sleep(3)\n",
    "\n",
    "commitBtn2.click()\n",
    "# print(commitBtn)\n",
    "# print(commitBtn3)\n",
    "\n",
    "browser.close()\n"
   ]
  },
  {
   "cell_type": "markdown",
   "metadata": {},
   "source": [
    "## 获取表格"
   ]
  },
  {
   "cell_type": "markdown",
   "metadata": {},
   "source": [
    "### 利用pandas 获取表格(微博热搜)"
   ]
  },
  {
   "cell_type": "code",
   "execution_count": 6,
   "metadata": {},
   "outputs": [
    {
     "name": "stdout",
     "output_type": "stream",
     "text": [
      "----------- 正在爬取数据 -------------\n"
     ]
    },
    {
     "data": {
      "text/html": [
       "<div>\n",
       "<style scoped>\n",
       "    .dataframe tbody tr th:only-of-type {\n",
       "        vertical-align: middle;\n",
       "    }\n",
       "\n",
       "    .dataframe tbody tr th {\n",
       "        vertical-align: top;\n",
       "    }\n",
       "\n",
       "    .dataframe thead th {\n",
       "        text-align: right;\n",
       "    }\n",
       "</style>\n",
       "<table border=\"1\" class=\"dataframe\">\n",
       "  <thead>\n",
       "    <tr style=\"text-align: right;\">\n",
       "      <th></th>\n",
       "      <th>序号</th>\n",
       "      <th>关键词</th>\n",
       "    </tr>\n",
       "  </thead>\n",
       "  <tbody>\n",
       "    <tr>\n",
       "      <th>1</th>\n",
       "      <td>1</td>\n",
       "      <td>英国宣布承认中国疫苗  3665997</td>\n",
       "    </tr>\n",
       "    <tr>\n",
       "      <th>2</th>\n",
       "      <td>2</td>\n",
       "      <td>清华贫困生每月花400却资助4名孩子  1053429</td>\n",
       "    </tr>\n",
       "    <tr>\n",
       "      <th>3</th>\n",
       "      <td>3</td>\n",
       "      <td>国台办回应网友传唱2035去台湾  943173</td>\n",
       "    </tr>\n",
       "    <tr>\n",
       "      <th>4</th>\n",
       "      <td>•</td>\n",
       "      <td>双十一必囤紫熨斗</td>\n",
       "    </tr>\n",
       "    <tr>\n",
       "      <th>5</th>\n",
       "      <td>4</td>\n",
       "      <td>马丽录节目好像来进货的  综艺 935232</td>\n",
       "    </tr>\n",
       "    <tr>\n",
       "      <th>6</th>\n",
       "      <td>5</td>\n",
       "      <td>张雪迎重现紫霞仙子wink  综艺 898067</td>\n",
       "    </tr>\n",
       "    <tr>\n",
       "      <th>7</th>\n",
       "      <td>6</td>\n",
       "      <td>女友特意请来了他一生中全部的朋友  827454</td>\n",
       "    </tr>\n",
       "    <tr>\n",
       "      <th>8</th>\n",
       "      <td>•</td>\n",
       "      <td>苏菲这波划算惨了</td>\n",
       "    </tr>\n",
       "    <tr>\n",
       "      <th>9</th>\n",
       "      <td>7</td>\n",
       "      <td>陈小纭网络文学回应任嘉伦  剧集 611337</td>\n",
       "    </tr>\n",
       "    <tr>\n",
       "      <th>10</th>\n",
       "      <td>8</td>\n",
       "      <td>小红书注册老红书商标被驳回  540560</td>\n",
       "    </tr>\n",
       "  </tbody>\n",
       "</table>\n",
       "</div>"
      ],
      "text/plain": [
       "   序号                          关键词\n",
       "1   1          英国宣布承认中国疫苗  3665997\n",
       "2   2  清华贫困生每月花400却资助4名孩子  1053429\n",
       "3   3     国台办回应网友传唱2035去台湾  943173\n",
       "4   •                     双十一必囤紫熨斗\n",
       "5   4       马丽录节目好像来进货的  综艺 935232\n",
       "6   5     张雪迎重现紫霞仙子wink  综艺 898067\n",
       "7   6     女友特意请来了他一生中全部的朋友  827454\n",
       "8   •                     苏菲这波划算惨了\n",
       "9   7      陈小纭网络文学回应任嘉伦  剧集 611337\n",
       "10  8        小红书注册老红书商标被驳回  540560"
      ]
     },
     "execution_count": 6,
     "metadata": {},
     "output_type": "execute_result"
    }
   ],
   "source": [
    "import time\n",
    "import pandas as pd\n",
    "from selenium import webdriver\n",
    "options = webdriver.ChromeOptions()\n",
    "options.add_argument('--headless')\n",
    "browser = webdriver.Chrome(executable_path='/usr/local/bin/chromedriver95', options=options)\n",
    "browser.implicitly_wait(30)\n",
    "\n",
    "def get_content():\n",
    "    print('----------- 正在爬取微博热搜数据数据 -------------')\n",
    "    url = 'https://s.weibo.com/top/summary?cate=realtimehot&sudaref=s.weibo.com&display=0&retcode=6102'\n",
    "    browser.get(url)\n",
    "    time.sleep(10)\n",
    "    html = browser.page_source\n",
    "    df = pd.read_html(html)[0][1:11][['序号', '关键词']]\n",
    "    # df = pd.read_html(\n",
    "    #     url, attrs={'id': 'pl_top_realtimehot'}, encoding='utf-8')\n",
    "    browser.close()\n",
    "    return df\n",
    "\n",
    "get_content()"
   ]
  },
  {
   "cell_type": "markdown",
   "metadata": {},
   "source": [
    "## 常见问题\n"
   ]
  },
  {
   "cell_type": "markdown",
   "metadata": {},
   "source": [
    "### 页面阻塞的解决\n",
    "\n",
    "``` python\n",
    "# ---------解决页面阻塞问题代码-----\n",
    "from selenium.webdriver.common.desired_capabilities import DesiredCapabilities\n",
    "desired_capabilities = DesiredCapabilities.CHROME\n",
    "desired_capabilities[\"pageLoadStrategy\"] = \"none\"\n",
    "# ---------解决页面阻塞问题代码-----\n",
    "```\n"
   ]
  },
  {
   "cell_type": "markdown",
   "metadata": {},
   "source": [
    "## 文献参考\n",
    "\n",
    "* [轻松搞定网络爬虫](https://kaiwu.lagou.com/course/courseInfo.htm?courseId=46)\n",
    "\n"
   ]
  }
 ],
 "metadata": {
  "interpreter": {
   "hash": "572327d4ce217dad388f18729dd163149eb848d32b5abea34e3d86de275470cb"
  },
  "kernelspec": {
   "display_name": "Python 3.9.6 64-bit ('py39': conda)",
   "name": "python3"
  },
  "language_info": {
   "codemirror_mode": {
    "name": "ipython",
    "version": 3
   },
   "file_extension": ".py",
   "mimetype": "text/x-python",
   "name": "python",
   "nbconvert_exporter": "python",
   "pygments_lexer": "ipython3",
   "version": "3.9.6"
  },
  "widgets": {
   "application/vnd.jupyter.widget-state+json": {
    "state": {},
    "version_major": 2,
    "version_minor": 0
   }
  }
 },
 "nbformat": 4,
 "nbformat_minor": 4
}
