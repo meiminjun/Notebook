{
 "cells": [
  {
   "cell_type": "markdown",
   "source": [
    "# Selenium 的基本使用"
   ],
   "metadata": {}
  },
  {
   "cell_type": "markdown",
   "source": [
    "**解决webdriver 与 chrome 版本不匹配的问题**\n",
    "\n",
    "1. 下载， 找到到对应的chrome 的版本driver\n",
    "   1. 下载地址：`http://npm.taobao.org/mirrors/chromedriver/`\n",
    "2. 复制到：‎⁨/usr/local/bin\n",
    "\n",
    "爬虫三大神器工具包：\n",
    "\n",
    "``` python\n",
    "from selenium import webdriver\n",
    "from lxml import etree\n",
    "import requests\n",
    "```\n",
    "\n",
    "常见的场景：\n",
    "1. 用selenium来操作登录，获取cookie\n",
    "2. 解析cookie\n",
    "3. reque"
   ],
   "metadata": {}
  },
  {
   "cell_type": "markdown",
   "source": [
    "## 打开一个地址"
   ],
   "metadata": {}
  },
  {
   "cell_type": "code",
   "execution_count": 4,
   "source": [
    "from selenium import webdriver\n",
    "browser = webdriver.Chrome()\n",
    "browser.get('https://baidu.com')\n",
    "browser.close()"
   ],
   "outputs": [],
   "metadata": {}
  },
  {
   "cell_type": "markdown",
   "source": [
    "## 如何获取element？"
   ],
   "metadata": {}
  },
  {
   "cell_type": "code",
   "execution_count": 6,
   "source": [
    "from selenium import webdriver\n",
    "browser = webdriver.Chrome()\n",
    "browser.get('https://baidu.com')\n",
    "\n",
    "commitBtn = browser.find_element_by_id('su')\n",
    "commitBtn2 = browser.find_element_by_css_selector('#su')\n",
    "commitBtn3 = browser.find_elements_by_xpath('//*[@id=\"su\"]')\n",
    "\n",
    "print(commitBtn)\n",
    "print(commitBtn2)\n",
    "print(commitBtn3)\n",
    "\n",
    "browser.close()\n"
   ],
   "outputs": [
    {
     "output_type": "stream",
     "name": "stdout",
     "text": [
      "<selenium.webdriver.remote.webelement.WebElement (session=\"a6a468ca0a719bcbb16b36faa98909c6\", element=\"9648feb9-6848-4779-80c3-ba52422613a7\")>\n",
      "<selenium.webdriver.remote.webelement.WebElement (session=\"a6a468ca0a719bcbb16b36faa98909c6\", element=\"9648feb9-6848-4779-80c3-ba52422613a7\")>\n",
      "[<selenium.webdriver.remote.webelement.WebElement (session=\"a6a468ca0a719bcbb16b36faa98909c6\", element=\"9648feb9-6848-4779-80c3-ba52422613a7\")>]\n"
     ]
    }
   ],
   "metadata": {}
  },
  {
   "cell_type": "markdown",
   "source": [
    "## 如何获取多个elements--方式一"
   ],
   "metadata": {}
  },
  {
   "cell_type": "code",
   "execution_count": 2,
   "source": [
    "from selenium import webdriver\n",
    "browser = webdriver.Chrome()\n",
    "browser.get('https://www.baidu.com/')\n",
    "\n",
    "lis2 = browser.find_elements_by_xpath(\n",
    "    '//span[@class=\"title-content-title\"]')\n",
    "\n",
    "list = [i.text for i in lis2]\n",
    "\n",
    "print(list)\n",
    "\n",
    "browser.close()\n"
   ],
   "outputs": [
    {
     "output_type": "stream",
     "name": "stdout",
     "text": [
      "['菅义伟退选 谁会成日本下任首相', '日媒:菅义伟继任者或为岸田文雄', '入学要求房产套内面积大于60平', '日本科学家藤岛昭加入上海理工', '黑龙江查寝干部学姐出面回应', '汶川地震失去右腿女孩残奥夺金']\n"
     ]
    }
   ],
   "metadata": {}
  },
  {
   "cell_type": "markdown",
   "source": [
    "## 如何获取多个elements--方式二【常用推荐方式】"
   ],
   "metadata": {}
  },
  {
   "cell_type": "code",
   "execution_count": 1,
   "source": [
    "from selenium import webdriver\n",
    "from lxml import etree\n",
    "\n",
    "browser = webdriver.Chrome()\n",
    "browser.get('https://www.baidu.com/')\n",
    "\n",
    "html = browser.page_source\n",
    "\n",
    "# 解析\n",
    "source = etree.HTML(html)\n",
    "\n",
    "list = source.xpath('//span[@class=\"title-content-title\"]/text()')\n",
    "print(list)\n",
    "browser.close()\n"
   ],
   "outputs": [
    {
     "output_type": "stream",
     "name": "stdout",
     "text": [
      "['菅义伟退选 谁会成日本下任首相', '日媒:菅义伟继任者或为岸田文雄', '入学要求房产套内面积大于60平', '日本科学家藤岛昭加入上海理工', '黑龙江查寝干部学姐出面回应', '汶川地震失去右腿女孩残奥夺金']\n"
     ]
    }
   ],
   "metadata": {}
  },
  {
   "cell_type": "markdown",
   "source": [
    "## 如何添加点击事件，输入表单"
   ],
   "metadata": {}
  },
  {
   "cell_type": "code",
   "execution_count": 3,
   "source": [
    "from selenium import webdriver\n",
    "import time\n",
    "browser = webdriver.Chrome()\n",
    "browser.get('https://baidu.com')\n",
    "\n",
    "commitBtn2 = browser.find_element_by_css_selector('#su')\n",
    "input = browser.find_element_by_xpath('//*[@id=\"kw\"]')\n",
    "\n",
    "input.send_keys('这是一个输入内容测试')\n",
    "\n",
    "# 等待3秒\n",
    "time.sleep(3)\n",
    "\n",
    "commitBtn2.click()\n",
    "# print(commitBtn)\n",
    "# print(commitBtn3)\n",
    "\n",
    "browser.close()\n"
   ],
   "outputs": [],
   "metadata": {}
  },
  {
   "cell_type": "markdown",
   "source": [
    "## 常见问题\n"
   ],
   "metadata": {}
  },
  {
   "cell_type": "markdown",
   "source": [
    "### 页面阻塞的解决\n",
    "\n",
    "``` python\n",
    "# ---------解决页面阻塞问题代码-----\n",
    "from selenium.webdriver.common.desired_capabilities import DesiredCapabilities\n",
    "desired_capabilities = DesiredCapabilities.CHROME\n",
    "desired_capabilities[\"pageLoadStrategy\"] = \"none\"\n",
    "# ---------解决页面阻塞问题代码-----\n",
    "```\n"
   ],
   "metadata": {}
  },
  {
   "cell_type": "markdown",
   "source": [
    "## 文献参考\n",
    "\n",
    "* [轻松搞定网络爬虫](https://kaiwu.lagou.com/course/courseInfo.htm?courseId=46)\n",
    "\n"
   ],
   "metadata": {}
  }
 ],
 "metadata": {
  "kernelspec": {
   "name": "python3",
   "display_name": "Python 3.9.6 64-bit ('py39': conda)"
  },
  "language_info": {
   "codemirror_mode": {
    "name": "ipython",
    "version": 3
   },
   "file_extension": ".py",
   "mimetype": "text/x-python",
   "name": "python",
   "nbconvert_exporter": "python",
   "pygments_lexer": "ipython3",
   "version": "3.9.6"
  },
  "widgets": {
   "application/vnd.jupyter.widget-state+json": {
    "state": {},
    "version_major": 2,
    "version_minor": 0
   }
  },
  "interpreter": {
   "hash": "572327d4ce217dad388f18729dd163149eb848d32b5abea34e3d86de275470cb"
  }
 },
 "nbformat": 4,
 "nbformat_minor": 4
}