{
 "cells": [
  {
   "cell_type": "markdown",
   "metadata": {},
   "source": [
    "# npm 常用命令\n",
    "\n",
    "[淘宝镜像官网](https://npmmirror.com/)\n",
    "\n",
    "\n",
    "\n",
    "```\n",
    "npm config list // 查看配置\n",
    "npm config set registry https://registry.npmmirror.com \n",
    "```"
   ]
  }
 ],
 "metadata": {
  "language_info": {
   "name": "python"
  },
  "orig_nbformat": 4
 },
 "nbformat": 4,
 "nbformat_minor": 2
}
