{
 "cells": [
  {
   "attachments": {},
   "cell_type": "markdown",
   "metadata": {},
   "source": [
    "# 简历"
   ]
  },
  {
   "attachments": {},
   "cell_type": "markdown",
   "metadata": {},
   "source": [
    "## 简历工具\n",
    "\n",
    "- https://resume.mdnice.com/ (推荐)\n",
    "- https://github.com/BigLiao/markCV （推荐）\n",
    "- https://resumd.t9t.io/\n",
    "- http://cv.ftqq.com/?fr=github#\n"
   ]
  }
 ],
 "metadata": {
  "kernelspec": {
   "display_name": "Python 3.9.6 ('py39')",
   "language": "python",
   "name": "python3"
  },
  "language_info": {
   "name": "python",
   "version": "3.9.6"
  },
  "orig_nbformat": 4,
  "vscode": {
   "interpreter": {
    "hash": "dbc1128b55dfe7674910d9dec9178b9135ab71c646c7080f47e59389499c8905"
   }
  }
 },
 "nbformat": 4,
 "nbformat_minor": 2
}
