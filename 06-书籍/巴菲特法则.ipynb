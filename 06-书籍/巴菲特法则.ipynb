{
 "cells": [
  {
   "cell_type": "markdown",
   "source": [
    "# 巴菲特法则读书笔记"
   ],
   "metadata": {}
  },
  {
   "cell_type": "markdown",
   "source": [
    "## 企业前景投资"
   ],
   "metadata": {}
  },
  {
   "cell_type": "markdown",
   "source": [
    "只有当企业前景具有商业价值时，其他人由于恐惧和贪欲所导致的愚笨才会给你带来收益--利用他们犯错误的机会，遵守规律，你就能收货投资的硕果\n",
    "\n",
    "* 最佳的买进机会是在市场下跌时候，而不是上涨的时候\n",
    "* 最愚蠢的想法是，以为股价在下一周就会涨"
   ],
   "metadata": {}
  },
  {
   "cell_type": "markdown",
   "source": [
    "## 什么是企业化投资\n",
    "\n",
    "> 当投资变得像经营企业一样时，那就是最明智的投资\n",
    "\n",
    "> 股票是企业所有者权益的一部分\n",
    "\n",
    "### 怎样才具有商业价值？\n",
    "\n",
    "> 具有商业价值指：“最大的预计年复合收益率和最小的风险”\n",
    "\n",
    "巴菲特的决策过程:\n",
    "\n",
    "**在`行业`中找到`预期年化收益率最高的`**\n",
    "\n",
    "![95zjAH](https://gitee.com/meiminjun/picture/raw/master/uPic/95zjAH.png)\n",
    "\n",
    "华尔街的决策过程：\n",
    "\n",
    "![FAOuOl](https://gitee.com/meiminjun/picture/raw/master/uPic/FAOuOl.png)"
   ],
   "metadata": {}
  },
  {
   "cell_type": "markdown",
   "source": [
    "## 巴菲特的收益观点\n",
    "\n",
    "* 如果一家公司的每股收益5美元，而他持有100股，那么他就赚了5*100=500美元\n",
    "* 企业选择支付500美元股息或者保留这些收益再投资，公司的潜在价值会得到提升，一段时间后公司的潜在价值会促使股价上涨\n",
    "\n",
    "![J9lsgE](https://gitee.com/meiminjun/picture/raw/master/uPic/J9lsgE.png)"
   ],
   "metadata": {}
  },
  {
   "cell_type": "markdown",
   "source": [
    "## 支付价格决定收益率\n",
    "\n",
    "* 收益率：每股净收益/公司当前股票价格*100%\n",
    "\n",
    "![N3eZcV](https://gitee.com/meiminjun/picture/raw/master/uPic/N3eZcV.png)\n",
    "![XI3PDM](https://gitee.com/meiminjun/picture/raw/master/uPic/XI3PDM.png)"
   ],
   "metadata": {}
  },
  {
   "cell_type": "markdown",
   "source": [
    "巴菲特思想的两个原理：\n",
    "\n",
    "![rMLFcP](https://gitee.com/meiminjun/picture/raw/master/uPic/rMLFcP.png)"
   ],
   "metadata": {}
  },
  {
   "cell_type": "markdown",
   "source": [
    "三个变量：\n",
    "\n",
    "* 每股年收益\n",
    "* 可预见性\n",
    "* 证券的市场价格"
   ],
   "metadata": {}
  },
  {
   "cell_type": "markdown",
   "source": [
    "## 巴菲特的工作方法\n",
    "\n",
    "![h6OSrq](https://gitee.com/meiminjun/picture/raw/master/uPic/h6OSrq.png)\n",
    "\n",
    "![WyxWmW](https://gitee.com/meiminjun/picture/raw/master/uPic/WyxWmW.png)\n",
    "\n",
    "![cIm47g](https://gitee.com/meiminjun/picture/raw/master/uPic/cIm47g.png)"
   ],
   "metadata": {}
  },
  {
   "cell_type": "markdown",
   "source": [
    "未来股价判断：\n",
    "\n",
    "第二年股价 = 当前每股收益 * 增速\n",
    "\n",
    "预期收益率= 每股收益 / 股价\n"
   ],
   "metadata": {}
  },
  {
   "cell_type": "markdown",
   "source": [
    "**价格决定一切**\n",
    "\n",
    "> 算出预期收益率后，再与其他收益率比较，最后做出决策"
   ],
   "metadata": {}
  },
  {
   "cell_type": "markdown",
   "source": [
    "## 巴菲特与格雷厄姆投资思想的区别"
   ],
   "metadata": {}
  },
  {
   "cell_type": "markdown",
   "source": [
    "格雷厄姆：一般来说市场会把诉讼请求为资产，也会把它高估为债务"
   ],
   "metadata": {}
  },
  {
   "cell_type": "markdown",
   "source": [
    "对于格雷厄姆而言，只要足够低的价格就能补偿企业经济状况的先天不足，无论它是什么行业"
   ],
   "metadata": {}
  },
  {
   "cell_type": "markdown",
   "source": [
    "巴菲特是将买卖分开，先确定要买什么？让后等待着它被出售，这个有点像守株待兔。对于巴菲特来说，买什么与以什么价格买的问题是分离的"
   ],
   "metadata": {}
  },
  {
   "cell_type": "markdown",
   "source": [
    "![Z16z2v](https://gitee.com/meiminjun/picture/raw/master/uPic/Z16z2v.png)\n",
    "![VzjPIG](https://gitee.com/meiminjun/picture/raw/master/uPic/VzjPIG.png)"
   ],
   "metadata": {}
  },
  {
   "cell_type": "markdown",
   "source": [
    "## 格雷厄姆买入的估值\n",
    "\n",
    "* 以低于营运资本价值（或当期资产净值）的价格购买一组普通股\n",
    "所谓营运资本价值是指流动资产净值（不包括设备或者其他固定资产）减去全部债务的余额\n",
    "* 以低于过去12个月收益的7倍的价格购买一组股票\n",
    "\n",
    "这两种方法只适用于买一组股票，而不是某一只股票\n",
    "\n",
    "> 格雷厄姆方式的缺点就是有可能某些股票会一直回归不到内在价值\n",
    "\n",
    "他强调，当一直股票价格达到内在价值或者被持有两三年后就应该卖掉，但是巴菲特认为尽管会有些利润，但是不少利润都会因为纳税而被侵蚀部分收益\n"
   ],
   "metadata": {}
  },
  {
   "cell_type": "markdown",
   "source": [
    "## 平庸的企业\n",
    "\n",
    "只投资消费垄断性的企业，而不是一般`商品类企业`\n",
    "\n",
    "什么是商品类企业？\n",
    "\n",
    "> **售价**是决定消费者决策的最重要因素\n",
    "\n",
    "哪些是商品类企业？\n",
    "\n",
    "* 纺织品\n",
    "* 食品原料（大米和玉米）生产企业\n",
    "* 钢铁\n",
    "* 天然气和石油\n",
    "* 木材企业\n",
    "* 造纸企业\n",
    "* 水泥企业\n",
    "* 数码产品\n",
    "\n",
    "如何鉴别商品类企业？\n",
    "\n",
    "> * 利润率低\n",
    "> * 股东权益回报率低\n",
    "> * 品牌忠诚度低\n",
    "> * 存在较多同类生产厂商\n",
    "> * 所属产业生产能力严重过剩\n",
    "> * 利润反复无常\n",
    "> * 盈利状况完全取决于管理者有效利用厂房和设备等有形资产的能力\n",
    "\n",
    "商品类企业中，低成本企业会最终胜出，原因是低成本企业在同行中具有更大的定价自由。\n",
    "\n",
    "> 成本越低，其利润率就越高\n"
   ],
   "metadata": {}
  },
  {
   "cell_type": "markdown",
   "source": [
    "## 如何鉴别优秀企业\n",
    "\n",
    "> 具有消费垄断特征"
   ],
   "metadata": {}
  },
  {
   "cell_type": "markdown",
   "source": [
    "## "
   ],
   "metadata": {}
  }
 ],
 "metadata": {
  "orig_nbformat": 4,
  "language_info": {
   "name": "python",
   "version": "3.9.6"
  },
  "kernelspec": {
   "name": "python3",
   "display_name": "Python 3.9.6 64-bit ('py39': conda)"
  },
  "interpreter": {
   "hash": "572327d4ce217dad388f18729dd163149eb848d32b5abea34e3d86de275470cb"
  }
 },
 "nbformat": 4,
 "nbformat_minor": 2
}