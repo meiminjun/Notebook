{
 "cells": [
  {
   "cell_type": "markdown",
   "source": [
    "# 巴菲特法则读书笔记"
   ],
   "metadata": {}
  },
  {
   "cell_type": "markdown",
   "source": [
    "## 企业前景投资"
   ],
   "metadata": {}
  },
  {
   "cell_type": "markdown",
   "source": [
    "只有当企业前景具有商业价值时，其他人由于恐惧和贪欲所导致的愚笨才会给你带来收益--利用他们犯错误的机会，遵守规律，你就能收货投资的硕果\n",
    "\n",
    "* 最佳的买进机会是在市场下跌时候，而不是上涨的时候\n",
    "* 最愚蠢的想法是，以为股价在下一周就会涨"
   ],
   "metadata": {}
  },
  {
   "cell_type": "markdown",
   "source": [
    "## 什么是企业化投资\n",
    "\n",
    "> 当投资变得像经营企业一样时，那就是最明智的投资\n",
    "\n",
    "> 股票是企业所有者权益的一部分\n",
    "\n",
    "### 怎样才具有商业价值？\n",
    "\n",
    "> 具有商业价值指：“最大的预计年复合收益率和最小的风险”\n",
    "\n",
    "巴菲特的决策过程:\n",
    "\n",
    "**在`行业`中找到`预期年化收益率最高的`**\n",
    "\n",
    "![95zjAH](https://gitee.com/meiminjun/picture/raw/master/uPic/95zjAH.png)\n",
    "\n",
    "华尔街的决策过程：\n",
    "\n",
    "![FAOuOl](https://gitee.com/meiminjun/picture/raw/master/uPic/FAOuOl.png)"
   ],
   "metadata": {}
  },
  {
   "cell_type": "markdown",
   "source": [
    "## 巴菲特的收益观点\n",
    "\n",
    "* 如果一家公司的每股收益5美元，而他持有100股，那么他就赚了5*100=500美元\n",
    "* 企业选择支付500美元股息或者保留这些收益再投资，公司的潜在价值会得到提升，一段时间后公司的潜在价值会促使股价上涨\n",
    "\n",
    "![J9lsgE](https://gitee.com/meiminjun/picture/raw/master/uPic/J9lsgE.png)"
   ],
   "metadata": {}
  },
  {
   "cell_type": "markdown",
   "source": [
    "## 支付价格决定收益率\n",
    "\n",
    "* 收益率：每股净收益/公司当前股票价格*100%\n",
    "\n",
    "![N3eZcV](https://gitee.com/meiminjun/picture/raw/master/uPic/N3eZcV.png)\n",
    "![XI3PDM](https://gitee.com/meiminjun/picture/raw/master/uPic/XI3PDM.png)"
   ],
   "metadata": {}
  },
  {
   "cell_type": "markdown",
   "source": [
    "巴菲特思想的两个原理：\n",
    "\n",
    "![rMLFcP](https://gitee.com/meiminjun/picture/raw/master/uPic/rMLFcP.png)"
   ],
   "metadata": {}
  },
  {
   "cell_type": "markdown",
   "source": [
    "三个变量：\n",
    "\n",
    "* 每股年收益\n",
    "* 可预见性\n",
    "* 证券的市场价格"
   ],
   "metadata": {}
  },
  {
   "cell_type": "markdown",
   "source": [
    "## 巴菲特的工作方法\n",
    "\n",
    "![h6OSrq](https://gitee.com/meiminjun/picture/raw/master/uPic/h6OSrq.png)\n",
    "\n",
    "![WyxWmW](https://gitee.com/meiminjun/picture/raw/master/uPic/WyxWmW.png)\n",
    "\n",
    "![cIm47g](https://gitee.com/meiminjun/picture/raw/master/uPic/cIm47g.png)"
   ],
   "metadata": {}
  },
  {
   "cell_type": "markdown",
   "source": [
    "未来股价判断：\n",
    "\n",
    "第二年股价 = 当前每股收益 * 增速\n",
    "\n",
    "预期收益率= 每股收益 / 股价\n"
   ],
   "metadata": {}
  },
  {
   "cell_type": "markdown",
   "source": [
    "**价格决定一切**\n",
    "\n",
    "> 算出预期收益率后，再与其他收益率比较，最后做出决策"
   ],
   "metadata": {}
  }
 ],
 "metadata": {
  "orig_nbformat": 4,
  "language_info": {
   "name": "python"
  }
 },
 "nbformat": 4,
 "nbformat_minor": 2
}