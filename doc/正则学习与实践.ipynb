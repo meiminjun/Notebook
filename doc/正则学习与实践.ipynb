{
 "cells": [
  {
   "cell_type": "markdown",
   "metadata": {},
   "source": [
    "# 正则表达式的学习"
   ]
  },
  {
   "cell_type": "markdown",
   "metadata": {},
   "source": [
    "## 参考\n",
    "\n",
    "* 李笑来的自学教程"
   ]
  },
  {
   "cell_type": "code",
   "execution_count": 102,
   "metadata": {},
   "outputs": [
    {
     "data": {
      "text/plain": [
       "[('1.【单选题】关于L1级数据研发需求，不包含哪一类', 'A、影响客户体验', 'B、涉及资金交易(如营销或短信)，资产损益等'),\n",
       " ('2.【单选题】以下不适用于“AI模型算法研发流程”的场景是？', 'A、机器学习类模型的需求研发', 'B、深度学习模型的需求研发'),\n",
       " ('3.【单选题】项目需定期检视工作进度和资源投入情况，原则上检视频度不低于（），例外情况需在立项或变更材料中说明并获得审批',\n",
       "  'A、每周一次',\n",
       "  'B、半月一次'),\n",
       " ('4.【多选题】需求变更可以由哪个角色发起：', 'A、需求提出人', 'B、需求接口人'),\n",
       " ('5.【多选题】研发基线活动”版本编译打包并移交测试”的KCP是？',\n",
       "  'A、子系统\\\\应用任务开发自测及代码评审通过',\n",
       "  'B、冒烟通过率或移测版本showcase通过率大于80'),\n",
       " ('6.【多选题】数据配置变更研发流程中，包含哪些基线活动：', 'A、需求分析与澄清', 'B、数据修改配置'),\n",
       " ('7.【多选题】满足以下定量、定性标准之一的项目，为企业级项目：',\n",
       "  'A、人力（含内部和外包）投入大于等于360人月',\n",
       "  'B、引发的单一采购合同金额大于等于500万元'),\n",
       " ('8.【多选题】以下那些是应用配置研发流程基线活动：', 'A、需求分析与澄清', 'B、SST设计与评审'),\n",
       " ('9.【多选题】发布应用配置变更研发流程基线主要解决哪些问题：',\n",
       "  'A、应用配置变更需求的设计要点缺失。',\n",
       "  'B、应用配置变更测试领域未参与，导致测试环境与生产环境不一致。'),\n",
       " ('10.【多选题】研发基线活动”子系统\\\\应用任务(SST)设计与评审”的KCP是？',\n",
       "  'A、相关设计评审通过、关键角色齐全',\n",
       "  'B、设计要点检查结果完整，结论清晰，明确'),\n",
       " ('11.【多选题】需求实现参与评审角色包括：',\n",
       "  'A、须参与需求评审的角色包含：需求提出人、需求接口人、关联开发负责人和测试负责人',\n",
       "  'B、安全团队按照SDLC要求进行安全评审'),\n",
       " ('12.【多选题】针对数据报表研发流程基线的研发活动执行规范，以下描述正确的是：',\n",
       "  'A、由需求接口人统筹相关方完成需求的分析与澄清、定义数据报表需求级别，输出需求说明。',\n",
       "  'B、需求评审要点包括但不限于：报表数据来源、统计频度、数据时效'),\n",
       " ('13.【判断题】需求发生变更时，需求变更发起人须第一时间知会开发负责人。开发负责人协助需求变更发起人识别并拉通关联IT人员参与需求评审。',\n",
       "  '正确',\n",
       "  '错误'),\n",
       " ('14.【判断题】各研发团队实际研发工作过程中，可基于研发实际情况或各团队内部管理要求增加非基线活动、减少基线活动。', '正确', '错误'),\n",
       " ('15.【判断题】新系统研发、常规需求研发过程中，均须执行“测试方案设计与评审”基线活动，输出测试方案及评审记录。', '正确', '错误'),\n",
       " ('16.【判断题】项目结项后根据项目情况和管理需要，可选开展项目后评估工作。', '正确', '错误'),\n",
       " ('17.【判断题】数据报表研发流程中，可按需求级别判断是否进行系统测试，安全和性能测试也可按评估结果进行', '正确', '错误'),\n",
       " ('18.【判断题】《平安银行IT数据研发流程基线》适用于一次性数据提取\\\\报表需求、AI模型\\\\算法研发需求、应用研发需求', '正确', '错误'),\n",
       " ('19.【判断题】需求实现评审是需求提出人主导并组织的，与需求相关干系人就需求功能、范围、关联影响、可行性、安全性、业务流程等内容的沟通、确认过程。',\n",
       "  '正确',\n",
       "  '错误'),\n",
       " ('20.【判断题】包含在常规需求、紧急需求等内的应用配置变更类需求也适用于应用配置变更研发流程基线。', '正确', '错误')]"
      ]
     },
     "execution_count": 102,
     "metadata": {},
     "output_type": "execute_result"
    }
   ],
   "source": [
    "import re\n",
    "# from bs4 import BeautifulSoup\n",
    "\n",
    "\n",
    "r = open('./Knight2.html', 'r')\n",
    "# print(r)\n",
    "# for line in r:  # 打开文件\n",
    "#     rs = line.replace('\\n', '')  # 替换换行符\n",
    "#     print(rs)  # 显示替换后的行\n",
    "# print(r)\n",
    "# print('name', r.name)\n",
    "html = r.read()\n",
    "# print(s)\n",
    "r.close()\n",
    "# html = html.replace(\"\\r\\n\", \"\")\n",
    "html = re.sub('\\s', '', html)\n",
    "# print(html)\n",
    "# pttn = 'class=\"question\">([\\d].+[【】（）()？/\\，“”、。：\\u4e00-\\u9fa5]+)'\n",
    "\n",
    "# pttn = '(?<=>)[^\\u4e00-\\u9fa5]+(?=<)'\n",
    "pttn = r'class=\"question\">([\\w\\.【】《》（）\\(\\)？\\\\，“”、。：\\u4e00-\\u9fa5]+)[/\\s\\w\"<>=\\/\\-_\\d]+([A|B|C|D|E|F|G|H|I|正确|错误][\\\\（）【】？\\w，“”\\s、。：\\u4e00-\\u9fa5]+)[!/\\s\\w\"<>=\\/\\-_\\d]+([B|错误][\\(\\)【】？\\w，“”\\s、。：\\u4e00-\\u9fa5]+)'\n",
    "\n",
    "# pttn = 'class=\"question\">([\\w\\.【】（）()？/\\，“”、。：\\u4e00-\\u9fa5]+)</div>[/\\s\\w\"<>=\\/\\-_\\d]+([A|正确][//\\(\\)【】？\\w，“”\\s、。：\\u4e00-\\u9fa5]+)[!/\\s\\w\"<>=\\/\\-_\\d]+([B|错误][\\(\\)【】？\\w，“”\\s、。：\\u4e00-\\u9fa5]+)'\n",
    "\n",
    "\n",
    "re.findall(pttn, html)\n",
    "\n",
    "\n",
    "\n",
    "# sp = BeautifulSoup(html, 'html.parser')\n",
    "# div = sp.select('#app > div > div > div.hw > div .item')\n",
    "# print(div)\n"
   ]
  },
  {
   "cell_type": "code",
   "execution_count": 2,
   "metadata": {},
   "outputs": [
    {
     "ename": "OSError",
     "evalue": "Error reading file './Knight2.html': failed to load external entity \"./Knight2.html\"",
     "output_type": "error",
     "traceback": [
      "\u001b[0;31m---------------------------------------------------------------------------\u001b[0m",
      "\u001b[0;31mOSError\u001b[0m                                   Traceback (most recent call last)",
      "\u001b[0;32m/var/folders/w6/9k4dzqlj617f06dfby_vk1pr0000gn/T/ipykernel_18599/3028685901.py\u001b[0m in \u001b[0;36m<module>\u001b[0;34m\u001b[0m\n\u001b[1;32m      1\u001b[0m \u001b[0;32mfrom\u001b[0m \u001b[0mlxml\u001b[0m \u001b[0;32mimport\u001b[0m \u001b[0metree\u001b[0m\u001b[0;34m\u001b[0m\u001b[0;34m\u001b[0m\u001b[0m\n\u001b[1;32m      2\u001b[0m \u001b[0;34m\u001b[0m\u001b[0m\n\u001b[0;32m----> 3\u001b[0;31m \u001b[0mtree\u001b[0m \u001b[0;34m=\u001b[0m \u001b[0metree\u001b[0m\u001b[0;34m.\u001b[0m\u001b[0mparse\u001b[0m\u001b[0;34m(\u001b[0m\u001b[0;34m\"./Knight2.html\"\u001b[0m\u001b[0;34m)\u001b[0m\u001b[0;34m\u001b[0m\u001b[0;34m\u001b[0m\u001b[0m\n\u001b[0m\u001b[1;32m      4\u001b[0m \u001b[0;34m\u001b[0m\u001b[0m\n\u001b[1;32m      5\u001b[0m \u001b[0mprint\u001b[0m\u001b[0;34m(\u001b[0m\u001b[0mtree\u001b[0m\u001b[0;34m)\u001b[0m\u001b[0;34m\u001b[0m\u001b[0;34m\u001b[0m\u001b[0m\n",
      "\u001b[0;32msrc/lxml/etree.pyx\u001b[0m in \u001b[0;36mlxml.etree.parse\u001b[0;34m()\u001b[0m\n",
      "\u001b[0;32msrc/lxml/parser.pxi\u001b[0m in \u001b[0;36mlxml.etree._parseDocument\u001b[0;34m()\u001b[0m\n",
      "\u001b[0;32msrc/lxml/parser.pxi\u001b[0m in \u001b[0;36mlxml.etree._parseDocumentFromURL\u001b[0;34m()\u001b[0m\n",
      "\u001b[0;32msrc/lxml/parser.pxi\u001b[0m in \u001b[0;36mlxml.etree._parseDocFromFile\u001b[0;34m()\u001b[0m\n",
      "\u001b[0;32msrc/lxml/parser.pxi\u001b[0m in \u001b[0;36mlxml.etree._BaseParser._parseDocFromFile\u001b[0;34m()\u001b[0m\n",
      "\u001b[0;32msrc/lxml/parser.pxi\u001b[0m in \u001b[0;36mlxml.etree._ParserContext._handleParseResultDoc\u001b[0;34m()\u001b[0m\n",
      "\u001b[0;32msrc/lxml/parser.pxi\u001b[0m in \u001b[0;36mlxml.etree._handleParseResult\u001b[0;34m()\u001b[0m\n",
      "\u001b[0;32msrc/lxml/parser.pxi\u001b[0m in \u001b[0;36mlxml.etree._raiseParseError\u001b[0;34m()\u001b[0m\n",
      "\u001b[0;31mOSError\u001b[0m: Error reading file './Knight2.html': failed to load external entity \"./Knight2.html\""
     ]
    }
   ],
   "source": [
    "from lxml import etree\n",
    "\n",
    "tree = etree.parse(\"./Knight2.html\")\n",
    "\n",
    "print(tree)\n"
   ]
  },
  {
   "cell_type": "code",
   "execution_count": null,
   "metadata": {},
   "outputs": [],
   "source": []
  }
 ],
 "metadata": {
  "kernelspec": {
   "display_name": "Python 3.9.6 ('py39')",
   "language": "python",
   "name": "python3"
  },
  "language_info": {
   "codemirror_mode": {
    "name": "ipython",
    "version": 3
   },
   "file_extension": ".py",
   "mimetype": "text/x-python",
   "name": "python",
   "nbconvert_exporter": "python",
   "pygments_lexer": "ipython3",
   "version": "3.9.6"
  },
  "vscode": {
   "interpreter": {
    "hash": "dbc1128b55dfe7674910d9dec9178b9135ab71c646c7080f47e59389499c8905"
   }
  },
  "widgets": {
   "application/vnd.jupyter.widget-state+json": {
    "state": {},
    "version_major": 2,
    "version_minor": 0
   }
  }
 },
 "nbformat": 4,
 "nbformat_minor": 4
}
