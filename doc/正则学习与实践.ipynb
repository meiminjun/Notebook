{
 "cells": [
  {
   "cell_type": "markdown",
   "metadata": {},
   "source": [
    "# 正则表达式的学习"
   ]
  },
  {
   "cell_type": "markdown",
   "metadata": {},
   "source": [
    "## 参考\n",
    "\n",
    "* 李笑来的自学教程"
   ]
  },
  {
   "cell_type": "code",
   "execution_count": null,
   "metadata": {},
   "outputs": [],
   "source": [
    "import re\n",
    "# from bs4 import BeautifulSoup\n",
    "\n",
    "\n",
    "r = open('./Knight2.html', 'r')\n",
    "# print(r)\n",
    "# for line in r:  # 打开文件\n",
    "#     rs = line.replace('\\n', '')  # 替换换行符\n",
    "#     print(rs)  # 显示替换后的行\n",
    "# print(r)\n",
    "# print('name', r.name)\n",
    "html = r.read()\n",
    "# print(s)\n",
    "r.close()\n",
    "# html = html.replace(\"\\r\\n\", \"\")\n",
    "html = re.sub('\\s', '', html)\n",
    "# print(html)\n",
    "# pttn = 'class=\"question\">([\\d].+[【】（）()？/\\，“”、。：\\u4e00-\\u9fa5]+)'\n",
    "\n",
    "# pttn = '(?<=>)[^\\u4e00-\\u9fa5]+(?=<)'\n",
    "pttn = r'class=\"question\">([\\w\\.【】《》（）\\(\\)？\\\\，“”、。：\\u4e00-\\u9fa5]+)[/\\s\\w\"<>=\\/\\-_\\d]+([A|B|C|D|E|F|G|H|I|正确|错误][\\\\（）【】？\\w，“”\\s、。：\\u4e00-\\u9fa5]+)[!/\\s\\w\"<>=\\/\\-_\\d]+([B|错误][\\(\\)【】？\\w，“”\\s、。：\\u4e00-\\u9fa5]+)'\n",
    "\n",
    "# pttn = 'class=\"question\">([\\w\\.【】（）()？/\\，“”、。：\\u4e00-\\u9fa5]+)</div>[/\\s\\w\"<>=\\/\\-_\\d]+([A|正确][//\\(\\)【】？\\w，“”\\s、。：\\u4e00-\\u9fa5]+)[!/\\s\\w\"<>=\\/\\-_\\d]+([B|错误][\\(\\)【】？\\w，“”\\s、。：\\u4e00-\\u9fa5]+)'\n",
    "\n",
    "\n",
    "re.findall(pttn, html)\n",
    "\n",
    "\n",
    "\n",
    "# sp = BeautifulSoup(html, 'html.parser')\n",
    "# div = sp.select('#app > div > div > div.hw > div .item')\n",
    "# print(div)\n"
   ]
  },
  {
   "cell_type": "code",
   "execution_count": null,
   "metadata": {},
   "outputs": [],
   "source": [
    "from lxml import etree\n",
    "\n",
    "tree = etree.parse(\"./Knight2.html\")\n",
    "\n",
    "print(tree)\n"
   ]
  },
  {
   "cell_type": "code",
   "execution_count": null,
   "metadata": {},
   "outputs": [],
   "source": []
  }
 ],
 "metadata": {
  "kernelspec": {
   "display_name": "Python 3.9.6 ('py39')",
   "language": "python",
   "name": "python3"
  },
  "language_info": {
   "codemirror_mode": {
    "name": "ipython",
    "version": 3
   },
   "file_extension": ".py",
   "mimetype": "text/x-python",
   "name": "python",
   "nbconvert_exporter": "python",
   "pygments_lexer": "ipython3",
   "version": "3.9.6"
  },
  "vscode": {
   "interpreter": {
    "hash": "dbc1128b55dfe7674910d9dec9178b9135ab71c646c7080f47e59389499c8905"
   }
  },
  "widgets": {
   "application/vnd.jupyter.widget-state+json": {
    "state": {},
    "version_major": 2,
    "version_minor": 0
   }
  }
 },
 "nbformat": 4,
 "nbformat_minor": 4
}
