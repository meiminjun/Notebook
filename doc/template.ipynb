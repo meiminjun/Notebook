{
 "cells": [
  {
   "cell_type": "markdown",
   "metadata": {},
   "source": [
    "# TODO\n",
    "\n",
    "## 210823-设计-设计的入门\n",
    "\n",
    "* 留白\n",
    "* 简洁\n",
    "\n",
    "简洁： 颜色不能超过3种\n",
    "\n",
    "## 210823-写作-写作的最佳结构\n",
    "\n",
    "1. 要点\n",
    "2. 案例\n",
    "3. 结论\n",
    "\n",
    "## 210823-book-财富自由之路-李笑来\n",
    "\n",
    "### 怎么快速入门\n",
    "\n",
    "**最少必要知识**: 一定要想办法在最短时间弄清楚哪些是最少必要知识\n",
    "\n",
    "举个例子，你所看到的大多数最佳的设计都遵从：\n",
    "\n",
    "* 简洁\n",
    "* 留白\n",
    "\n",
    "简洁是什么呢？尽量把视觉元素控制在3个以内（3种形状、3个颜色）\n",
    "留白是什么呢？尽量达到黄金分割比例，61.8%\n",
    "\n",
    "按照以上规则，你3分钟内就能读完，但是决定了80%的设计\n",
    "\n",
    "开车也是一样，开车中最重要的知识是什么？\n",
    "\n",
    "一个字：“慢”，一个字就能决定你至少80%以上不会出现安全事故\n",
    "\n",
    "怎么解释这个**最少必要知识**呢？很邪门的无一例外的遵从**二八定律**\n",
    "\n",
    "任何知识的80%内容，都是由那关键20%来决定的\n",
    "\n",
    "你也可以想想看，是不是这样\n",
    "\n",
    "1. 每天工作8个小时，是不是每天用在真正的工作超过了2个小时没有?\n",
    "2. 每天的工作的80%，是不是仅仅都是在那2个小时内完成的\n",
    "\n",
    "因此，大家要想快速入门一个行业、学一门新的技术，我们就一定要掌握这个简单的要领，\n",
    "用**最短的时间**去挖掘那个**必要知识**\n"
   ]
  }
 ],
 "metadata": {
  "kernelspec": {
   "display_name": "Python 3",
   "language": "python",
   "name": "python3"
  },
  "language_info": {
   "codemirror_mode": {
    "name": "ipython",
    "version": 3
   },
   "file_extension": ".py",
   "mimetype": "text/x-python",
   "name": "python",
   "nbconvert_exporter": "python",
   "pygments_lexer": "ipython3",
   "version": "3.7.11"
  },
  "widgets": {
   "application/vnd.jupyter.widget-state+json": {
    "state": {},
    "version_major": 2,
    "version_minor": 0
   }
  }
 },
 "nbformat": 4,
 "nbformat_minor": 4
}
