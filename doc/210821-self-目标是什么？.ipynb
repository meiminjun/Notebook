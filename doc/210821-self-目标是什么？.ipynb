{
    "cells": [
        {
            "cell_type": "markdown",
            "source": [
                "# 关于如何实现目标的思考？\n",
                "\n",
                "按照近一段时间看书的所学到的理论是来自“”和李笑来的\n",
                "\n",
                "\n",
                "\n",
                "几个步骤如下：\n",
                "\n",
                "1. 写下目标\n",
                "2. 思考妨碍达到目标的障碍是什么？\n",
                "3. 利用举例出来的障碍来思考中间目标\n",
                "4. 思考什么样的行动能达到中间目标？\n",
                "5. 思考达到中间目标的先后顺序\n",
                "\n",
                "\n",
                "## 目标是什么？\n",
                "\n",
                "*我的主要目标是在35岁之前实现1000万*\n"
            ],
            "metadata": {}
        },
        {
            "cell_type": "markdown",
            "source": [
                "## 实现这个目标的障碍是什么？\n",
                "\n",
                "\n"
            ],
            "metadata": {}
        },
        {
            "cell_type": "markdown",
            "source": [
                "## 实现的中间目标是什么？"
            ],
            "metadata": {}
        },
        {
            "cell_type": "markdown",
            "source": [
                "## 如何实现中间目标？"
            ],
            "metadata": {}
        },
        {
            "cell_type": "markdown",
            "source": [
                "## 思考达到中间目标的先后顺序"
            ],
            "metadata": {}
        }
    ],
    "metadata": {
        "orig_nbformat": 4,
        "language_info": {
            "name": "python"
        }
    },
    "nbformat": 4,
    "nbformat_minor": 2
}