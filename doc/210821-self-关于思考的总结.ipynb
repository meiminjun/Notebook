{
    "cells": [
        {
            "cell_type": "markdown",
            "source": [
                "# 关于财富自由的思考？\n",
                "\n",
                "财富自由有很多解释？例如，我要赚到1000万；我要赚一个亿；我吃饭不用看菜单；我想干嘛干嘛等等\n",
                "\n",
                "普遍的大众目标肯定是**赚够足够多的钱**\n",
                "\n",
                "那么哪种解释才是自己最认可的呢？\n",
                "\n",
                "以我目前的认知与和观察到的几个牛人来说主要有两个大的方向\n",
                "\n",
                "> 1、物质层面自由\n",
                "> 2、时间层面自由\n"
            ],
            "metadata": {}
        },
        {
            "cell_type": "markdown",
            "source": [
                "## 物质层面的自由\n",
                "\n",
                "这个很好理解，就是赚足够多的钱？例如2000万、1000万这么一个固定指标\n",
                "\n",
                "这个也是大多数人的普通愿望，因为可以不用上班了？想干嘛干嘛\n",
                "\n",
                "但是，为啥很奇怪的是\n",
                "\n",
                "**为什么搜狐老总张朝阳有了那么多钱，还是很烦恼呢？**\n",
                "\n",
                "这个先留着这个问题。"
            ],
            "metadata": {}
        },
        {
            "cell_type": "markdown",
            "source": [
                "## 时间层面的自由\n",
                "\n",
                "按照`李笑来`老师在他的书中`财富自由之路`中所讲的：`自由`定义是，**对于时间的`自主`**\n",
                "\n",
                "> 所谓财务自由是指，某个人再也不用生活而出售自己的时间\n",
                "\n",
                "也就是说，你今天赚的钱，其实是使用你自己的时间换取来的\n",
                "\n",
                "书中关于个人的商业模式的说法，还是让我茅塞顿开的：\n",
                "\n",
                "人的商业模式有几种？\n",
                "\n",
                "* 零售模式：一个时间只出售一次，例如：工薪族\n",
                "* 印刷模式：同一份时间可以买多次，例如：作家写书\n",
                "* 投资模式：购买他人的时间，再卖出去，例如：投资\n",
                "\n"
            ],
            "metadata": {}
        }
    ],
    "metadata": {
        "orig_nbformat": 4,
        "language_info": {
            "name": "python",
            "version": "3.8.11",
            "mimetype": "text/x-python",
            "codemirror_mode": {
                "name": "ipython",
                "version": 3
            },
            "pygments_lexer": "ipython3",
            "nbconvert_exporter": "python",
            "file_extension": ".py"
        },
        "kernelspec": {
            "name": "python3",
            "display_name": "Python 3.8.11 64-bit ('base': conda)"
        },
        "interpreter": {
            "hash": "e134e05457d34029b6460cd73bbf1ed73f339b5b6d98c95be70b69eba114fe95"
        }
    },
    "nbformat": 4,
    "nbformat_minor": 2
}