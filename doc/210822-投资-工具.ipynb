{
    "cells": [
        {
            "cell_type": "markdown",
            "source": [
                "# 投资工具\n",
                "\n",
                "## 股票\n",
                "\n",
                "* [股息率查询](https://www.jisilu.cn/data/stock/dividend_rate/#cn)\n"
            ],
            "metadata": {}
        }
    ],
    "metadata": {
        "orig_nbformat": 4,
        "language_info": {
            "name": "python"
        }
    },
    "nbformat": 4,
    "nbformat_minor": 2
}