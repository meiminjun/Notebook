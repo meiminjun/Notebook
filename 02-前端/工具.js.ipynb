{
 "cells": [
  {
   "attachments": {},
   "cell_type": "markdown",
   "metadata": {},
   "source": [
    "# ipynb 安装js运行内核步骤\n",
    "\n",
    "\n",
    "```bash\n",
    "npm i -g ijavascript\n",
    "cd /Users/apple/.nvm/versions/node/v16.9.1/lib/node_modules/ijavascript/node_modules/zeromq\n",
    "npm run build:libzmq\n",
    "ijsinstall --spec-path=full\n",
    "```"
   ]
  },
  {
   "cell_type": "code",
   "execution_count": 2,
   "metadata": {},
   "outputs": [
    {
     "name": "stdout",
     "output_type": "stream",
     "text": [
      "1\n"
     ]
    }
   ],
   "source": [
    "var a = 1\n",
    "console.log(a)"
   ]
  }
 ],
 "metadata": {
  "kernelspec": {
   "display_name": "JavaScript (Node.js)",
   "language": "javascript",
   "name": "javascript"
  },
  "language_info": {
   "file_extension": ".js",
   "mimetype": "application/javascript",
   "name": "javascript",
   "version": "16.9.1"
  },
  "orig_nbformat": 4
 },
 "nbformat": 4,
 "nbformat_minor": 2
}
