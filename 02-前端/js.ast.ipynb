{
 "cells": [
  {
   "attachments": {},
   "cell_type": "markdown",
   "metadata": {},
   "source": [
    "# 什么是抽象语法树？（**AST**）\n",
    "\n",
    "\n",
    "完整参考：[**https://juejin.im/post/5bfc21d2e51d4544313df666**](https://juejin.im/post/5bfc21d2e51d4544313df666)\n",
    "\n",
    "场景：**js**转译、**babel**、**eslint**、代码压缩、代码格式化\n",
    "\n",
    "编译器通过词法分析（扫描scanner）、语法分析生成抽象语法树\n",
    "\n",
    "1. 词法分析，也叫做扫描过程。它读取我们的代码，然后把它们按照预定的规则合并成一个个的标识tokens。同时，它会移除空白符，注释，等。最后，整个代码将被分割进一个tokens列表（或者说一维数组）\n",
    "\n",
    "当词法分析源代码的时候，它会一个一个字母地读取代码，所以很形象地称之为扫描-scans；当它遇到空格，操作符，或者特殊符号的时候，它会认为一个话已经完成了\n",
    "\n",
    "2. 语法分析，也解析器。它会将词法分析出来的数组转化成树形的表达形式。同时，验证语法，语法如果有错的话，抛出语法错误"
   ]
  }
 ],
 "metadata": {
  "kernelspec": {
   "display_name": "Python 3.9.6 ('py39')",
   "language": "python",
   "name": "python3"
  },
  "language_info": {
   "name": "python",
   "version": "3.9.6"
  },
  "orig_nbformat": 4,
  "vscode": {
   "interpreter": {
    "hash": "dbc1128b55dfe7674910d9dec9178b9135ab71c646c7080f47e59389499c8905"
   }
  }
 },
 "nbformat": 4,
 "nbformat_minor": 2
}
