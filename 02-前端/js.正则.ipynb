{
 "cells": [
  {
   "attachments": {},
   "cell_type": "markdown",
   "metadata": {},
   "source": [
    "# 正则表达式学习"
   ]
  },
  {
   "attachments": {},
   "cell_type": "markdown",
   "metadata": {},
   "source": [
    "## 最小2、最大95字符的mac地址校验"
   ]
  },
  {
   "cell_type": "code",
   "execution_count": 54,
   "metadata": {},
   "outputs": [
    {
     "name": "stdout",
     "output_type": "stream",
     "text": [
      "true\n"
     ]
    }
   ],
   "source": [
    "var a =\n",
    "  \"B2-D2-D3-23-D2-D3-23-B2-D2-D3-23-D2-D3-23-B2-D2-D3-23-D2-D3-23-B2-D2-D3-23-D2-D3-23-B2-D2-D2-DD\";\n",
    "attr = /(([A-Za-z0-9]{2}-[A-Za-z0-9]{2})+){1,15}(-[A-Za-z0-9]{2})$/;\n",
    "console.log(attr.test(a));\n"
   ]
  },
  {
   "cell_type": "code",
   "execution_count": 38,
   "metadata": {},
   "outputs": [
    {
     "name": "stdout",
     "output_type": "stream",
     "text": [
      "B2-D2-D3-23-D2-D3-23-B2-D2-D3-23-D2-D3-23-B2-D2-D3-23-D2-D3-23-B2-D2-D3-23-D2-D3-23-B2-D2-D2-D3\n",
      "95\n"
     ]
    }
   ],
   "source": [
    "var a = \"B2-D2-D3-23-D2-D3-23-\";\n",
    "a+= a\n",
    "a+= a\n",
    "a += \"B2-D2-D2-D3\";\n",
    "console.log(a)\n",
    "console.log(a.length)"
   ]
  }
 ],
 "metadata": {
  "kernelspec": {
   "display_name": "JavaScript (Node.js)",
   "language": "javascript",
   "name": "javascript"
  },
  "language_info": {
   "file_extension": ".js",
   "mimetype": "application/javascript",
   "name": "javascript",
   "version": "16.9.1"
  },
  "orig_nbformat": 4
 },
 "nbformat": 4,
 "nbformat_minor": 2
}
