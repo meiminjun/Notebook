{
 "cells": [
  {
   "cell_type": "markdown",
   "metadata": {},
   "source": [
    "## 东方财富相关\n",
    "\n",
    "### 同行股票比较\n",
    "\n",
    "* http://emweb.securities.eastmoney.com/PC_HSF10/IndustryAnalysis/Index?type=web&code=SH605009\n",
    "\n",
    "![bJCzAr](https://gitee.com/meiminjun/picture/raw/master/uPic/bJCzAr.png)\n",
    "\n",
    "\n",
    "### 同行业个股排名\n",
    "\n",
    "* http://emweb.securities.eastmoney.com/PC_HSF10/StockRelationship/Index?type=web&code=SH605009#\n",
    "\n",
    "![NWRGOU](https://gitee.com/meiminjun/picture/raw/master/uPic/NWRGOU.png)\n",
    "\n",
    "\n"
   ]
  }
 ],
 "metadata": {
  "interpreter": {
   "hash": "dbc1128b55dfe7674910d9dec9178b9135ab71c646c7080f47e59389499c8905"
  },
  "kernelspec": {
   "display_name": "Python 3.9.6 64-bit ('py39': conda)",
   "name": "python3"
  },
  "language_info": {
   "codemirror_mode": {
    "name": "ipython",
    "version": 3
   },
   "file_extension": ".py",
   "mimetype": "text/x-python",
   "name": "python",
   "nbconvert_exporter": "python",
   "pygments_lexer": "ipython3",
   "version": "3.9.6"
  },
  "widgets": {
   "application/vnd.jupyter.widget-state+json": {
    "state": {},
    "version_major": 2,
    "version_minor": 0
   }
  }
 },
 "nbformat": 4,
 "nbformat_minor": 4
}
