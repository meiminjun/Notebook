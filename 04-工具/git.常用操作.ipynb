{
 "cells": [
  {
   "attachments": {},
   "cell_type": "markdown",
   "metadata": {},
   "source": [
    "# git 常用操作"
   ]
  },
  {
   "attachments": {},
   "cell_type": "markdown",
   "metadata": {},
   "source": [
    "![git](./git.png)"
   ]
  },
  {
   "attachments": {},
   "cell_type": "markdown",
   "metadata": {},
   "source": [
    "## 常用命令\n",
    "\n",
    "\n",
    "``` bash\n",
    "\n",
    "回滚到合并之前\n",
    "git reset --merge. 或者 git merge --abort\n",
    "\n",
    "查看远程地址\n",
    "git remote -v\n",
    "\n",
    "查看远程\n",
    "git remote show\n",
    "```"
   ]
  },
  {
   "attachments": {},
   "cell_type": "markdown",
   "metadata": {},
   "source": [
    "## 同时提交两个远程库\n",
    "\n",
    "``` bash\n",
    "[remote \"all\"]\n",
    "\turl = git@github.com:meiminjun/Notebook.git\n",
    "\turl = git@gitee.com:meiminjun/Notebook.git\n",
    "\ttagopt = --no-tags\n",
    "```"
   ]
  }
 ],
 "metadata": {
  "kernelspec": {
   "display_name": "Python 3.9.6 ('py39')",
   "language": "python",
   "name": "python3"
  },
  "language_info": {
   "name": "python",
   "version": "3.9.6"
  },
  "orig_nbformat": 4,
  "vscode": {
   "interpreter": {
    "hash": "dbc1128b55dfe7674910d9dec9178b9135ab71c646c7080f47e59389499c8905"
   }
  }
 },
 "nbformat": 4,
 "nbformat_minor": 2
}
