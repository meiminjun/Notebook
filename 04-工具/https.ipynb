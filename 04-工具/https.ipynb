{
 "cells": [
  {
   "cell_type": "markdown",
   "metadata": {},
   "source": [
    "# https 相关知识"
   ]
  },
  {
   "cell_type": "markdown",
   "metadata": {},
   "source": [
    "## 证书生成"
   ]
  },
  {
   "cell_type": "markdown",
   "metadata": {},
   "source": [
    "### 一、下载mkcert\n",
    "\n",
    "mkcert 是一个用 GO 写的零配置专门用来本地环境 https 证书生成的工具。\n",
    "\n",
    "> brew install mkcert\n",
    "\n",
    "### 二、本地安装CA\n",
    "\n",
    "```bash\n",
    "mkcert -install\n",
    "\n",
    "mkcert localhost 或者 你的域名\n",
    "\n",
    "```\n",
    "\n",
    "> **这里要改下后缀名**\n",
    "\n",
    "### 配置webpack\n",
    "\n",
    "```bash\n",
    "module.exports = {\n",
    "  devServer: {\n",
    "    https: true,\n",
    "    key: fs.readFileSync('/path/to/server.key'),\n",
    "    cert: fs.readFileSync('/path/to/server.crt')\n",
    "  }\n",
    "};\n",
    "```"
   ]
  },
  {
   "cell_type": "markdown",
   "metadata": {},
   "source": []
  }
 ],
 "metadata": {
  "kernelspec": {
   "display_name": "Python 3",
   "language": "python",
   "name": "python3"
  },
  "language_info": {
   "codemirror_mode": {
    "name": "ipython",
    "version": 3
   },
   "file_extension": ".py",
   "mimetype": "text/x-python",
   "name": "python",
   "nbconvert_exporter": "python",
   "pygments_lexer": "ipython3",
   "version": "3.7.11"
  },
  "widgets": {
   "application/vnd.jupyter.widget-state+json": {
    "state": {},
    "version_major": 2,
    "version_minor": 0
   }
  }
 },
 "nbformat": 4,
 "nbformat_minor": 4
}
