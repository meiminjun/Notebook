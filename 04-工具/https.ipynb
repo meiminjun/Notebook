{
 "cells": [
  {
   "cell_type": "markdown",
   "source": [
    "# https 相关知识"
   ],
   "metadata": {}
  },
  {
   "cell_type": "markdown",
   "source": [
    "## 证书生成"
   ],
   "metadata": {}
  },
  {
   "cell_type": "markdown",
   "source": [
    "### 一、下载mkcert\n",
    "\n",
    "mkcert 是一个用 GO 写的零配置专门用来本地环境 https 证书生成的工具。\n",
    "\n",
    "mac 环境安装：\n",
    "\n",
    "> brew install mkcert\n",
    "\n",
    "cenos 环境安装：\n",
    "\n",
    "```bash\n",
    "> sudo yum install nss-tools\n",
    "> wget -O mkcert https://github.com/FiloSottile/mkcert/releases/download/v1.4.1/mkcert-v1.4.1-linux-amd64\n",
    "```\n",
    "\n",
    "下载文件后，使文件可执行并将二进制文件放在/usr/loa/bin下：\n",
    "\n",
    "```bash\n",
    "chmod +x  mkcert\n",
    "sudo mv mkcert /usr/local/bin\n",
    "```\n",
    "\n",
    "### 二、本地安装CA\n",
    "\n",
    "```bash\n",
    "mkcert -install\n",
    "\n",
    "mkcert localhost 或者 你的域名\n",
    "\n",
    "```\n",
    "\n",
    "> **这里要改下后缀名**\n",
    "\n",
    "### 配置webpack\n",
    "\n",
    "```bash\n",
    "module.exports = {\n",
    "  devServer: {\n",
    "    https: true,\n",
    "    key: fs.readFileSync('/path/to/server.key'),\n",
    "    cert: fs.readFileSync('/path/to/server.crt')\n",
    "  }\n",
    "};\n",
    "```"
   ],
   "metadata": {}
  },
  {
   "cell_type": "markdown",
   "source": [],
   "metadata": {}
  }
 ],
 "metadata": {
  "orig_nbformat": 4,
  "language_info": {
   "name": "python"
  }
 },
 "nbformat": 4,
 "nbformat_minor": 2
}