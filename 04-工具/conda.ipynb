{
 "cells": [
  {
   "cell_type": "markdown",
   "source": [
    "# conda 常用操作"
   ],
   "metadata": {}
  },
  {
   "cell_type": "markdown",
   "source": [
    "## 查看有哪些包\n",
    "\n",
    "```bash\n",
    "conda list\n",
    "```"
   ],
   "metadata": {}
  },
  {
   "cell_type": "markdown",
   "source": [
    "## 查看当前存在哪些虚拟环境\n",
    "\n",
    "```bash\n",
    "conda env list \n",
    "conda info -e\n",
    "```"
   ],
   "metadata": {}
  },
  {
   "cell_type": "markdown",
   "source": [
    "## 检查更新当前conda\n",
    "\n",
    "```bash\n",
    "conda update conda\n",
    "```"
   ],
   "metadata": {}
  },
  {
   "cell_type": "markdown",
   "source": [
    "## Python创建虚拟环境\n",
    "\n",
    "```bash\n",
    "conda create -n your_env_name python=x.x\n",
    "```"
   ],
   "metadata": {}
  },
  {
   "cell_type": "markdown",
   "source": [
    "## 激活或者切换虚拟环境\n",
    "\n",
    "```bash\n",
    "Linux:  source activate your_env_name\n",
    "Windows: activate your_env_name\n",
    "```"
   ],
   "metadata": {}
  },
  {
   "cell_type": "markdown",
   "source": [
    "## 对虚拟环境中安装额外的包\n",
    "\n",
    "```bash\n",
    "conda install -n your_env_name [package]\n",
    "```"
   ],
   "metadata": {}
  },
  {
   "cell_type": "markdown",
   "source": [
    "## 关闭当前虚拟环境\n",
    "\n",
    "```bash\n",
    "deactivate env_name\n",
    "```"
   ],
   "metadata": {}
  },
  {
   "cell_type": "markdown",
   "source": [
    "## 删除虚拟环境\n",
    "\n",
    "```bash\n",
    "conda remove -n your_env_name --all\n",
    "```"
   ],
   "metadata": {}
  },
  {
   "cell_type": "markdown",
   "source": [
    "## 删除环境钟的某个包\n",
    "\n",
    "```bash\n",
    "conda remove --name $your_env_name  $package_name \n",
    "```"
   ],
   "metadata": {}
  },
  {
   "cell_type": "markdown",
   "source": [
    "## 查看镜像\n",
    "\n",
    "```bash\n",
    "conda config --show-sources\n",
    "```"
   ],
   "metadata": {}
  },
  {
   "cell_type": "markdown",
   "source": [
    "## 添加镜像\n",
    "\n",
    "```bash\n",
    "conda config --add channels https://mirrors.tuna.tsinghua.edu.cn/anaconda/pkgs/free/\n",
    "conda config --add channels https://mirrors.tuna.tsinghua.edu.cn/anaconda/pkgs/main/\n",
    "conda config --set show_channel_urls yes\n",
    "\n",
    "```\n",
    "\n",
    "或者\n",
    "\n",
    "``` bash\n",
    "vim ~/.condarc\n",
    "\n",
    "channels:\n",
    "\n",
    "  - https://mirrors.ustc.edu.cn/anaconda/pkgs/main/\n",
    "\n",
    "  - https://mirrors.ustc.edu.cn/anaconda/cloud/conda-forge/\n",
    "\n",
    "  - https://mirrors.tuna.tsinghua.edu.cn/anaconda/pkgs/free/\n",
    "\n",
    "  - defaults\n",
    "\n",
    "show_channel_urls: true\n",
    "```"
   ],
   "metadata": {}
  },
  {
   "cell_type": "markdown",
   "source": [
    "## 国内的几个镜像\n",
    "\n",
    "``` bash\n",
    "# 添加清华的源\n",
    "conda config --add channels https://mirrors.tuna.tsinghua.edu.cn/anaconda/pkgs/free/\n",
    "\n",
    "\n",
    "# 中科大镜像源\n",
    "conda config --add channels https://mirrors.ustc.edu.cn/anaconda/pkgs/main/\n",
    "conda config --add channels https://mirrors.ustc.edu.cn/anaconda/pkgs/free/\n",
    "conda config --add channels https://mirrors.ustc.edu.cn/anaconda/cloud/conda-forge/\n",
    "conda config --add channels https://mirrors.ustc.edu.cn/anaconda/cloud/msys2/\n",
    "conda config --add channels https://mirrors.ustc.edu.cn/anaconda/cloud/bioconda/\n",
    "conda config --add channels https://mirrors.ustc.edu.cn/anaconda/cloud/menpo/\n",
    "conda config --add channels https://mirrors.ustc.edu.cn/anaconda/cloud/\n",
    "\n",
    "# 阿里镜像源\n",
    "conda config --add channels https://mirrors.aliyun.com/pypi/simple/\n",
    "\n",
    "# 豆瓣的python的源\n",
    "conda config --add channels https://pypi.douban.com/simple/\n",
    "\n",
    "\n",
    "# 显示检索路径，每次安装包时会将包源路径显示出来\n",
    "conda config --set show_channel_urls yes\n",
    "\n",
    "conda config --set always_yes True\n",
    "\n",
    "# 显示所有镜像通道路径命令\n",
    "conda config --show channels\n",
    "\n",
    "\n",
    "```"
   ],
   "metadata": {}
  },
  {
   "cell_type": "markdown",
   "source": [
    "## 恢复默认镜像\n",
    "\n",
    "```bash\n",
    "conda config --remove-key channels\n",
    "```"
   ],
   "metadata": {}
  },
  {
   "cell_type": "markdown",
   "source": [
    "## 清除索引缓存\n",
    "\n",
    "```bash\n",
    "conda clean -i\n",
    "```"
   ],
   "metadata": {}
  }
 ],
 "metadata": {
  "orig_nbformat": 4,
  "language_info": {
   "name": "python",
   "version": "3.7.11"
  },
  "kernelspec": {
   "name": "python3",
   "display_name": "Python 3.7.11 64-bit"
  },
  "interpreter": {
   "hash": "89b192cb2e959f061d689d569092cf2f6e11df2c5ee3dcc5c5bb38287fa1bd9a"
  }
 },
 "nbformat": 4,
 "nbformat_minor": 2
}