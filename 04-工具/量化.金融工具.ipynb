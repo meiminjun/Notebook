{
 "cells": [
  {
   "cell_type": "markdown",
   "metadata": {},
   "source": [
    "# 金融工具"
   ]
  },
  {
   "cell_type": "markdown",
   "metadata": {},
   "source": [
    "## 引入库文件"
   ]
  },
  {
   "cell_type": "code",
   "execution_count": 2,
   "metadata": {},
   "outputs": [],
   "source": [
    "import numpy_financial as npf"
   ]
  },
  {
   "cell_type": "markdown",
   "metadata": {},
   "source": [
    "## fv函数\n",
    "\n",
    "**计算未来价值**\n",
    "\n",
    "```python\n",
    "def fv(rate, nper, pmt, pv, when='end'):\n",
    "参数：\n",
    "rate：存款/贷款每期的利率\n",
    "nper：存款/贷款期数\n",
    "pmt：存款/贷款每期支付的金额\n",
    "pv：当前的存款/贷款金额\n",
    "```\n",
    "\n",
    "> 小明地觉去银行存款，假设年利率是3%，存款为1000，然后每个季度都会存10元，那么五年后能拿到多少钱呢？"
   ]
  },
  {
   "cell_type": "code",
   "execution_count": 9,
   "metadata": {},
   "outputs": [
    {
     "name": "stdout",
     "output_type": "stream",
     "text": [
      "1376.0963320407982\n"
     ]
    }
   ],
   "source": [
    "\n",
    "\"\"\"\n",
    "年利率是百分之3，那么每个季度显然就是0.03 / 4\n",
    "每个季度存10元，存五年，那么期数显然是5 * 4期\n",
    "因此：\n",
    "每个季度的利率：  rate = 0.3 / 4 \n",
    "总期数：        nper = 5 * 4\n",
    "每期存的金额：   pmt = -10\n",
    "当前金额：      pv = -1000\n",
    "\n",
    "pmt和pv为什么是负的，可以想象一下存款，相当于是给别人钱，所以是负的，取出来的时候，别人给你，会是正的\n",
    "\"\"\"\n",
    "result = npf.fv(0.03 / 4, 5 * 4, -10, -1000)\n",
    "print(result)\n"
   ]
  },
  {
   "cell_type": "markdown",
   "metadata": {},
   "source": [
    "## pv函数\n",
    "\n",
    "**用于根据未来计算现在的价值**\n",
    "\n",
    "> pv函数和fv正好是相反的\n",
    "\n",
    "```bash\n",
    "def pv(rate, nper, pmt, fv=0, when='end')\n",
    "\n",
    "rate：存款/贷款每期的利率\n",
    "nper：存款/贷款期数\n",
    "pmt：存款/贷款每期支付的金额\n",
    "fv：未来的存款/贷款金额\n",
    "```\n",
    "\n",
    "> 小明去银行去钱，假设年利率是3%，然后每个季度都会存10元，如果五年后拿到1376.0963320407982，那么她现在要存多少钱呢？"
   ]
  },
  {
   "cell_type": "code",
   "execution_count": 3,
   "metadata": {},
   "outputs": [
    {
     "name": "stdout",
     "output_type": "stream",
     "text": [
      "-1000.0\n"
     ]
    }
   ],
   "source": [
    "result = npf.pv(0.03 / 4, 5 * 4, -10, 1376.0963320407982)\n",
    "print(result)"
   ]
  },
  {
   "cell_type": "markdown",
   "metadata": {},
   "source": [
    "## npv函数\n",
    "\n",
    "**npv（net present value）定义为按照折现率计算的净现金流之和。**\n",
    "\n",
    "> npv 大于0 可投资\n",
    "\n",
    "```bash\n",
    "def npv(rate, values):\n",
    "rate:存款/贷款每期的利率\n",
    "values：现金\n",
    "```\n",
    "\n",
    "> 小明投资100， 收益分别是39,59,55,20，折现率为28.1%，则净现值为：\n"
   ]
  },
  {
   "cell_type": "code",
   "execution_count": 4,
   "metadata": {},
   "outputs": [
    {
     "name": "stdout",
     "output_type": "stream",
     "text": [
      "-0.00847859163845488\n"
     ]
    }
   ],
   "source": [
    "result = npf.npv(0.281, [-100, 39, 59, 55, 20])\n",
    "print(result)"
   ]
  },
  {
   "cell_type": "markdown",
   "metadata": {},
   "source": [
    "## pmt函数\n",
    "\n",
    "**根据本金和利率计算出每期需要支付的金额**\n",
    "\n",
    "```bash\n",
    "def pmt(rate, nper, pv, fv=0, when='end')\n",
    "\n",
    "rate：存款/贷款每期的利率\n",
    "nper：存款/贷款期数\n",
    "pv：存款/贷款金额\n",
    "```\n",
    "\n",
    "> 小明要买房，房贷20万，准备15年还清，年利率为7.5%，则每个月需要换多少钱"
   ]
  },
  {
   "cell_type": "code",
   "execution_count": 5,
   "metadata": {},
   "outputs": [
    {
     "name": "stdout",
     "output_type": "stream",
     "text": [
      "-1854.0247200054619\n"
     ]
    }
   ],
   "source": [
    "\"\"\"\n",
    "rate：0.075 / 12\n",
    "nper：15 * 12\n",
    "pv：这里是贷了200000，所以钱是到自己兜里了，所以是正的\n",
    "\"\"\"\n",
    "result = npf.pmt(0.051 / 12, 15 * 12, 200000)\n",
    "print(result)\n"
   ]
  },
  {
   "cell_type": "markdown",
   "metadata": {},
   "source": [
    "## rate函数\n",
    "\n",
    "**计算年利率**\n",
    "\n",
    "```bash\n",
    "def rate(nper, pmt, pv, fv, when='end', guess=None, tol=None, maxiter=100):\n",
    "nper：期数\n",
    "pmt：每期的存款/贷款金额\n",
    "pv：present value\n",
    "fv：future value\n",
    "```\n",
    "\n",
    "> 小明存了1000元，然后每个季度存款10元，存了5年，五年后拿到了1376.0963320407982，那么年利率是多少呢？"
   ]
  },
  {
   "cell_type": "code",
   "execution_count": 6,
   "metadata": {},
   "outputs": [
    {
     "name": "stdout",
     "output_type": "stream",
     "text": [
      "0.030000000000003947\n"
     ]
    }
   ],
   "source": [
    "result = npf.rate(5 * 4, -10, -1000, 1376.0963320407982)\n",
    "print(result * 4)\n"
   ]
  },
  {
   "cell_type": "markdown",
   "metadata": {},
   "source": [
    "## irr函数\n",
    "\n",
    "**计算内部收益率**\n",
    "\n",
    "一个人投资100，然后按照固定的时间间隔进行取款，39,59,55,20\n",
    "由于是阶段性区块，收益率不是做简单的平均。而是用以下的公式计算\n",
    "-100 + 39/(1+r) + 59/(1+r)^2 + 55/(1+r)^3 + 20/(1+r)^4 = 0\n"
   ]
  },
  {
   "cell_type": "code",
   "execution_count": 7,
   "metadata": {},
   "outputs": [
    {
     "name": "stdout",
     "output_type": "stream",
     "text": [
      "0.28094842115996066\n"
     ]
    }
   ],
   "source": [
    "result = npf.irr([-100, 39, 59, 55, 20])\n",
    "print(result)\n"
   ]
  },
  {
   "cell_type": "markdown",
   "metadata": {},
   "source": [
    "## nper函数\n",
    "\n",
    "**计算出需要付款多少期**\n",
    "\n",
    "```bash\n",
    "def nper(rate, pmt, pv, fv=0, when='end')\n",
    "rate：存款/贷款每期的利率\n",
    "pmt：存款/贷款每期的金额\n",
    "pv：存款/贷款金额\n",
    "```\n",
    "\n",
    "> 小明房贷20万，年利率为7.5%，每个月还2000，则需要换多少期"
   ]
  },
  {
   "cell_type": "code",
   "execution_count": 8,
   "metadata": {},
   "outputs": [
    {
     "name": "stdout",
     "output_type": "stream",
     "text": [
      "157.42258584992115\n"
     ]
    }
   ],
   "source": [
    "\n",
    "\"\"\"\n",
    "rate：0.075 / 12\n",
    "pmt：每个月支出两千，所以是负的，-200\n",
    "pv：这里是贷了200000，所以钱是到自己兜里了，所以是正的\n",
    "\"\"\"\n",
    "\n",
    "result = npf.nper(0.075 / 12, -2000, 200000)\n",
    "print(result)  # 157.42258584992115\n",
    "# 说明要还157.42258584992115期\n"
   ]
  }
 ],
 "metadata": {
  "interpreter": {
   "hash": "572327d4ce217dad388f18729dd163149eb848d32b5abea34e3d86de275470cb"
  },
  "kernelspec": {
   "display_name": "Python 3",
   "language": "python",
   "name": "python3"
  },
  "language_info": {
   "codemirror_mode": {
    "name": "ipython",
    "version": 3
   },
   "file_extension": ".py",
   "mimetype": "text/x-python",
   "name": "python",
   "nbconvert_exporter": "python",
   "pygments_lexer": "ipython3",
   "version": "3.7.11"
  },
  "widgets": {
   "application/vnd.jupyter.widget-state+json": {
    "state": {},
    "version_major": 2,
    "version_minor": 0
   }
  }
 },
 "nbformat": 4,
 "nbformat_minor": 4
}
