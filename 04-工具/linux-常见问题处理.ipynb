{
 "cells": [
  {
   "cell_type": "markdown",
   "source": [
    "# linux 常见问题处理"
   ],
   "metadata": {}
  },
  {
   "cell_type": "markdown",
   "source": [
    "## node 相关\n",
    "\n",
    "### 一、nvm 下载node\n",
    "\n",
    "1.下载nvm\n",
    "\n",
    "```bash\n",
    "curl -o- https://raw.githubusercontent.com/nvm-sh/nvm/v0.35.3/install.sh\n",
    "```\n",
    "\n",
    "> 下载完成后需要让命令生效\n",
    "> source .bashrc\n",
    "\n",
    "2.列出远程可下载版本\n",
    "\n",
    "```bash\n",
    "nvm list-remote\n",
    "```\n",
    "\n",
    "3.安装相应的版本\n",
    "\n",
    "```bash\n",
    "nvm install v16.8.0\n",
    "```\n",
    "\n",
    "4.查看已安装的版本\n",
    "\n",
    "```bash\n",
    "nvm list\n",
    "```\n",
    "\n",
    "5.切换版本\n",
    "\n",
    "```bash\n",
    "nvm use v16.8.0\n",
    "```\n",
    "\n",
    "mac 安装 nvm 也很简单\n",
    "\n",
    "```bash\n",
    "brew install nvm # 再按照提示配置即可\n",
    "```\n",
    "\n",
    "这种方式，安装yarn\n",
    "\n",
    "```bash\n",
    "sudo npm install -g yarn\n",
    "```\n",
    "\n",
    "### 二、dnf安装Node\n",
    "\n",
    "查看可安装node版本\n",
    "> sudo dnf module list nodejs\n",
    "\n",
    "node安装\n",
    "> sudo dnf install nodejs\n",
    "\n",
    "yarn安装\n",
    "\n",
    "> curl -o- -L <https://yarnpkg.com/install.sh> | bash\n",
    "\n",
    "```bash\n",
    "# 写入.bashrc 文件\n",
    "export PATH=\"$HOME/.yarn/bin:$HOME/.config/yarn/global/node_modules/.bin:$PATH\"\n",
    "```\n",
    "\n",
    "> source .bashrc"
   ],
   "metadata": {}
  }
 ],
 "metadata": {
  "kernelspec": {
   "name": "python3",
   "display_name": "Python 3.9.6 64-bit ('py39': conda)"
  },
  "language_info": {
   "codemirror_mode": {
    "name": "ipython",
    "version": 3
   },
   "file_extension": ".py",
   "mimetype": "text/x-python",
   "name": "python",
   "nbconvert_exporter": "python",
   "pygments_lexer": "ipython3",
   "version": "3.9.6"
  },
  "widgets": {
   "application/vnd.jupyter.widget-state+json": {
    "state": {},
    "version_major": 2,
    "version_minor": 0
   }
  },
  "interpreter": {
   "hash": "572327d4ce217dad388f18729dd163149eb848d32b5abea34e3d86de275470cb"
  }
 },
 "nbformat": 4,
 "nbformat_minor": 4
}