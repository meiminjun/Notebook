{
 "cells": [
  {
   "cell_type": "markdown",
   "source": [
    "# Node 深入浅出"
   ],
   "metadata": {}
  },
  {
   "cell_type": "markdown",
   "source": [
    "## node 的安装\n",
    "\n",
    "### brew 安装\n",
    "\n",
    "```bash\n",
    "brew install node\n",
    "```\n",
    "\n",
    "### nvm 最常用命令\n",
    "\n",
    "> ```bash\n",
    "> nvm list-remote\n",
    "> nvm list // 查看已经安装\n",
    "> nvm install v16.9.0 // 安装指定版本\n",
    "> nvm use v16.9.0 // 使用指定版本node\n",
    "> nvm uninstall v16.9.0 // 卸载node\n",
    "> nvm alias default v11.0.0 // 设置默认版本\n",
    "\n",
    "### linux nvm 安装\n",
    "\n",
    "> ```bash\n",
    "> curl -o- https://raw.githubusercontent.com/creationix/nvm/v0.33.11/install.sh | bash\n",
    ">```\n",
    "\n",
    "### mac nvm 安装\n",
    "\n",
    "> brew install nvm\n"
   ],
   "metadata": {}
  }
 ],
 "metadata": {
  "orig_nbformat": 4,
  "language_info": {
   "name": "python",
   "version": "3.9.6"
  },
  "kernelspec": {
   "name": "python3",
   "display_name": "Python 3.9.6 64-bit ('py39': conda)"
  },
  "interpreter": {
   "hash": "572327d4ce217dad388f18729dd163149eb848d32b5abea34e3d86de275470cb"
  }
 },
 "nbformat": 4,
 "nbformat_minor": 2
}