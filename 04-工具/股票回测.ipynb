{
 "cells": [
  {
   "cell_type": "markdown",
   "metadata": {},
   "source": [
    "# 股票回测"
   ]
  },
  {
   "cell_type": "code",
   "execution_count": 57,
   "metadata": {},
   "outputs": [
    {
     "name": "stdout",
     "output_type": "stream",
     "text": [
      "本金1: 100\n",
      "持仓： 100.0\n",
      "本金1: 100.0\n",
      "持仓： 200.0\n",
      "本金2: 200.0\n",
      "本金1: 200.0\n",
      "持仓： 400.0\n",
      "本金2: 400.0\n",
      "本金1: 400.0\n",
      "持仓： 800.0\n",
      "本金2: 800.0\n",
      "本金1: 800.0\n",
      "持仓： 1600.0\n",
      "本金2: 1600.0\n",
      "[100, 200.0, 400.0, 800.0, 1600.0]\n",
      "None\n",
      "+--------+--------+-------+--------+-------+----------+--------+--------+\n",
      "|  本金  |  涨跌  |  收益 |  剩余  |  加仓 | 加仓金额 |  持仓  |  总计  |\n",
      "+--------+--------+-------+--------+-------+----------+--------+--------+\n",
      "| 1600.0 | -50.0% | 400.0 | 1200.0 | 50.0% |  400.0   | 1600.0 | 1200.0 |\n",
      "+--------+--------+-------+--------+-------+----------+--------+--------+\n"
     ]
    }
   ],
   "source": [
    "from prettytable import PrettyTable\n",
    "import numpy as np\n",
    "import pandas as pd\n",
    "table = PrettyTable()\n",
    "\n",
    "\n",
    "# 先模拟相关数据找出规律\n",
    "\n",
    "money = 100 # 本金\n",
    "zhangdie = -0.5 # 涨跌幅\n",
    "jiacang = 0.5  # 加仓比例\n",
    "# 返回剩余和收益多少钱\n",
    "\n",
    "\n",
    "def get_shengyu(m, zd):\n",
    "  shouyi = m * zd\n",
    "  shengyu = money + shouyi\n",
    "  # jiacang = 0.5  # 加仓比例\n",
    "  # chicang = shengyu + money * jiacang  # 目前持仓\n",
    "  # zongjine = money + money*jiacang\n",
    "  return shengyu, shouyi\n",
    "\n",
    "# shouyi = money * zhangdie\n",
    "# shengyu = money + shouyi\n",
    "\n",
    "def get_cc_total(m,shengyu, jc):\n",
    "  jc_money = m * jc\n",
    "  chicang = shengyu + m * jc  # 目前持仓\n",
    "  zongjine = m + m*jc\n",
    "  return chicang, zongjine, jc_money\n",
    "\n",
    "shengyu, shouyi = get_shengyu(money, zhangdie)\n",
    "chicang, zongjine, jc_money = get_cc_total(money, shengyu, jiacang)\n",
    "\n",
    "# print('加仓金额', jc_money)\n",
    "\n",
    "zhangdiefu = [-0.5, 0.5, 0.5, 0.5, 0.5]\n",
    "jiacang_arr = []\n",
    "benjin_arr = [100]\n",
    "shouyi_arr = []\n",
    "shengyu_arr = []\n",
    "jc_arr = []\n",
    "jc_money_arr = []\n",
    "zongjine_arr = []\n",
    "chicang_arr = []\n",
    "\n",
    "for key,value in enumerate(zhangdiefu):\n",
    "  print('本金1:',money)\n",
    "  jiacang_arr.append(jiacang)\n",
    "  # print(key)\n",
    "  # print(type(key))\n",
    "  # print(benjin_arr)\n",
    "  # benjin = benjin_arr[key]\n",
    "  shengyu, shouyi = get_shengyu(money, value)\n",
    "  chicang, zongjine, jc_money = get_cc_total(money, shengyu, jiacang)  \n",
    "  print('持仓：', chicang)\n",
    "  money = chicang\n",
    "  if (key > 0):\n",
    "    print('本金2:', money)\n",
    "    benjin_arr.append(money)\n",
    "    continue;\n",
    "  shengyu_arr.append(shengyu)\n",
    "  shouyi_arr.append(shouyi)\n",
    "  chicang_arr.append(chicang)\n",
    "  zongjine_arr.append(zongjine)\n",
    "  jc_money_arr.append(jc_money)\n",
    "\n",
    "# length = len(zhangdiefu)\n",
    "print(print(benjin_arr))\n",
    "# benjin_arr = np.zeros(length)\n",
    "# data = {\n",
    "#   '本金': benjin_arr,\n",
    "#   '涨跌幅': zhangdiefu,\n",
    "#   '剩余': shengyu_arr,\n",
    "#   '加仓': jiacang_arr, # 回测变量\n",
    "#   '加仓金额': jc_money_arr,  # 回测变量\n",
    "#   '持仓': chicang_arr,\n",
    "#   '总金额': zongjine_arr\n",
    "# }\n",
    "\n",
    "# df = pd.DataFrame(data)\n",
    "\n",
    "# print(df)\n",
    "\n",
    "table.add_column('本金', [money])\n",
    "table.add_column('涨跌', [f'{zhangdie * 100}%'])\n",
    "table.add_column('收益', [shouyi])\n",
    "table.add_column('剩余', [shengyu])\n",
    "table.add_column('加仓', [f'{jiacang * 100}%'])\n",
    "table.add_column('加仓金额', [jc_money])\n",
    "table.add_column('持仓', [chicang])\n",
    "table.add_column('总计', [zongjine])\n",
    "print(table)\n",
    "\n",
    "\n",
    "\n",
    "# zhangdie_arr = np.array(zhangdiefu)\n",
    "# print(zhangdie_arr)\n",
    "# shengyu = money * zhangdie_arr\n"
   ]
  },
  {
   "cell_type": "code",
   "execution_count": 54,
   "metadata": {},
   "outputs": [
    {
     "name": "stdout",
     "output_type": "stream",
     "text": [
      "<class 'int'>\n",
      "100\n"
     ]
    }
   ],
   "source": [
    "benjin_arr = [100]\n",
    "key = 0\n",
    "print(type(key))\n",
    "print(benjin_arr[key])"
   ]
  }
 ],
 "metadata": {
  "interpreter": {
   "hash": "dbc1128b55dfe7674910d9dec9178b9135ab71c646c7080f47e59389499c8905"
  },
  "kernelspec": {
   "display_name": "Python 3.9.6 64-bit ('py39': conda)",
   "name": "python3"
  },
  "language_info": {
   "codemirror_mode": {
    "name": "ipython",
    "version": 3
   },
   "file_extension": ".py",
   "mimetype": "text/x-python",
   "name": "python",
   "nbconvert_exporter": "python",
   "pygments_lexer": "ipython3",
   "version": "3.9.6"
  },
  "orig_nbformat": 4
 },
 "nbformat": 4,
 "nbformat_minor": 2
}
